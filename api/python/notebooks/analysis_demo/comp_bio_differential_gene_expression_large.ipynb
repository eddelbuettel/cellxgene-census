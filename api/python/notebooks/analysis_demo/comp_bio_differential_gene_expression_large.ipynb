{
 "cells": [
  {
   "cell_type": "markdown",
   "metadata": {},
   "source": [
    "# Querying and fetching data from the Cell Census\n",
    "\n",
    "The Cell Census is a versioned container for the single-cell data hosted at [CELLxGENE Discover](https://cellxgene.cziscience.com/). The Cell Census utilizes [SOMA](https://github.com/single-cell-data/SOMA/blob/main/abstract_specification.md) powered by [TileDB](https://tiledb.com/products/tiledb-embedded) for storing, accessing, and efficiently filtering data.\n",
    "\n",
    "TBD\n",
    "\n",
    "# Contents\n",
    "TBD\n",
    "\n",
    "## Opening the census\n",
    "\n",
    "The `cell_census` python package contains a convenient API to open the latest version of the Cell Census."
   ]
  },
  {
   "cell_type": "code",
   "execution_count": 2,
   "metadata": {
    "execution": {
     "iopub.execute_input": "2023-01-31T22:02:00.861667Z",
     "iopub.status.busy": "2023-01-31T22:02:00.861519Z",
     "iopub.status.idle": "2023-01-31T22:02:01.623294Z",
     "shell.execute_reply": "2023-01-31T22:02:01.622222Z"
    }
   },
   "outputs": [],
   "source": [
    "import cell_census\n",
    "import numpy as np\n",
    "import memento\n",
    "\n",
    "census = cell_census.open_soma()"
   ]
  },
  {
   "cell_type": "markdown",
   "metadata": {},
   "source": [
    "You can learn more about the `cell_census` methods by accessing their corresponding documentation via `help()`. For example `help(cell_census.open_soma)`."
   ]
  },
  {
   "cell_type": "markdown",
   "metadata": {},
   "source": [
    "Getting dataset of interest"
   ]
  },
  {
   "cell_type": "code",
   "execution_count": 10,
   "metadata": {},
   "outputs": [],
   "source": [
    "# Tabula muris senis 10x liver\n",
    "dataset_title = \"All major cell types in adult human retina\"\n",
    "\n",
    "# Getting the joinid and dataset id\n",
    "datasets = census[\"census_info\"][\"datasets\"].read(value_filter = f\"dataset_title == '{dataset_title}'\").concat().to_pandas()\n",
    "dataset_joinid = list(datasets[\"soma_joinid\"])\n",
    "datasset_interest_id = datasets[\"dataset_id\"][0]"
   ]
  },
  {
   "cell_type": "markdown",
   "metadata": {},
   "source": [
    "Get measured genes in dataset"
   ]
  },
  {
   "cell_type": "code",
   "execution_count": 6,
   "metadata": {},
   "outputs": [],
   "source": [
    "presence_matrix = cell_census.get_presence_matrix(census, organism=\"Homo sapiens\", measurement_name=\"RNA\")\n",
    "dataset_presnence = presence_matrix[dataset_joinid,]\n",
    "\n",
    "gene_joinid = np.nonzero(dataset_presnence.sum(axis=0).A1 == dataset_presnence.shape[0])[0].tolist()"
   ]
  },
  {
   "cell_type": "markdown",
   "metadata": {},
   "source": [
    "Get anndata"
   ]
  },
  {
   "cell_type": "code",
   "execution_count": 11,
   "metadata": {
    "execution": {
     "iopub.execute_input": "2023-01-31T22:02:18.867517Z",
     "iopub.status.busy": "2023-01-31T22:02:18.867359Z",
     "iopub.status.idle": "2023-01-31T22:02:29.964545Z",
     "shell.execute_reply": "2023-01-31T22:02:29.962747Z"
    }
   },
   "outputs": [],
   "source": [
    "adata = cell_census.get_anndata(\n",
    "    census=census,\n",
    "    organism=\"Homo sapiens\",\n",
    "    var_coords= gene_joinid,\n",
    "    obs_value_filter=f\"dataset_id == '{datasset_interest_id}'\",\n",
    ")"
   ]
  },
  {
   "cell_type": "code",
   "execution_count": 16,
   "metadata": {},
   "outputs": [],
   "source": [
    "adata.var_names = adata.var[\"feature_name\"]"
   ]
  },
  {
   "cell_type": "markdown",
   "metadata": {},
   "source": [
    "Let's do a 1-vs-all comparison for Kupffer cells. "
   ]
  },
  {
   "cell_type": "code",
   "execution_count": 35,
   "metadata": {},
   "outputs": [
    {
     "data": {
      "text/plain": [
       "0       0\n",
       "1       0\n",
       "2       0\n",
       "3       0\n",
       "4       0\n",
       "       ..\n",
       "7289    0\n",
       "7290    0\n",
       "7291    0\n",
       "7292    0\n",
       "7293    0\n",
       "Name: differential_grouping, Length: 7294, dtype: int64"
      ]
     },
     "execution_count": 35,
     "metadata": {},
     "output_type": "execute_result"
    }
   ],
   "source": [
    "#adata.obs[\"differential_grouping\"] = adata.obs.cell_type == \"Kupffer cell\"\n",
    "#adata.obs[\"differential_grouping\"] = adata.obs[\"differential_grouping\"] * 1 "
   ]
  },
  {
   "cell_type": "markdown",
   "metadata": {},
   "source": [
    "Run memento"
   ]
  },
  {
   "cell_type": "code",
   "execution_count": 39,
   "metadata": {},
   "outputs": [
    {
     "ename": "KeyboardInterrupt",
     "evalue": "",
     "output_type": "error",
     "traceback": [
      "\u001b[0;31m---------------------------------------------------------------------------\u001b[0m",
      "\u001b[0;31mKeyboardInterrupt\u001b[0m                         Traceback (most recent call last)",
      "Cell \u001b[0;32mIn[39], line 1\u001b[0m\n\u001b[0;32m----> 1\u001b[0m differential_exp_results \u001b[38;5;241m=\u001b[39m \u001b[43mmemento\u001b[49m\u001b[38;5;241;43m.\u001b[39;49m\u001b[43mbinary_test_1d\u001b[49m\u001b[43m(\u001b[49m\n\u001b[1;32m      2\u001b[0m \u001b[43m    \u001b[49m\u001b[43madata\u001b[49m\u001b[38;5;241;43m=\u001b[39;49m\u001b[43madata\u001b[49m\u001b[43m,\u001b[49m\u001b[43m \u001b[49m\n\u001b[1;32m      3\u001b[0m \u001b[43m    \u001b[49m\u001b[43mcapture_rate\u001b[49m\u001b[38;5;241;43m=\u001b[39;49m\u001b[38;5;241;43m0.07\u001b[39;49m\u001b[43m,\u001b[49m\u001b[43m \u001b[49m\n\u001b[1;32m      4\u001b[0m \u001b[43m    \u001b[49m\u001b[43mtreatment_col\u001b[49m\u001b[38;5;241;43m=\u001b[39;49m\u001b[38;5;124;43m'\u001b[39;49m\u001b[38;5;124;43mdifferential_grouping\u001b[39;49m\u001b[38;5;124;43m'\u001b[39;49m\u001b[43m,\u001b[49m\u001b[43m \u001b[49m\n\u001b[1;32m      5\u001b[0m \u001b[43m    \u001b[49m\u001b[43mnum_cpus\u001b[49m\u001b[38;5;241;43m=\u001b[39;49m\u001b[38;5;241;43m2\u001b[39;49m\u001b[43m,\u001b[49m\n\u001b[1;32m      6\u001b[0m \u001b[43m    \u001b[49m\u001b[43mnum_boot\u001b[49m\u001b[38;5;241;43m=\u001b[39;49m\u001b[38;5;241;43m500\u001b[39;49m\u001b[43m)\u001b[49m\n",
      "File \u001b[0;32m~/opt/miniconda3/envs/census_latest/lib/python3.10/site-packages/memento/wrappers.py:88\u001b[0m, in \u001b[0;36mbinary_test_1d\u001b[0;34m(adata, capture_rate, treatment_col, num_cpus, num_boot, verbose, replicates, covariate)\u001b[0m\n\u001b[1;32m     86\u001b[0m \tmemento\u001b[38;5;241m.\u001b[39mcompute_1d_moments(adata, min_perc_group\u001b[38;5;241m=\u001b[39m\u001b[38;5;241m.9\u001b[39m)\n\u001b[1;32m     87\u001b[0m \tsample_meta \u001b[38;5;241m=\u001b[39m memento\u001b[38;5;241m.\u001b[39mget_groups(adata)[[treatment_col]]\n\u001b[0;32m---> 88\u001b[0m \t\u001b[43mmemento\u001b[49m\u001b[38;5;241;43m.\u001b[39;49m\u001b[43mht_1d_moments\u001b[49m\u001b[43m(\u001b[49m\n\u001b[1;32m     89\u001b[0m \u001b[43m\t\t\u001b[49m\u001b[43madata\u001b[49m\u001b[43m,\u001b[49m\u001b[43m \u001b[49m\n\u001b[1;32m     90\u001b[0m \u001b[43m\t\t\u001b[49m\u001b[43mtreatment\u001b[49m\u001b[38;5;241;43m=\u001b[39;49m\u001b[43msample_meta\u001b[49m\u001b[43m,\u001b[49m\n\u001b[1;32m     91\u001b[0m \u001b[43m\t\t\u001b[49m\u001b[43mnum_boot\u001b[49m\u001b[38;5;241;43m=\u001b[39;49m\u001b[43mnum_boot\u001b[49m\u001b[43m,\u001b[49m\u001b[43m \u001b[49m\n\u001b[1;32m     92\u001b[0m \u001b[43m\t\t\u001b[49m\u001b[43mverbose\u001b[49m\u001b[38;5;241;43m=\u001b[39;49m\u001b[43mverbose\u001b[49m\u001b[43m,\u001b[49m\n\u001b[1;32m     93\u001b[0m \u001b[43m\t\t\u001b[49m\u001b[43mnum_cpus\u001b[49m\u001b[38;5;241;43m=\u001b[39;49m\u001b[43mnum_cpus\u001b[49m\u001b[43m,\u001b[49m\n\u001b[1;32m     94\u001b[0m \u001b[43m        \u001b[49m\u001b[43mcovariate\u001b[49m\u001b[38;5;241;43m=\u001b[39;49m\u001b[43mcovariate\u001b[49m\u001b[43m)\u001b[49m\n\u001b[1;32m     95\u001b[0m \tresult_1d \u001b[38;5;241m=\u001b[39m memento\u001b[38;5;241m.\u001b[39mget_1d_ht_result(adata)\n\u001b[1;32m     96\u001b[0m \t\u001b[38;5;28;01mreturn\u001b[39;00m result_1d\n",
      "File \u001b[0;32m~/opt/miniconda3/envs/census_latest/lib/python3.10/site-packages/memento/main.py:410\u001b[0m, in \u001b[0;36mht_1d_moments\u001b[0;34m(adata, treatment, covariate, treatment_for_gene, covariate_for_gene, inplace, num_boot, verbose, num_cpus, **kwargs)\u001b[0m\n\u001b[1;32m    402\u001b[0m ht_funcs \u001b[38;5;241m=\u001b[39m []\n\u001b[1;32m    403\u001b[0m \u001b[38;5;28;01mfor\u001b[39;00m idx \u001b[38;5;129;01min\u001b[39;00m \u001b[38;5;28mrange\u001b[39m(\u001b[38;5;28mlen\u001b[39m(test_genes)):\n\u001b[1;32m    405\u001b[0m \tht_funcs\u001b[38;5;241m.\u001b[39mappend(\n\u001b[1;32m    406\u001b[0m \t\tpartial(\n\u001b[1;32m    407\u001b[0m \t\t\thypothesis_test\u001b[38;5;241m.\u001b[39m_ht_1d,\n\u001b[1;32m    408\u001b[0m \t\t\ttrue_mean\u001b[38;5;241m=\u001b[39m[adata\u001b[38;5;241m.\u001b[39muns[\u001b[38;5;124m'\u001b[39m\u001b[38;5;124mmemento\u001b[39m\u001b[38;5;124m'\u001b[39m][\u001b[38;5;124m'\u001b[39m\u001b[38;5;124m1d_moments\u001b[39m\u001b[38;5;124m'\u001b[39m][group][\u001b[38;5;241m0\u001b[39m][idx] \u001b[38;5;28;01mfor\u001b[39;00m group \u001b[38;5;129;01min\u001b[39;00m adata\u001b[38;5;241m.\u001b[39muns[\u001b[38;5;124m'\u001b[39m\u001b[38;5;124mmemento\u001b[39m\u001b[38;5;124m'\u001b[39m][\u001b[38;5;124m'\u001b[39m\u001b[38;5;124mgroups\u001b[39m\u001b[38;5;124m'\u001b[39m]],\n\u001b[1;32m    409\u001b[0m \t\t\ttrue_res_var\u001b[38;5;241m=\u001b[39m[adata\u001b[38;5;241m.\u001b[39muns[\u001b[38;5;124m'\u001b[39m\u001b[38;5;124mmemento\u001b[39m\u001b[38;5;124m'\u001b[39m][\u001b[38;5;124m'\u001b[39m\u001b[38;5;124m1d_moments\u001b[39m\u001b[38;5;124m'\u001b[39m][group][\u001b[38;5;241m2\u001b[39m][idx] \u001b[38;5;28;01mfor\u001b[39;00m group \u001b[38;5;129;01min\u001b[39;00m adata\u001b[38;5;241m.\u001b[39muns[\u001b[38;5;124m'\u001b[39m\u001b[38;5;124mmemento\u001b[39m\u001b[38;5;124m'\u001b[39m][\u001b[38;5;124m'\u001b[39m\u001b[38;5;124mgroups\u001b[39m\u001b[38;5;124m'\u001b[39m]],\n\u001b[0;32m--> 410\u001b[0m \t\t\tcells\u001b[38;5;241m=\u001b[39m[adata\u001b[38;5;241m.\u001b[39muns[\u001b[38;5;124m'\u001b[39m\u001b[38;5;124mmemento\u001b[39m\u001b[38;5;124m'\u001b[39m][\u001b[38;5;124m'\u001b[39m\u001b[38;5;124mgroup_cells\u001b[39m\u001b[38;5;124m'\u001b[39m][group][:, idx] \u001b[38;5;28;01mfor\u001b[39;00m group \u001b[38;5;129;01min\u001b[39;00m adata\u001b[38;5;241m.\u001b[39muns[\u001b[38;5;124m'\u001b[39m\u001b[38;5;124mmemento\u001b[39m\u001b[38;5;124m'\u001b[39m][\u001b[38;5;124m'\u001b[39m\u001b[38;5;124mgroups\u001b[39m\u001b[38;5;124m'\u001b[39m]],\n\u001b[1;32m    411\u001b[0m \t\t\tapprox_sf\u001b[38;5;241m=\u001b[39m[adata\u001b[38;5;241m.\u001b[39muns[\u001b[38;5;124m'\u001b[39m\u001b[38;5;124mmemento\u001b[39m\u001b[38;5;124m'\u001b[39m][\u001b[38;5;124m'\u001b[39m\u001b[38;5;124mapprox_size_factor\u001b[39m\u001b[38;5;124m'\u001b[39m][group] \u001b[38;5;28;01mfor\u001b[39;00m group \u001b[38;5;129;01min\u001b[39;00m adata\u001b[38;5;241m.\u001b[39muns[\u001b[38;5;124m'\u001b[39m\u001b[38;5;124mmemento\u001b[39m\u001b[38;5;124m'\u001b[39m][\u001b[38;5;124m'\u001b[39m\u001b[38;5;124mgroups\u001b[39m\u001b[38;5;124m'\u001b[39m]],\n\u001b[1;32m    412\u001b[0m \t\t\tcovariate\u001b[38;5;241m=\u001b[39mcovariate\u001b[38;5;241m.\u001b[39mvalues \u001b[38;5;28;01mif\u001b[39;00m covariate_for_gene \u001b[38;5;129;01mis\u001b[39;00m \u001b[38;5;28;01mNone\u001b[39;00m \u001b[38;5;28;01melse\u001b[39;00m covariate[covariate_for_gene[test_genes[idx]]]\u001b[38;5;241m.\u001b[39mvalues,\n\u001b[1;32m    413\u001b[0m \t\t\ttreatment\u001b[38;5;241m=\u001b[39mtreatment\u001b[38;5;241m.\u001b[39mvalues \u001b[38;5;28;01mif\u001b[39;00m treatment_for_gene \u001b[38;5;129;01mis\u001b[39;00m \u001b[38;5;28;01mNone\u001b[39;00m \u001b[38;5;28;01melse\u001b[39;00m treatment[treatment_for_gene[test_genes[idx]]]\u001b[38;5;241m.\u001b[39mvalues,\n\u001b[1;32m    414\u001b[0m \t\t\tNc_list\u001b[38;5;241m=\u001b[39mNc_list,\n\u001b[1;32m    415\u001b[0m \t\t\tnum_boot\u001b[38;5;241m=\u001b[39mnum_boot,\n\u001b[1;32m    416\u001b[0m \t\t\tmv_fit\u001b[38;5;241m=\u001b[39m[adata\u001b[38;5;241m.\u001b[39muns[\u001b[38;5;124m'\u001b[39m\u001b[38;5;124mmemento\u001b[39m\u001b[38;5;124m'\u001b[39m][\u001b[38;5;124m'\u001b[39m\u001b[38;5;124mmv_regressor\u001b[39m\u001b[38;5;124m'\u001b[39m][group] \u001b[38;5;28;01mfor\u001b[39;00m group \u001b[38;5;129;01min\u001b[39;00m adata\u001b[38;5;241m.\u001b[39muns[\u001b[38;5;124m'\u001b[39m\u001b[38;5;124mmemento\u001b[39m\u001b[38;5;124m'\u001b[39m][\u001b[38;5;124m'\u001b[39m\u001b[38;5;124mgroups\u001b[39m\u001b[38;5;124m'\u001b[39m]],\n\u001b[1;32m    417\u001b[0m \t\t\tq\u001b[38;5;241m=\u001b[39m[adata\u001b[38;5;241m.\u001b[39muns[\u001b[38;5;124m'\u001b[39m\u001b[38;5;124mmemento\u001b[39m\u001b[38;5;124m'\u001b[39m][\u001b[38;5;124m'\u001b[39m\u001b[38;5;124mgroup_q\u001b[39m\u001b[38;5;124m'\u001b[39m][group] \u001b[38;5;28;01mfor\u001b[39;00m group \u001b[38;5;129;01min\u001b[39;00m adata\u001b[38;5;241m.\u001b[39muns[\u001b[38;5;124m'\u001b[39m\u001b[38;5;124mmemento\u001b[39m\u001b[38;5;124m'\u001b[39m][\u001b[38;5;124m'\u001b[39m\u001b[38;5;124mgroups\u001b[39m\u001b[38;5;124m'\u001b[39m]],\n\u001b[1;32m    418\u001b[0m \t\t\t_estimator_1d\u001b[38;5;241m=\u001b[39mestimator\u001b[38;5;241m.\u001b[39m_get_estimator_1d(adata\u001b[38;5;241m.\u001b[39muns[\u001b[38;5;124m'\u001b[39m\u001b[38;5;124mmemento\u001b[39m\u001b[38;5;124m'\u001b[39m][\u001b[38;5;124m'\u001b[39m\u001b[38;5;124mestimator_type\u001b[39m\u001b[38;5;124m'\u001b[39m]),\n\u001b[1;32m    419\u001b[0m \t\t\t\u001b[38;5;241m*\u001b[39m\u001b[38;5;241m*\u001b[39mkwargs))\n\u001b[1;32m    421\u001b[0m results \u001b[38;5;241m=\u001b[39m Parallel(n_jobs\u001b[38;5;241m=\u001b[39mnum_cpus, verbose\u001b[38;5;241m=\u001b[39mverbose)(delayed(func)() \u001b[38;5;28;01mfor\u001b[39;00m func \u001b[38;5;129;01min\u001b[39;00m ht_funcs)\n\u001b[1;32m    423\u001b[0m ci \u001b[38;5;241m=\u001b[39m \u001b[38;5;241m0\u001b[39m\n",
      "File \u001b[0;32m~/opt/miniconda3/envs/census_latest/lib/python3.10/site-packages/memento/main.py:410\u001b[0m, in \u001b[0;36m<listcomp>\u001b[0;34m(.0)\u001b[0m\n\u001b[1;32m    402\u001b[0m ht_funcs \u001b[38;5;241m=\u001b[39m []\n\u001b[1;32m    403\u001b[0m \u001b[38;5;28;01mfor\u001b[39;00m idx \u001b[38;5;129;01min\u001b[39;00m \u001b[38;5;28mrange\u001b[39m(\u001b[38;5;28mlen\u001b[39m(test_genes)):\n\u001b[1;32m    405\u001b[0m \tht_funcs\u001b[38;5;241m.\u001b[39mappend(\n\u001b[1;32m    406\u001b[0m \t\tpartial(\n\u001b[1;32m    407\u001b[0m \t\t\thypothesis_test\u001b[38;5;241m.\u001b[39m_ht_1d,\n\u001b[1;32m    408\u001b[0m \t\t\ttrue_mean\u001b[38;5;241m=\u001b[39m[adata\u001b[38;5;241m.\u001b[39muns[\u001b[38;5;124m'\u001b[39m\u001b[38;5;124mmemento\u001b[39m\u001b[38;5;124m'\u001b[39m][\u001b[38;5;124m'\u001b[39m\u001b[38;5;124m1d_moments\u001b[39m\u001b[38;5;124m'\u001b[39m][group][\u001b[38;5;241m0\u001b[39m][idx] \u001b[38;5;28;01mfor\u001b[39;00m group \u001b[38;5;129;01min\u001b[39;00m adata\u001b[38;5;241m.\u001b[39muns[\u001b[38;5;124m'\u001b[39m\u001b[38;5;124mmemento\u001b[39m\u001b[38;5;124m'\u001b[39m][\u001b[38;5;124m'\u001b[39m\u001b[38;5;124mgroups\u001b[39m\u001b[38;5;124m'\u001b[39m]],\n\u001b[1;32m    409\u001b[0m \t\t\ttrue_res_var\u001b[38;5;241m=\u001b[39m[adata\u001b[38;5;241m.\u001b[39muns[\u001b[38;5;124m'\u001b[39m\u001b[38;5;124mmemento\u001b[39m\u001b[38;5;124m'\u001b[39m][\u001b[38;5;124m'\u001b[39m\u001b[38;5;124m1d_moments\u001b[39m\u001b[38;5;124m'\u001b[39m][group][\u001b[38;5;241m2\u001b[39m][idx] \u001b[38;5;28;01mfor\u001b[39;00m group \u001b[38;5;129;01min\u001b[39;00m adata\u001b[38;5;241m.\u001b[39muns[\u001b[38;5;124m'\u001b[39m\u001b[38;5;124mmemento\u001b[39m\u001b[38;5;124m'\u001b[39m][\u001b[38;5;124m'\u001b[39m\u001b[38;5;124mgroups\u001b[39m\u001b[38;5;124m'\u001b[39m]],\n\u001b[0;32m--> 410\u001b[0m \t\t\tcells\u001b[38;5;241m=\u001b[39m[\u001b[43madata\u001b[49m\u001b[38;5;241;43m.\u001b[39;49m\u001b[43muns\u001b[49m\u001b[43m[\u001b[49m\u001b[38;5;124;43m'\u001b[39;49m\u001b[38;5;124;43mmemento\u001b[39;49m\u001b[38;5;124;43m'\u001b[39;49m\u001b[43m]\u001b[49m\u001b[43m[\u001b[49m\u001b[38;5;124;43m'\u001b[39;49m\u001b[38;5;124;43mgroup_cells\u001b[39;49m\u001b[38;5;124;43m'\u001b[39;49m\u001b[43m]\u001b[49m\u001b[43m[\u001b[49m\u001b[43mgroup\u001b[49m\u001b[43m]\u001b[49m\u001b[43m[\u001b[49m\u001b[43m:\u001b[49m\u001b[43m,\u001b[49m\u001b[43m \u001b[49m\u001b[43midx\u001b[49m\u001b[43m]\u001b[49m \u001b[38;5;28;01mfor\u001b[39;00m group \u001b[38;5;129;01min\u001b[39;00m adata\u001b[38;5;241m.\u001b[39muns[\u001b[38;5;124m'\u001b[39m\u001b[38;5;124mmemento\u001b[39m\u001b[38;5;124m'\u001b[39m][\u001b[38;5;124m'\u001b[39m\u001b[38;5;124mgroups\u001b[39m\u001b[38;5;124m'\u001b[39m]],\n\u001b[1;32m    411\u001b[0m \t\t\tapprox_sf\u001b[38;5;241m=\u001b[39m[adata\u001b[38;5;241m.\u001b[39muns[\u001b[38;5;124m'\u001b[39m\u001b[38;5;124mmemento\u001b[39m\u001b[38;5;124m'\u001b[39m][\u001b[38;5;124m'\u001b[39m\u001b[38;5;124mapprox_size_factor\u001b[39m\u001b[38;5;124m'\u001b[39m][group] \u001b[38;5;28;01mfor\u001b[39;00m group \u001b[38;5;129;01min\u001b[39;00m adata\u001b[38;5;241m.\u001b[39muns[\u001b[38;5;124m'\u001b[39m\u001b[38;5;124mmemento\u001b[39m\u001b[38;5;124m'\u001b[39m][\u001b[38;5;124m'\u001b[39m\u001b[38;5;124mgroups\u001b[39m\u001b[38;5;124m'\u001b[39m]],\n\u001b[1;32m    412\u001b[0m \t\t\tcovariate\u001b[38;5;241m=\u001b[39mcovariate\u001b[38;5;241m.\u001b[39mvalues \u001b[38;5;28;01mif\u001b[39;00m covariate_for_gene \u001b[38;5;129;01mis\u001b[39;00m \u001b[38;5;28;01mNone\u001b[39;00m \u001b[38;5;28;01melse\u001b[39;00m covariate[covariate_for_gene[test_genes[idx]]]\u001b[38;5;241m.\u001b[39mvalues,\n\u001b[1;32m    413\u001b[0m \t\t\ttreatment\u001b[38;5;241m=\u001b[39mtreatment\u001b[38;5;241m.\u001b[39mvalues \u001b[38;5;28;01mif\u001b[39;00m treatment_for_gene \u001b[38;5;129;01mis\u001b[39;00m \u001b[38;5;28;01mNone\u001b[39;00m \u001b[38;5;28;01melse\u001b[39;00m treatment[treatment_for_gene[test_genes[idx]]]\u001b[38;5;241m.\u001b[39mvalues,\n\u001b[1;32m    414\u001b[0m \t\t\tNc_list\u001b[38;5;241m=\u001b[39mNc_list,\n\u001b[1;32m    415\u001b[0m \t\t\tnum_boot\u001b[38;5;241m=\u001b[39mnum_boot,\n\u001b[1;32m    416\u001b[0m \t\t\tmv_fit\u001b[38;5;241m=\u001b[39m[adata\u001b[38;5;241m.\u001b[39muns[\u001b[38;5;124m'\u001b[39m\u001b[38;5;124mmemento\u001b[39m\u001b[38;5;124m'\u001b[39m][\u001b[38;5;124m'\u001b[39m\u001b[38;5;124mmv_regressor\u001b[39m\u001b[38;5;124m'\u001b[39m][group] \u001b[38;5;28;01mfor\u001b[39;00m group \u001b[38;5;129;01min\u001b[39;00m adata\u001b[38;5;241m.\u001b[39muns[\u001b[38;5;124m'\u001b[39m\u001b[38;5;124mmemento\u001b[39m\u001b[38;5;124m'\u001b[39m][\u001b[38;5;124m'\u001b[39m\u001b[38;5;124mgroups\u001b[39m\u001b[38;5;124m'\u001b[39m]],\n\u001b[1;32m    417\u001b[0m \t\t\tq\u001b[38;5;241m=\u001b[39m[adata\u001b[38;5;241m.\u001b[39muns[\u001b[38;5;124m'\u001b[39m\u001b[38;5;124mmemento\u001b[39m\u001b[38;5;124m'\u001b[39m][\u001b[38;5;124m'\u001b[39m\u001b[38;5;124mgroup_q\u001b[39m\u001b[38;5;124m'\u001b[39m][group] \u001b[38;5;28;01mfor\u001b[39;00m group \u001b[38;5;129;01min\u001b[39;00m adata\u001b[38;5;241m.\u001b[39muns[\u001b[38;5;124m'\u001b[39m\u001b[38;5;124mmemento\u001b[39m\u001b[38;5;124m'\u001b[39m][\u001b[38;5;124m'\u001b[39m\u001b[38;5;124mgroups\u001b[39m\u001b[38;5;124m'\u001b[39m]],\n\u001b[1;32m    418\u001b[0m \t\t\t_estimator_1d\u001b[38;5;241m=\u001b[39mestimator\u001b[38;5;241m.\u001b[39m_get_estimator_1d(adata\u001b[38;5;241m.\u001b[39muns[\u001b[38;5;124m'\u001b[39m\u001b[38;5;124mmemento\u001b[39m\u001b[38;5;124m'\u001b[39m][\u001b[38;5;124m'\u001b[39m\u001b[38;5;124mestimator_type\u001b[39m\u001b[38;5;124m'\u001b[39m]),\n\u001b[1;32m    419\u001b[0m \t\t\t\u001b[38;5;241m*\u001b[39m\u001b[38;5;241m*\u001b[39mkwargs))\n\u001b[1;32m    421\u001b[0m results \u001b[38;5;241m=\u001b[39m Parallel(n_jobs\u001b[38;5;241m=\u001b[39mnum_cpus, verbose\u001b[38;5;241m=\u001b[39mverbose)(delayed(func)() \u001b[38;5;28;01mfor\u001b[39;00m func \u001b[38;5;129;01min\u001b[39;00m ht_funcs)\n\u001b[1;32m    423\u001b[0m ci \u001b[38;5;241m=\u001b[39m \u001b[38;5;241m0\u001b[39m\n",
      "File \u001b[0;32m~/opt/miniconda3/envs/census_latest/lib/python3.10/site-packages/scipy/sparse/_index.py:65\u001b[0m, in \u001b[0;36mIndexMixin.__getitem__\u001b[0;34m(self, key)\u001b[0m\n\u001b[1;32m     63\u001b[0m \u001b[38;5;28;01mif\u001b[39;00m \u001b[38;5;28misinstance\u001b[39m(col, INT_TYPES):\n\u001b[1;32m     64\u001b[0m     \u001b[38;5;28mself\u001b[39m\u001b[38;5;241m.\u001b[39m_raise_on_1d_array_slice()\n\u001b[0;32m---> 65\u001b[0m     \u001b[38;5;28;01mreturn\u001b[39;00m \u001b[38;5;28;43mself\u001b[39;49m\u001b[38;5;241;43m.\u001b[39;49m\u001b[43m_get_sliceXint\u001b[49m\u001b[43m(\u001b[49m\u001b[43mrow\u001b[49m\u001b[43m,\u001b[49m\u001b[43m \u001b[49m\u001b[43mcol\u001b[49m\u001b[43m)\u001b[49m\n\u001b[1;32m     66\u001b[0m \u001b[38;5;28;01melif\u001b[39;00m \u001b[38;5;28misinstance\u001b[39m(col, \u001b[38;5;28mslice\u001b[39m):\n\u001b[1;32m     67\u001b[0m     \u001b[38;5;28;01mif\u001b[39;00m row \u001b[38;5;241m==\u001b[39m \u001b[38;5;28mslice\u001b[39m(\u001b[38;5;28;01mNone\u001b[39;00m) \u001b[38;5;129;01mand\u001b[39;00m row \u001b[38;5;241m==\u001b[39m col:\n",
      "File \u001b[0;32m~/opt/miniconda3/envs/census_latest/lib/python3.10/site-packages/scipy/sparse/_csc.py:216\u001b[0m, in \u001b[0;36mcsc_matrix._get_sliceXint\u001b[0;34m(self, row, col)\u001b[0m\n\u001b[1;32m    214\u001b[0m \u001b[38;5;28;01mdef\u001b[39;00m \u001b[38;5;21m_get_sliceXint\u001b[39m(\u001b[38;5;28mself\u001b[39m, row, col):\n\u001b[1;32m    215\u001b[0m     \u001b[38;5;28;01mif\u001b[39;00m row\u001b[38;5;241m.\u001b[39mstep \u001b[38;5;129;01min\u001b[39;00m (\u001b[38;5;241m1\u001b[39m, \u001b[38;5;28;01mNone\u001b[39;00m):\n\u001b[0;32m--> 216\u001b[0m         \u001b[38;5;28;01mreturn\u001b[39;00m \u001b[38;5;28;43mself\u001b[39;49m\u001b[38;5;241;43m.\u001b[39;49m\u001b[43m_get_submatrix\u001b[49m\u001b[43m(\u001b[49m\u001b[43mmajor\u001b[49m\u001b[38;5;241;43m=\u001b[39;49m\u001b[43mcol\u001b[49m\u001b[43m,\u001b[49m\u001b[43m \u001b[49m\u001b[43mminor\u001b[49m\u001b[38;5;241;43m=\u001b[39;49m\u001b[43mrow\u001b[49m\u001b[43m,\u001b[49m\u001b[43m \u001b[49m\u001b[43mcopy\u001b[49m\u001b[38;5;241;43m=\u001b[39;49m\u001b[38;5;28;43;01mTrue\u001b[39;49;00m\u001b[43m)\u001b[49m\n\u001b[1;32m    217\u001b[0m     \u001b[38;5;28;01mreturn\u001b[39;00m \u001b[38;5;28mself\u001b[39m\u001b[38;5;241m.\u001b[39m_get_submatrix(major\u001b[38;5;241m=\u001b[39mcol)\u001b[38;5;241m.\u001b[39m_minor_slice(row)\n",
      "File \u001b[0;32m~/opt/miniconda3/envs/census_latest/lib/python3.10/site-packages/scipy/sparse/_compressed.py:814\u001b[0m, in \u001b[0;36m_cs_matrix._get_submatrix\u001b[0;34m(self, major, minor, copy)\u001b[0m\n\u001b[1;32m    810\u001b[0m indptr, indices, data \u001b[38;5;241m=\u001b[39m get_csr_submatrix(\n\u001b[1;32m    811\u001b[0m     M, N, \u001b[38;5;28mself\u001b[39m\u001b[38;5;241m.\u001b[39mindptr, \u001b[38;5;28mself\u001b[39m\u001b[38;5;241m.\u001b[39mindices, \u001b[38;5;28mself\u001b[39m\u001b[38;5;241m.\u001b[39mdata, i0, i1, j0, j1)\n\u001b[1;32m    813\u001b[0m shape \u001b[38;5;241m=\u001b[39m \u001b[38;5;28mself\u001b[39m\u001b[38;5;241m.\u001b[39m_swap((i1 \u001b[38;5;241m-\u001b[39m i0, j1 \u001b[38;5;241m-\u001b[39m j0))\n\u001b[0;32m--> 814\u001b[0m \u001b[38;5;28;01mreturn\u001b[39;00m \u001b[38;5;28;43mself\u001b[39;49m\u001b[38;5;241;43m.\u001b[39;49m\u001b[38;5;18;43m__class__\u001b[39;49m\u001b[43m(\u001b[49m\u001b[43m(\u001b[49m\u001b[43mdata\u001b[49m\u001b[43m,\u001b[49m\u001b[43m \u001b[49m\u001b[43mindices\u001b[49m\u001b[43m,\u001b[49m\u001b[43m \u001b[49m\u001b[43mindptr\u001b[49m\u001b[43m)\u001b[49m\u001b[43m,\u001b[49m\u001b[43m \u001b[49m\u001b[43mshape\u001b[49m\u001b[38;5;241;43m=\u001b[39;49m\u001b[43mshape\u001b[49m\u001b[43m,\u001b[49m\n\u001b[1;32m    815\u001b[0m \u001b[43m                      \u001b[49m\u001b[43mdtype\u001b[49m\u001b[38;5;241;43m=\u001b[39;49m\u001b[38;5;28;43mself\u001b[39;49m\u001b[38;5;241;43m.\u001b[39;49m\u001b[43mdtype\u001b[49m\u001b[43m,\u001b[49m\u001b[43m \u001b[49m\u001b[43mcopy\u001b[49m\u001b[38;5;241;43m=\u001b[39;49m\u001b[38;5;28;43;01mFalse\u001b[39;49;00m\u001b[43m)\u001b[49m\n",
      "File \u001b[0;32m~/opt/miniconda3/envs/census_latest/lib/python3.10/site-packages/scipy/sparse/_compressed.py:106\u001b[0m, in \u001b[0;36m_cs_matrix.__init__\u001b[0;34m(self, arg1, shape, dtype, copy)\u001b[0m\n\u001b[1;32m    103\u001b[0m \u001b[38;5;28;01mif\u001b[39;00m dtype \u001b[38;5;129;01mis\u001b[39;00m \u001b[38;5;129;01mnot\u001b[39;00m \u001b[38;5;28;01mNone\u001b[39;00m:\n\u001b[1;32m    104\u001b[0m     \u001b[38;5;28mself\u001b[39m\u001b[38;5;241m.\u001b[39mdata \u001b[38;5;241m=\u001b[39m \u001b[38;5;28mself\u001b[39m\u001b[38;5;241m.\u001b[39mdata\u001b[38;5;241m.\u001b[39mastype(dtype, copy\u001b[38;5;241m=\u001b[39m\u001b[38;5;28;01mFalse\u001b[39;00m)\n\u001b[0;32m--> 106\u001b[0m \u001b[38;5;28;43mself\u001b[39;49m\u001b[38;5;241;43m.\u001b[39;49m\u001b[43mcheck_format\u001b[49m\u001b[43m(\u001b[49m\u001b[43mfull_check\u001b[49m\u001b[38;5;241;43m=\u001b[39;49m\u001b[38;5;28;43;01mFalse\u001b[39;49;00m\u001b[43m)\u001b[49m\n",
      "File \u001b[0;32m~/opt/miniconda3/envs/census_latest/lib/python3.10/site-packages/scipy/sparse/_compressed.py:181\u001b[0m, in \u001b[0;36m_cs_matrix.check_format\u001b[0;34m(self, full_check)\u001b[0m\n\u001b[1;32m    177\u001b[0m \u001b[38;5;28;01mif\u001b[39;00m (\u001b[38;5;28mself\u001b[39m\u001b[38;5;241m.\u001b[39mindptr[\u001b[38;5;241m-\u001b[39m\u001b[38;5;241m1\u001b[39m] \u001b[38;5;241m>\u001b[39m \u001b[38;5;28mlen\u001b[39m(\u001b[38;5;28mself\u001b[39m\u001b[38;5;241m.\u001b[39mindices)):\n\u001b[1;32m    178\u001b[0m     \u001b[38;5;28;01mraise\u001b[39;00m \u001b[38;5;167;01mValueError\u001b[39;00m(\u001b[38;5;124m\"\u001b[39m\u001b[38;5;124mLast value of index pointer should be less than \u001b[39m\u001b[38;5;124m\"\u001b[39m\n\u001b[1;32m    179\u001b[0m                      \u001b[38;5;124m\"\u001b[39m\u001b[38;5;124mthe size of index and data arrays\u001b[39m\u001b[38;5;124m\"\u001b[39m)\n\u001b[0;32m--> 181\u001b[0m \u001b[38;5;28;43mself\u001b[39;49m\u001b[38;5;241;43m.\u001b[39;49m\u001b[43mprune\u001b[49m\u001b[43m(\u001b[49m\u001b[43m)\u001b[49m\n\u001b[1;32m    183\u001b[0m \u001b[38;5;28;01mif\u001b[39;00m full_check:\n\u001b[1;32m    184\u001b[0m     \u001b[38;5;66;03m# check format validity (more expensive)\u001b[39;00m\n\u001b[1;32m    185\u001b[0m     \u001b[38;5;28;01mif\u001b[39;00m \u001b[38;5;28mself\u001b[39m\u001b[38;5;241m.\u001b[39mnnz \u001b[38;5;241m>\u001b[39m \u001b[38;5;241m0\u001b[39m:\n",
      "File \u001b[0;32m~/opt/miniconda3/envs/census_latest/lib/python3.10/site-packages/scipy/sparse/_compressed.py:1181\u001b[0m, in \u001b[0;36m_cs_matrix.prune\u001b[0;34m(self)\u001b[0m\n\u001b[1;32m   1178\u001b[0m     \u001b[38;5;28;01mraise\u001b[39;00m \u001b[38;5;167;01mValueError\u001b[39;00m(\u001b[38;5;124m'\u001b[39m\u001b[38;5;124mdata array has fewer than nnz elements\u001b[39m\u001b[38;5;124m'\u001b[39m)\n\u001b[1;32m   1180\u001b[0m \u001b[38;5;28mself\u001b[39m\u001b[38;5;241m.\u001b[39mindices \u001b[38;5;241m=\u001b[39m _prune_array(\u001b[38;5;28mself\u001b[39m\u001b[38;5;241m.\u001b[39mindices[:\u001b[38;5;28mself\u001b[39m\u001b[38;5;241m.\u001b[39mnnz])\n\u001b[0;32m-> 1181\u001b[0m \u001b[38;5;28mself\u001b[39m\u001b[38;5;241m.\u001b[39mdata \u001b[38;5;241m=\u001b[39m _prune_array(\u001b[38;5;28mself\u001b[39m\u001b[38;5;241m.\u001b[39mdata[:\u001b[38;5;28;43mself\u001b[39;49m\u001b[38;5;241;43m.\u001b[39;49m\u001b[43mnnz\u001b[49m])\n",
      "File \u001b[0;32m~/opt/miniconda3/envs/census_latest/lib/python3.10/site-packages/scipy/sparse/_base.py:299\u001b[0m, in \u001b[0;36mspmatrix.nnz\u001b[0;34m(self)\u001b[0m\n\u001b[1;32m    291\u001b[0m \u001b[38;5;129m@property\u001b[39m\n\u001b[1;32m    292\u001b[0m \u001b[38;5;28;01mdef\u001b[39;00m \u001b[38;5;21mnnz\u001b[39m(\u001b[38;5;28mself\u001b[39m):\n\u001b[1;32m    293\u001b[0m \u001b[38;5;250m    \u001b[39m\u001b[38;5;124;03m\"\"\"Number of stored values, including explicit zeros.\u001b[39;00m\n\u001b[1;32m    294\u001b[0m \n\u001b[1;32m    295\u001b[0m \u001b[38;5;124;03m    See also\u001b[39;00m\n\u001b[1;32m    296\u001b[0m \u001b[38;5;124;03m    --------\u001b[39;00m\n\u001b[1;32m    297\u001b[0m \u001b[38;5;124;03m    count_nonzero : Number of non-zero entries\u001b[39;00m\n\u001b[1;32m    298\u001b[0m \u001b[38;5;124;03m    \"\"\"\u001b[39;00m\n\u001b[0;32m--> 299\u001b[0m     \u001b[38;5;28;01mreturn\u001b[39;00m \u001b[38;5;28;43mself\u001b[39;49m\u001b[38;5;241;43m.\u001b[39;49m\u001b[43mgetnnz\u001b[49m\u001b[43m(\u001b[49m\u001b[43m)\u001b[49m\n",
      "File \u001b[0;32m~/opt/miniconda3/envs/census_latest/lib/python3.10/site-packages/scipy/sparse/_compressed.py:108\u001b[0m, in \u001b[0;36m_cs_matrix.getnnz\u001b[0;34m(self, axis)\u001b[0m\n\u001b[1;32m    104\u001b[0m         \u001b[38;5;28mself\u001b[39m\u001b[38;5;241m.\u001b[39mdata \u001b[38;5;241m=\u001b[39m \u001b[38;5;28mself\u001b[39m\u001b[38;5;241m.\u001b[39mdata\u001b[38;5;241m.\u001b[39mastype(dtype, copy\u001b[38;5;241m=\u001b[39m\u001b[38;5;28;01mFalse\u001b[39;00m)\n\u001b[1;32m    106\u001b[0m     \u001b[38;5;28mself\u001b[39m\u001b[38;5;241m.\u001b[39mcheck_format(full_check\u001b[38;5;241m=\u001b[39m\u001b[38;5;28;01mFalse\u001b[39;00m)\n\u001b[0;32m--> 108\u001b[0m \u001b[38;5;28;01mdef\u001b[39;00m \u001b[38;5;21mgetnnz\u001b[39m(\u001b[38;5;28mself\u001b[39m, axis\u001b[38;5;241m=\u001b[39m\u001b[38;5;28;01mNone\u001b[39;00m):\n\u001b[1;32m    109\u001b[0m     \u001b[38;5;28;01mif\u001b[39;00m axis \u001b[38;5;129;01mis\u001b[39;00m \u001b[38;5;28;01mNone\u001b[39;00m:\n\u001b[1;32m    110\u001b[0m         \u001b[38;5;28;01mreturn\u001b[39;00m \u001b[38;5;28mint\u001b[39m(\u001b[38;5;28mself\u001b[39m\u001b[38;5;241m.\u001b[39mindptr[\u001b[38;5;241m-\u001b[39m\u001b[38;5;241m1\u001b[39m])\n",
      "\u001b[0;31mKeyboardInterrupt\u001b[0m: "
     ]
    }
   ],
   "source": [
    "differential_exp_results = memento.binary_test_1d(\n",
    "    adata=adata, \n",
    "    capture_rate=0.07, \n",
    "    treatment_col='differential_grouping', \n",
    "    num_cpus=2,\n",
    "    num_boot=500)"
   ]
  },
  {
   "cell_type": "code",
   "execution_count": 48,
   "metadata": {},
   "outputs": [
    {
     "data": {
      "text/html": [
       "<div>\n",
       "<style scoped>\n",
       "    .dataframe tbody tr th:only-of-type {\n",
       "        vertical-align: middle;\n",
       "    }\n",
       "\n",
       "    .dataframe tbody tr th {\n",
       "        vertical-align: top;\n",
       "    }\n",
       "\n",
       "    .dataframe thead th {\n",
       "        text-align: right;\n",
       "    }\n",
       "</style>\n",
       "<table border=\"1\" class=\"dataframe\">\n",
       "  <thead>\n",
       "    <tr style=\"text-align: right;\">\n",
       "      <th></th>\n",
       "      <th>gene</th>\n",
       "      <th>tx</th>\n",
       "      <th>de_coef</th>\n",
       "      <th>de_se</th>\n",
       "      <th>de_pval</th>\n",
       "      <th>dv_coef</th>\n",
       "      <th>dv_se</th>\n",
       "      <th>dv_pval</th>\n",
       "      <th>feature_name</th>\n",
       "    </tr>\n",
       "  </thead>\n",
       "  <tbody>\n",
       "    <tr>\n",
       "      <th>290</th>\n",
       "      <td>725</td>\n",
       "      <td>differential_grouping</td>\n",
       "      <td>2.773499</td>\n",
       "      <td>0.044993</td>\n",
       "      <td>5.461894e-218</td>\n",
       "      <td>-2.909190</td>\n",
       "      <td>0.057528</td>\n",
       "      <td>1.596070e-15</td>\n",
       "      <td>Fcer1g</td>\n",
       "    </tr>\n",
       "    <tr>\n",
       "      <th>3546</th>\n",
       "      <td>8403</td>\n",
       "      <td>differential_grouping</td>\n",
       "      <td>2.255487</td>\n",
       "      <td>0.034945</td>\n",
       "      <td>1.855812e-187</td>\n",
       "      <td>-2.040773</td>\n",
       "      <td>0.053801</td>\n",
       "      <td>6.984151e-10</td>\n",
       "      <td>Cyba</td>\n",
       "    </tr>\n",
       "    <tr>\n",
       "      <th>3757</th>\n",
       "      <td>8872</td>\n",
       "      <td>differential_grouping</td>\n",
       "      <td>0.948356</td>\n",
       "      <td>0.013281</td>\n",
       "      <td>3.605370e-147</td>\n",
       "      <td>0.051177</td>\n",
       "      <td>0.054603</td>\n",
       "      <td>4.351297e-01</td>\n",
       "      <td>Itm2b</td>\n",
       "    </tr>\n",
       "    <tr>\n",
       "      <th>6158</th>\n",
       "      <td>14260</td>\n",
       "      <td>differential_grouping</td>\n",
       "      <td>1.461710</td>\n",
       "      <td>0.035563</td>\n",
       "      <td>4.965358e-136</td>\n",
       "      <td>0.306120</td>\n",
       "      <td>0.144744</td>\n",
       "      <td>4.391218e-02</td>\n",
       "      <td>Ehd1</td>\n",
       "    </tr>\n",
       "    <tr>\n",
       "      <th>3307</th>\n",
       "      <td>7879</td>\n",
       "      <td>differential_grouping</td>\n",
       "      <td>2.541776</td>\n",
       "      <td>0.060401</td>\n",
       "      <td>1.908478e-133</td>\n",
       "      <td>-1.899846</td>\n",
       "      <td>0.078899</td>\n",
       "      <td>8.612426e-08</td>\n",
       "      <td>Msr1</td>\n",
       "    </tr>\n",
       "    <tr>\n",
       "      <th>6026</th>\n",
       "      <td>13998</td>\n",
       "      <td>differential_grouping</td>\n",
       "      <td>1.603368</td>\n",
       "      <td>0.029265</td>\n",
       "      <td>2.402969e-132</td>\n",
       "      <td>0.454168</td>\n",
       "      <td>0.092245</td>\n",
       "      <td>1.276780e-03</td>\n",
       "      <td>Snx2</td>\n",
       "    </tr>\n",
       "    <tr>\n",
       "      <th>6047</th>\n",
       "      <td>14033</td>\n",
       "      <td>differential_grouping</td>\n",
       "      <td>3.542341</td>\n",
       "      <td>0.068687</td>\n",
       "      <td>3.689383e-127</td>\n",
       "      <td>-3.028363</td>\n",
       "      <td>0.107592</td>\n",
       "      <td>2.185141e-07</td>\n",
       "      <td>Csf1r</td>\n",
       "    </tr>\n",
       "    <tr>\n",
       "      <th>648</th>\n",
       "      <td>1547</td>\n",
       "      <td>differential_grouping</td>\n",
       "      <td>0.669162</td>\n",
       "      <td>0.013153</td>\n",
       "      <td>3.323402e-126</td>\n",
       "      <td>0.180250</td>\n",
       "      <td>0.052691</td>\n",
       "      <td>1.083828e-02</td>\n",
       "      <td>Serf2</td>\n",
       "    </tr>\n",
       "    <tr>\n",
       "      <th>925</th>\n",
       "      <td>2232</td>\n",
       "      <td>differential_grouping</td>\n",
       "      <td>0.839348</td>\n",
       "      <td>0.021644</td>\n",
       "      <td>1.145787e-85</td>\n",
       "      <td>-0.322942</td>\n",
       "      <td>0.270210</td>\n",
       "      <td>2.734531e-01</td>\n",
       "      <td>Ssr4</td>\n",
       "    </tr>\n",
       "    <tr>\n",
       "      <th>2213</th>\n",
       "      <td>5281</td>\n",
       "      <td>differential_grouping</td>\n",
       "      <td>1.221132</td>\n",
       "      <td>0.028902</td>\n",
       "      <td>2.230698e-81</td>\n",
       "      <td>0.312010</td>\n",
       "      <td>0.107738</td>\n",
       "      <td>1.128435e-02</td>\n",
       "      <td>Tmem176a</td>\n",
       "    </tr>\n",
       "  </tbody>\n",
       "</table>\n",
       "</div>"
      ],
      "text/plain": [
       "       gene                     tx   de_coef     de_se        de_pval  \\\n",
       "290     725  differential_grouping  2.773499  0.044993  5.461894e-218   \n",
       "3546   8403  differential_grouping  2.255487  0.034945  1.855812e-187   \n",
       "3757   8872  differential_grouping  0.948356  0.013281  3.605370e-147   \n",
       "6158  14260  differential_grouping  1.461710  0.035563  4.965358e-136   \n",
       "3307   7879  differential_grouping  2.541776  0.060401  1.908478e-133   \n",
       "6026  13998  differential_grouping  1.603368  0.029265  2.402969e-132   \n",
       "6047  14033  differential_grouping  3.542341  0.068687  3.689383e-127   \n",
       "648    1547  differential_grouping  0.669162  0.013153  3.323402e-126   \n",
       "925    2232  differential_grouping  0.839348  0.021644   1.145787e-85   \n",
       "2213   5281  differential_grouping  1.221132  0.028902   2.230698e-81   \n",
       "\n",
       "       dv_coef     dv_se       dv_pval feature_name  \n",
       "290  -2.909190  0.057528  1.596070e-15       Fcer1g  \n",
       "3546 -2.040773  0.053801  6.984151e-10         Cyba  \n",
       "3757  0.051177  0.054603  4.351297e-01        Itm2b  \n",
       "6158  0.306120  0.144744  4.391218e-02         Ehd1  \n",
       "3307 -1.899846  0.078899  8.612426e-08         Msr1  \n",
       "6026  0.454168  0.092245  1.276780e-03         Snx2  \n",
       "6047 -3.028363  0.107592  2.185141e-07        Csf1r  \n",
       "648   0.180250  0.052691  1.083828e-02        Serf2  \n",
       "925  -0.322942  0.270210  2.734531e-01         Ssr4  \n",
       "2213  0.312010  0.107738  1.128435e-02     Tmem176a  "
      ]
     },
     "execution_count": 48,
     "metadata": {},
     "output_type": "execute_result"
    }
   ],
   "source": [
    "differential_exp_results = differential_exp_results.merge(adata.var[\"feature_name\"], how = \"left\", left_on = \"gene\", right_index = True)\n"
   ]
  },
  {
   "cell_type": "code",
   "execution_count": 49,
   "metadata": {},
   "outputs": [
    {
     "data": {
      "text/html": [
       "<div>\n",
       "<style scoped>\n",
       "    .dataframe tbody tr th:only-of-type {\n",
       "        vertical-align: middle;\n",
       "    }\n",
       "\n",
       "    .dataframe tbody tr th {\n",
       "        vertical-align: top;\n",
       "    }\n",
       "\n",
       "    .dataframe thead th {\n",
       "        text-align: right;\n",
       "    }\n",
       "</style>\n",
       "<table border=\"1\" class=\"dataframe\">\n",
       "  <thead>\n",
       "    <tr style=\"text-align: right;\">\n",
       "      <th></th>\n",
       "      <th>gene</th>\n",
       "      <th>tx</th>\n",
       "      <th>de_coef</th>\n",
       "      <th>de_se</th>\n",
       "      <th>de_pval</th>\n",
       "      <th>dv_coef</th>\n",
       "      <th>dv_se</th>\n",
       "      <th>dv_pval</th>\n",
       "      <th>feature_name</th>\n",
       "    </tr>\n",
       "  </thead>\n",
       "  <tbody>\n",
       "    <tr>\n",
       "      <th>290</th>\n",
       "      <td>725</td>\n",
       "      <td>differential_grouping</td>\n",
       "      <td>2.773499</td>\n",
       "      <td>0.044993</td>\n",
       "      <td>5.461894e-218</td>\n",
       "      <td>-2.909190</td>\n",
       "      <td>0.057528</td>\n",
       "      <td>1.596070e-15</td>\n",
       "      <td>Fcer1g</td>\n",
       "    </tr>\n",
       "    <tr>\n",
       "      <th>3546</th>\n",
       "      <td>8403</td>\n",
       "      <td>differential_grouping</td>\n",
       "      <td>2.255487</td>\n",
       "      <td>0.034945</td>\n",
       "      <td>1.855812e-187</td>\n",
       "      <td>-2.040773</td>\n",
       "      <td>0.053801</td>\n",
       "      <td>6.984151e-10</td>\n",
       "      <td>Cyba</td>\n",
       "    </tr>\n",
       "    <tr>\n",
       "      <th>3757</th>\n",
       "      <td>8872</td>\n",
       "      <td>differential_grouping</td>\n",
       "      <td>0.948356</td>\n",
       "      <td>0.013281</td>\n",
       "      <td>3.605370e-147</td>\n",
       "      <td>0.051177</td>\n",
       "      <td>0.054603</td>\n",
       "      <td>4.351297e-01</td>\n",
       "      <td>Itm2b</td>\n",
       "    </tr>\n",
       "    <tr>\n",
       "      <th>6158</th>\n",
       "      <td>14260</td>\n",
       "      <td>differential_grouping</td>\n",
       "      <td>1.461710</td>\n",
       "      <td>0.035563</td>\n",
       "      <td>4.965358e-136</td>\n",
       "      <td>0.306120</td>\n",
       "      <td>0.144744</td>\n",
       "      <td>4.391218e-02</td>\n",
       "      <td>Ehd1</td>\n",
       "    </tr>\n",
       "    <tr>\n",
       "      <th>3307</th>\n",
       "      <td>7879</td>\n",
       "      <td>differential_grouping</td>\n",
       "      <td>2.541776</td>\n",
       "      <td>0.060401</td>\n",
       "      <td>1.908478e-133</td>\n",
       "      <td>-1.899846</td>\n",
       "      <td>0.078899</td>\n",
       "      <td>8.612426e-08</td>\n",
       "      <td>Msr1</td>\n",
       "    </tr>\n",
       "    <tr>\n",
       "      <th>6026</th>\n",
       "      <td>13998</td>\n",
       "      <td>differential_grouping</td>\n",
       "      <td>1.603368</td>\n",
       "      <td>0.029265</td>\n",
       "      <td>2.402969e-132</td>\n",
       "      <td>0.454168</td>\n",
       "      <td>0.092245</td>\n",
       "      <td>1.276780e-03</td>\n",
       "      <td>Snx2</td>\n",
       "    </tr>\n",
       "    <tr>\n",
       "      <th>6047</th>\n",
       "      <td>14033</td>\n",
       "      <td>differential_grouping</td>\n",
       "      <td>3.542341</td>\n",
       "      <td>0.068687</td>\n",
       "      <td>3.689383e-127</td>\n",
       "      <td>-3.028363</td>\n",
       "      <td>0.107592</td>\n",
       "      <td>2.185141e-07</td>\n",
       "      <td>Csf1r</td>\n",
       "    </tr>\n",
       "    <tr>\n",
       "      <th>648</th>\n",
       "      <td>1547</td>\n",
       "      <td>differential_grouping</td>\n",
       "      <td>0.669162</td>\n",
       "      <td>0.013153</td>\n",
       "      <td>3.323402e-126</td>\n",
       "      <td>0.180250</td>\n",
       "      <td>0.052691</td>\n",
       "      <td>1.083828e-02</td>\n",
       "      <td>Serf2</td>\n",
       "    </tr>\n",
       "    <tr>\n",
       "      <th>925</th>\n",
       "      <td>2232</td>\n",
       "      <td>differential_grouping</td>\n",
       "      <td>0.839348</td>\n",
       "      <td>0.021644</td>\n",
       "      <td>1.145787e-85</td>\n",
       "      <td>-0.322942</td>\n",
       "      <td>0.270210</td>\n",
       "      <td>2.734531e-01</td>\n",
       "      <td>Ssr4</td>\n",
       "    </tr>\n",
       "    <tr>\n",
       "      <th>2213</th>\n",
       "      <td>5281</td>\n",
       "      <td>differential_grouping</td>\n",
       "      <td>1.221132</td>\n",
       "      <td>0.028902</td>\n",
       "      <td>2.230698e-81</td>\n",
       "      <td>0.312010</td>\n",
       "      <td>0.107738</td>\n",
       "      <td>1.128435e-02</td>\n",
       "      <td>Tmem176a</td>\n",
       "    </tr>\n",
       "  </tbody>\n",
       "</table>\n",
       "</div>"
      ],
      "text/plain": [
       "       gene                     tx   de_coef     de_se        de_pval  \\\n",
       "290     725  differential_grouping  2.773499  0.044993  5.461894e-218   \n",
       "3546   8403  differential_grouping  2.255487  0.034945  1.855812e-187   \n",
       "3757   8872  differential_grouping  0.948356  0.013281  3.605370e-147   \n",
       "6158  14260  differential_grouping  1.461710  0.035563  4.965358e-136   \n",
       "3307   7879  differential_grouping  2.541776  0.060401  1.908478e-133   \n",
       "6026  13998  differential_grouping  1.603368  0.029265  2.402969e-132   \n",
       "6047  14033  differential_grouping  3.542341  0.068687  3.689383e-127   \n",
       "648    1547  differential_grouping  0.669162  0.013153  3.323402e-126   \n",
       "925    2232  differential_grouping  0.839348  0.021644   1.145787e-85   \n",
       "2213   5281  differential_grouping  1.221132  0.028902   2.230698e-81   \n",
       "\n",
       "       dv_coef     dv_se       dv_pval feature_name  \n",
       "290  -2.909190  0.057528  1.596070e-15       Fcer1g  \n",
       "3546 -2.040773  0.053801  6.984151e-10         Cyba  \n",
       "3757  0.051177  0.054603  4.351297e-01        Itm2b  \n",
       "6158  0.306120  0.144744  4.391218e-02         Ehd1  \n",
       "3307 -1.899846  0.078899  8.612426e-08         Msr1  \n",
       "6026  0.454168  0.092245  1.276780e-03         Snx2  \n",
       "6047 -3.028363  0.107592  2.185141e-07        Csf1r  \n",
       "648   0.180250  0.052691  1.083828e-02        Serf2  \n",
       "925  -0.322942  0.270210  2.734531e-01         Ssr4  \n",
       "2213  0.312010  0.107738  1.128435e-02     Tmem176a  "
      ]
     },
     "execution_count": 49,
     "metadata": {},
     "output_type": "execute_result"
    }
   ],
   "source": [
    "differential_exp_results.query('de_coef > 0').sort_values('de_pval').head(10)\n"
   ]
  },
  {
   "cell_type": "code",
   "execution_count": 44,
   "metadata": {},
   "outputs": [
    {
     "data": {
      "text/plain": [
       "Index(['0', '1', '2', '3', '4', '5', '6', '7', '8', '9',\n",
       "       ...\n",
       "       '15508', '15509', '15510', '15511', '15512', '15513', '15514', '15515',\n",
       "       '15516', '15517'],\n",
       "      dtype='object', length=15518)"
      ]
     },
     "execution_count": 44,
     "metadata": {},
     "output_type": "execute_result"
    }
   ],
   "source": [
    "adata.var_names"
   ]
  },
  {
   "cell_type": "code",
   "execution_count": 37,
   "metadata": {},
   "outputs": [],
   "source": [
    "census.close()"
   ]
  }
 ],
 "metadata": {
  "kernelspec": {
   "display_name": "Python 3 (ipykernel)",
   "language": "python",
   "name": "python3"
  },
  "language_info": {
   "codemirror_mode": {
    "name": "ipython",
    "version": 3
   },
   "file_extension": ".py",
   "mimetype": "text/x-python",
   "name": "python",
   "nbconvert_exporter": "python",
   "pygments_lexer": "ipython3",
   "version": "3.10.9"
  },
  "vscode": {
   "interpreter": {
    "hash": "3da8ec1c162cd849e59e6ea2824b2e353dce799884e910aae99411be5277f953"
   }
  }
 },
 "nbformat": 4,
 "nbformat_minor": 2
}
