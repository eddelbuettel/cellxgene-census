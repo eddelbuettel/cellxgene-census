{
 "cells": [
  {
   "cell_type": "markdown",
   "metadata": {},
   "source": [
    "# Performing differential gene expression with MEMENTO and  Cell Census data\n",
    "\n",
    "The Cell Census is a versioned container for the single-cell data hosted at [CELLxGENE Discover](https://cellxgene.cziscience.com/). The Cell Census utilizes [SOMA](https://github.com/single-cell-data/SOMA/blob/main/abstract_specification.md) powered by [TileDB](https://tiledb.com/products/tiledb-embedded) for storing, accessing, and efficiently filtering data.\n",
    "\n",
    "TBD\n",
    "\n",
    "# Contents\n",
    "TBD\n",
    "\n",
    "## Opening the census\n",
    "\n",
    "The `cell_census` python package contains a convenient API to open the latest version of the Cell Census."
   ]
  },
  {
   "cell_type": "code",
   "execution_count": 1,
   "metadata": {
    "execution": {
     "iopub.execute_input": "2023-01-31T22:02:00.861667Z",
     "iopub.status.busy": "2023-01-31T22:02:00.861519Z",
     "iopub.status.idle": "2023-01-31T22:02:01.623294Z",
     "shell.execute_reply": "2023-01-31T22:02:01.622222Z"
    }
   },
   "outputs": [],
   "source": [
    "import cell_census\n",
    "import numpy as np\n",
    "import memento\n",
    "import pandas as pd\n",
    "\n",
    "census = cell_census.open_soma()"
   ]
  },
  {
   "cell_type": "markdown",
   "metadata": {},
   "source": [
    "You can learn more about the `cell_census` methods by accessing their corresponding documentation via `help()`. For example `help(cell_census.open_soma)`."
   ]
  },
  {
   "cell_type": "markdown",
   "metadata": {},
   "source": [
    "## Load data"
   ]
  },
  {
   "cell_type": "markdown",
   "metadata": {},
   "source": [
    "Getting dataset of interest"
   ]
  },
  {
   "cell_type": "code",
   "execution_count": 2,
   "metadata": {},
   "outputs": [],
   "source": [
    "# Tabula muris senis 10x liver\n",
    "dataset_title = \"All major cell types in adult human retina\"\n",
    "\n",
    "# Getting the joinid and dataset id\n",
    "datasets = census[\"census_info\"][\"datasets\"].read(value_filter = f\"dataset_title == '{dataset_title}'\").concat().to_pandas()\n",
    "dataset_joinid = list(datasets[\"soma_joinid\"])\n",
    "datasset_interest_id = datasets[\"dataset_id\"][0]"
   ]
  },
  {
   "cell_type": "markdown",
   "metadata": {},
   "source": [
    "Get measured genes in dataset"
   ]
  },
  {
   "cell_type": "code",
   "execution_count": 3,
   "metadata": {},
   "outputs": [],
   "source": [
    "presence_matrix = cell_census.get_presence_matrix(census, organism=\"Homo sapiens\", measurement_name=\"RNA\")\n",
    "dataset_presnence = presence_matrix[dataset_joinid,]\n",
    "\n",
    "gene_joinid = np.nonzero(dataset_presnence.sum(axis=0).A1 == dataset_presnence.shape[0])[0].tolist()"
   ]
  },
  {
   "cell_type": "markdown",
   "metadata": {},
   "source": [
    "Get anndata"
   ]
  },
  {
   "cell_type": "code",
   "execution_count": 4,
   "metadata": {
    "execution": {
     "iopub.execute_input": "2023-01-31T22:02:18.867517Z",
     "iopub.status.busy": "2023-01-31T22:02:18.867359Z",
     "iopub.status.idle": "2023-01-31T22:02:29.964545Z",
     "shell.execute_reply": "2023-01-31T22:02:29.962747Z"
    }
   },
   "outputs": [],
   "source": [
    "assays = [\"10x 3' v3\", \"10x 3' v2\"]\n",
    "adata = cell_census.get_anndata(\n",
    "    census=census,\n",
    "    organism=\"Homo sapiens\",\n",
    "    var_coords= gene_joinid,\n",
    "    #obs_value_filter=f\"dataset_id == '{datasset_interest_id}'\",\n",
    "    obs_value_filter=f\"tissue_general == 'eye' and assay in {assays}\",\n",
    ")"
   ]
  },
  {
   "cell_type": "code",
   "execution_count": 5,
   "metadata": {},
   "outputs": [
    {
     "data": {
      "text/html": [
       "<div>\n",
       "<style scoped>\n",
       "    .dataframe tbody tr th:only-of-type {\n",
       "        vertical-align: middle;\n",
       "    }\n",
       "\n",
       "    .dataframe tbody tr th {\n",
       "        vertical-align: top;\n",
       "    }\n",
       "\n",
       "    .dataframe thead th {\n",
       "        text-align: right;\n",
       "    }\n",
       "</style>\n",
       "<table border=\"1\" class=\"dataframe\">\n",
       "  <thead>\n",
       "    <tr style=\"text-align: right;\">\n",
       "      <th></th>\n",
       "      <th>soma_joinid</th>\n",
       "      <th>feature_id</th>\n",
       "      <th>feature_name</th>\n",
       "      <th>feature_length</th>\n",
       "    </tr>\n",
       "    <tr>\n",
       "      <th>feature_name</th>\n",
       "      <th></th>\n",
       "      <th></th>\n",
       "      <th></th>\n",
       "      <th></th>\n",
       "    </tr>\n",
       "  </thead>\n",
       "  <tbody>\n",
       "    <tr>\n",
       "      <th>RP11-34P13.7</th>\n",
       "      <td>0</td>\n",
       "      <td>ENSG00000238009</td>\n",
       "      <td>RP11-34P13.7</td>\n",
       "      <td>3726</td>\n",
       "    </tr>\n",
       "    <tr>\n",
       "      <th>AP006222.1</th>\n",
       "      <td>2</td>\n",
       "      <td>ENSG00000228463</td>\n",
       "      <td>AP006222.1</td>\n",
       "      <td>8224</td>\n",
       "    </tr>\n",
       "    <tr>\n",
       "      <th>RP4-669L17.4</th>\n",
       "      <td>3</td>\n",
       "      <td>ENSG00000237094</td>\n",
       "      <td>RP4-669L17.4</td>\n",
       "      <td>6204</td>\n",
       "    </tr>\n",
       "    <tr>\n",
       "      <th>RP11-206L10.17</th>\n",
       "      <td>4</td>\n",
       "      <td>ENSG00000230021</td>\n",
       "      <td>RP11-206L10.17</td>\n",
       "      <td>5495</td>\n",
       "    </tr>\n",
       "    <tr>\n",
       "      <th>LINC01409</th>\n",
       "      <td>5</td>\n",
       "      <td>ENSG00000237491</td>\n",
       "      <td>LINC01409</td>\n",
       "      <td>8413</td>\n",
       "    </tr>\n",
       "    <tr>\n",
       "      <th>...</th>\n",
       "      <td>...</td>\n",
       "      <td>...</td>\n",
       "      <td>...</td>\n",
       "      <td>...</td>\n",
       "    </tr>\n",
       "    <tr>\n",
       "      <th>RP11-398A8.4</th>\n",
       "      <td>52844</td>\n",
       "      <td>ENSG00000273461</td>\n",
       "      <td>RP11-398A8.4</td>\n",
       "      <td>496</td>\n",
       "    </tr>\n",
       "    <tr>\n",
       "      <th>LL09NC01-139C3.1</th>\n",
       "      <td>52846</td>\n",
       "      <td>ENSG00000273473</td>\n",
       "      <td>LL09NC01-139C3.1</td>\n",
       "      <td>572</td>\n",
       "    </tr>\n",
       "    <tr>\n",
       "      <th>RP11-108L7.14</th>\n",
       "      <td>52847</td>\n",
       "      <td>ENSG00000273476</td>\n",
       "      <td>RP11-108L7.14</td>\n",
       "      <td>448</td>\n",
       "    </tr>\n",
       "    <tr>\n",
       "      <th>RP4-621B10.8</th>\n",
       "      <td>52849</td>\n",
       "      <td>ENSG00000273487</td>\n",
       "      <td>RP4-621B10.8</td>\n",
       "      <td>1293</td>\n",
       "    </tr>\n",
       "    <tr>\n",
       "      <th>RP11-80H18.4</th>\n",
       "      <td>52850</td>\n",
       "      <td>ENSG00000273493</td>\n",
       "      <td>RP11-80H18.4</td>\n",
       "      <td>154</td>\n",
       "    </tr>\n",
       "  </tbody>\n",
       "</table>\n",
       "<p>28506 rows × 4 columns</p>\n",
       "</div>"
      ],
      "text/plain": [
       "                  soma_joinid       feature_id      feature_name  \\\n",
       "feature_name                                                       \n",
       "RP11-34P13.7                0  ENSG00000238009      RP11-34P13.7   \n",
       "AP006222.1                  2  ENSG00000228463        AP006222.1   \n",
       "RP4-669L17.4                3  ENSG00000237094      RP4-669L17.4   \n",
       "RP11-206L10.17              4  ENSG00000230021    RP11-206L10.17   \n",
       "LINC01409                   5  ENSG00000237491         LINC01409   \n",
       "...                       ...              ...               ...   \n",
       "RP11-398A8.4            52844  ENSG00000273461      RP11-398A8.4   \n",
       "LL09NC01-139C3.1        52846  ENSG00000273473  LL09NC01-139C3.1   \n",
       "RP11-108L7.14           52847  ENSG00000273476     RP11-108L7.14   \n",
       "RP4-621B10.8            52849  ENSG00000273487      RP4-621B10.8   \n",
       "RP11-80H18.4            52850  ENSG00000273493      RP11-80H18.4   \n",
       "\n",
       "                  feature_length  \n",
       "feature_name                      \n",
       "RP11-34P13.7                3726  \n",
       "AP006222.1                  8224  \n",
       "RP4-669L17.4                6204  \n",
       "RP11-206L10.17              5495  \n",
       "LINC01409                   8413  \n",
       "...                          ...  \n",
       "RP11-398A8.4                 496  \n",
       "LL09NC01-139C3.1             572  \n",
       "RP11-108L7.14                448  \n",
       "RP4-621B10.8                1293  \n",
       "RP11-80H18.4                 154  \n",
       "\n",
       "[28506 rows x 4 columns]"
      ]
     },
     "execution_count": 5,
     "metadata": {},
     "output_type": "execute_result"
    }
   ],
   "source": [
    "adata.var_names = adata.var[\"feature_name\"]\n",
    "adata.var"
   ]
  },
  {
   "cell_type": "code",
   "execution_count": 6,
   "metadata": {},
   "outputs": [
    {
     "data": {
      "text/plain": [
       "[('retinal rod cell', 151112),\n",
       " ('amacrine cell', 122396),\n",
       " ('retinal bipolar neuron', 56261),\n",
       " ('Mueller cell', 50545),\n",
       " ('ON-bipolar cell', 46059),\n",
       " ('OFF-bipolar cell', 41015),\n",
       " ('fibroblast', 38487),\n",
       " ('corneal epithelial cell', 31410),\n",
       " ('retinal ganglion cell', 30729),\n",
       " ('retinal cone cell', 28626),\n",
       " ('melanocyte', 27699),\n",
       " ('pigmented epithelial cell', 27000),\n",
       " ('ciliary muscle cell', 21468),\n",
       " ('retina horizontal cell', 19603),\n",
       " ('glial cell', 18011),\n",
       " ('basal cell', 17465),\n",
       " ('pigmented ciliary epithelial cell', 16178),\n",
       " ('conjunctival epithelial cell', 14439),\n",
       " ('Schwann cell', 10765),\n",
       " ('corneal endothelial cell', 8394),\n",
       " ('macrophage', 7191),\n",
       " ('non-pigmented ciliary epithelial cell', 6327),\n",
       " ('anterior lens cell', 6160),\n",
       " ('glycinergic neuron', 6065),\n",
       " ('macroglial cell', 5276),\n",
       " ('lens epithelial cell', 5276),\n",
       " ('rod bipolar cell', 5207),\n",
       " ('endothelial cell', 4872),\n",
       " ('native cell', 3704),\n",
       " ('smooth muscle cell of sphincter of pupil', 2221),\n",
       " ('astrocyte', 2031),\n",
       " ('endothelial cell of lymphatic vessel', 2027),\n",
       " ('lymphocyte', 2002),\n",
       " ('eye photoreceptor cell', 1764),\n",
       " ('secondary lens fiber', 1677),\n",
       " ('microglial cell', 1673),\n",
       " ('blood vessel endothelial cell', 1596),\n",
       " ('pericyte', 1523),\n",
       " ('keratocyte', 1170),\n",
       " ('retinal blood vessel endothelial cell', 1015),\n",
       " ('lens fiber cell', 787),\n",
       " ('transit amplifying cell', 750),\n",
       " ('retinal pigment epithelial cell', 736),\n",
       " ('T cell', 703),\n",
       " ('mature NK T cell', 612),\n",
       " ('goblet cell', 588),\n",
       " ('endothelial cell of vascular tree', 576),\n",
       " ('monocyte', 519),\n",
       " ('stromal cell', 426),\n",
       " ('radial glial cell', 388),\n",
       " ('leukocyte', 384),\n",
       " ('dendritic cell', 304),\n",
       " ('stem cell', 288),\n",
       " ('B cell', 287),\n",
       " ('mast cell', 192),\n",
       " ('natural killer cell', 174),\n",
       " ('surface ectodermal cell', 108),\n",
       " ('epithelial cell of lacrimal sac', 104),\n",
       " ('fat cell', 88),\n",
       " ('plasma cell', 86),\n",
       " ('erythroid lineage cell', 54),\n",
       " ('CD4-positive, alpha-beta T cell', 28),\n",
       " ('CD8-positive, alpha-beta T cell', 6)]"
      ]
     },
     "execution_count": 6,
     "metadata": {},
     "output_type": "execute_result"
    }
   ],
   "source": [
    "aaa = adata.obs[\"cell_type\"].value_counts()\n",
    "list(zip(list(aaa.index), list(aaa)))"
   ]
  },
  {
   "cell_type": "markdown",
   "metadata": {},
   "source": [
    "## Differential gene expression: Retinal Rod Cells vs rest  "
   ]
  },
  {
   "cell_type": "code",
   "execution_count": 7,
   "metadata": {},
   "outputs": [],
   "source": [
    "cell_type_interest = \"retinal rod cell\"\n",
    "adata.obs[\"differential_grouping\"] = adata.obs.cell_type == cell_type_interest\n",
    "adata.obs[\"differential_grouping\"] = adata.obs[\"differential_grouping\"] * 1 "
   ]
  },
  {
   "cell_type": "markdown",
   "metadata": {},
   "source": [
    "Run memento"
   ]
  },
  {
   "cell_type": "code",
   "execution_count": 28,
   "metadata": {},
   "outputs": [
    {
     "name": "stderr",
     "output_type": "stream",
     "text": [
      "[Parallel(n_jobs=90)]: Using backend LokyBackend with 90 concurrent workers.\n",
      "[Parallel(n_jobs=90)]: Done  21 tasks      | elapsed:   13.6s\n",
      "[Parallel(n_jobs=90)]: Done 271 tasks      | elapsed:   16.4s\n",
      "[Parallel(n_jobs=90)]: Done 621 tasks      | elapsed:   20.2s\n",
      "[Parallel(n_jobs=90)]: Done 1071 tasks      | elapsed:   25.0s\n",
      "[Parallel(n_jobs=90)]: Done 1621 tasks      | elapsed:   31.2s\n",
      "[Parallel(n_jobs=90)]: Done 2271 tasks      | elapsed:   38.2s\n",
      "[Parallel(n_jobs=90)]: Done 3021 tasks      | elapsed:   46.4s\n",
      "[Parallel(n_jobs=90)]: Done 3871 tasks      | elapsed:   55.8s\n",
      "[Parallel(n_jobs=90)]: Done 4821 tasks      | elapsed:  1.1min\n",
      "[Parallel(n_jobs=90)]: Done 5871 tasks      | elapsed:  1.3min\n",
      "[Parallel(n_jobs=90)]: Done 6866 out of 6866 | elapsed:  1.5min finished\n"
     ]
    }
   ],
   "source": [
    "differential_exp_results = memento.binary_test_1d(\n",
    "    adata=adata, \n",
    "    capture_rate=0.07, \n",
    "    treatment_col='differential_grouping', \n",
    "    num_cpus=90,\n",
    "    num_boot=5000\n",
    ")"
   ]
  },
  {
   "cell_type": "code",
   "execution_count": 29,
   "metadata": {
    "scrolled": true
   },
   "outputs": [
    {
     "data": {
      "text/html": [
       "<div>\n",
       "<style scoped>\n",
       "    .dataframe tbody tr th:only-of-type {\n",
       "        vertical-align: middle;\n",
       "    }\n",
       "\n",
       "    .dataframe tbody tr th {\n",
       "        vertical-align: top;\n",
       "    }\n",
       "\n",
       "    .dataframe thead th {\n",
       "        text-align: right;\n",
       "    }\n",
       "</style>\n",
       "<table border=\"1\" class=\"dataframe\">\n",
       "  <thead>\n",
       "    <tr style=\"text-align: right;\">\n",
       "      <th></th>\n",
       "      <th>gene</th>\n",
       "      <th>tx</th>\n",
       "      <th>de_coef</th>\n",
       "      <th>de_se</th>\n",
       "      <th>de_pval</th>\n",
       "      <th>dv_coef</th>\n",
       "      <th>dv_se</th>\n",
       "      <th>dv_pval</th>\n",
       "    </tr>\n",
       "  </thead>\n",
       "  <tbody>\n",
       "    <tr>\n",
       "      <th>1808</th>\n",
       "      <td>FSTL5</td>\n",
       "      <td>differential_grouping</td>\n",
       "      <td>0.258739</td>\n",
       "      <td>0.003789</td>\n",
       "      <td>3.222062e-117</td>\n",
       "      <td>-0.076154</td>\n",
       "      <td>0.006957</td>\n",
       "      <td>1.555925e-03</td>\n",
       "    </tr>\n",
       "    <tr>\n",
       "      <th>314</th>\n",
       "      <td>ABCA4</td>\n",
       "      <td>differential_grouping</td>\n",
       "      <td>2.629044</td>\n",
       "      <td>0.004722</td>\n",
       "      <td>3.848001e-23</td>\n",
       "      <td>-2.009847</td>\n",
       "      <td>0.006603</td>\n",
       "      <td>2.448909e-06</td>\n",
       "    </tr>\n",
       "    <tr>\n",
       "      <th>3467</th>\n",
       "      <td>PBX3</td>\n",
       "      <td>differential_grouping</td>\n",
       "      <td>0.878122</td>\n",
       "      <td>0.004367</td>\n",
       "      <td>1.267126e-17</td>\n",
       "      <td>-0.466352</td>\n",
       "      <td>0.014185</td>\n",
       "      <td>2.423038e-09</td>\n",
       "    </tr>\n",
       "    <tr>\n",
       "      <th>5127</th>\n",
       "      <td>SCAMP5</td>\n",
       "      <td>differential_grouping</td>\n",
       "      <td>1.608120</td>\n",
       "      <td>0.003642</td>\n",
       "      <td>7.137868e-17</td>\n",
       "      <td>-0.073244</td>\n",
       "      <td>0.009946</td>\n",
       "      <td>9.916017e-01</td>\n",
       "    </tr>\n",
       "    <tr>\n",
       "      <th>4941</th>\n",
       "      <td>TECPR2</td>\n",
       "      <td>differential_grouping</td>\n",
       "      <td>0.856125</td>\n",
       "      <td>0.005099</td>\n",
       "      <td>1.460205e-16</td>\n",
       "      <td>0.201101</td>\n",
       "      <td>0.014748</td>\n",
       "      <td>2.874791e-04</td>\n",
       "    </tr>\n",
       "    <tr>\n",
       "      <th>1839</th>\n",
       "      <td>LRP2BP</td>\n",
       "      <td>differential_grouping</td>\n",
       "      <td>0.564324</td>\n",
       "      <td>0.005321</td>\n",
       "      <td>1.562009e-16</td>\n",
       "      <td>0.358604</td>\n",
       "      <td>0.016889</td>\n",
       "      <td>1.431961e-06</td>\n",
       "    </tr>\n",
       "    <tr>\n",
       "      <th>2207</th>\n",
       "      <td>RP11-69L16.4</td>\n",
       "      <td>differential_grouping</td>\n",
       "      <td>0.615859</td>\n",
       "      <td>0.007842</td>\n",
       "      <td>3.100638e-15</td>\n",
       "      <td>0.095469</td>\n",
       "      <td>0.026947</td>\n",
       "      <td>3.599280e-03</td>\n",
       "    </tr>\n",
       "    <tr>\n",
       "      <th>980</th>\n",
       "      <td>PRKRA</td>\n",
       "      <td>differential_grouping</td>\n",
       "      <td>0.634701</td>\n",
       "      <td>0.004727</td>\n",
       "      <td>5.897490e-15</td>\n",
       "      <td>0.097925</td>\n",
       "      <td>0.020410</td>\n",
       "      <td>1.388858e-03</td>\n",
       "    </tr>\n",
       "    <tr>\n",
       "      <th>4327</th>\n",
       "      <td>ZNF385A</td>\n",
       "      <td>differential_grouping</td>\n",
       "      <td>0.488646</td>\n",
       "      <td>0.005237</td>\n",
       "      <td>6.094489e-15</td>\n",
       "      <td>-0.085893</td>\n",
       "      <td>0.015123</td>\n",
       "      <td>1.000000e+00</td>\n",
       "    </tr>\n",
       "    <tr>\n",
       "      <th>4874</th>\n",
       "      <td>VASH1</td>\n",
       "      <td>differential_grouping</td>\n",
       "      <td>2.048481</td>\n",
       "      <td>0.006372</td>\n",
       "      <td>1.452393e-14</td>\n",
       "      <td>-1.310290</td>\n",
       "      <td>0.017718</td>\n",
       "      <td>1.293770e-07</td>\n",
       "    </tr>\n",
       "  </tbody>\n",
       "</table>\n",
       "</div>"
      ],
      "text/plain": [
       "              gene                     tx   de_coef     de_se        de_pval  \\\n",
       "1808         FSTL5  differential_grouping  0.258739  0.003789  3.222062e-117   \n",
       "314          ABCA4  differential_grouping  2.629044  0.004722   3.848001e-23   \n",
       "3467          PBX3  differential_grouping  0.878122  0.004367   1.267126e-17   \n",
       "5127        SCAMP5  differential_grouping  1.608120  0.003642   7.137868e-17   \n",
       "4941        TECPR2  differential_grouping  0.856125  0.005099   1.460205e-16   \n",
       "1839        LRP2BP  differential_grouping  0.564324  0.005321   1.562009e-16   \n",
       "2207  RP11-69L16.4  differential_grouping  0.615859  0.007842   3.100638e-15   \n",
       "980          PRKRA  differential_grouping  0.634701  0.004727   5.897490e-15   \n",
       "4327       ZNF385A  differential_grouping  0.488646  0.005237   6.094489e-15   \n",
       "4874         VASH1  differential_grouping  2.048481  0.006372   1.452393e-14   \n",
       "\n",
       "       dv_coef     dv_se       dv_pval  \n",
       "1808 -0.076154  0.006957  1.555925e-03  \n",
       "314  -2.009847  0.006603  2.448909e-06  \n",
       "3467 -0.466352  0.014185  2.423038e-09  \n",
       "5127 -0.073244  0.009946  9.916017e-01  \n",
       "4941  0.201101  0.014748  2.874791e-04  \n",
       "1839  0.358604  0.016889  1.431961e-06  \n",
       "2207  0.095469  0.026947  3.599280e-03  \n",
       "980   0.097925  0.020410  1.388858e-03  \n",
       "4327 -0.085893  0.015123  1.000000e+00  \n",
       "4874 -1.310290  0.017718  1.293770e-07  "
      ]
     },
     "execution_count": 29,
     "metadata": {},
     "output_type": "execute_result"
    }
   ],
   "source": [
    "differential_exp_results.query('de_coef > 0').sort_values('de_pval').head(10)"
   ]
  },
  {
   "cell_type": "markdown",
   "metadata": {},
   "source": [
    "Do it again for reproducibility check"
   ]
  },
  {
   "cell_type": "code",
   "execution_count": 31,
   "metadata": {},
   "outputs": [
    {
     "name": "stderr",
     "output_type": "stream",
     "text": [
      "[Parallel(n_jobs=90)]: Using backend LokyBackend with 90 concurrent workers.\n",
      "[Parallel(n_jobs=90)]: Done  21 tasks      | elapsed:   16.6s\n",
      "[Parallel(n_jobs=90)]: Done 271 tasks      | elapsed:   19.8s\n",
      "[Parallel(n_jobs=90)]: Done 621 tasks      | elapsed:   23.5s\n",
      "[Parallel(n_jobs=90)]: Done 1071 tasks      | elapsed:   28.3s\n",
      "[Parallel(n_jobs=90)]: Done 1621 tasks      | elapsed:   34.2s\n",
      "[Parallel(n_jobs=90)]: Done 2271 tasks      | elapsed:   41.3s\n",
      "[Parallel(n_jobs=90)]: Done 3021 tasks      | elapsed:   49.2s\n",
      "[Parallel(n_jobs=90)]: Done 3871 tasks      | elapsed:   58.5s\n",
      "[Parallel(n_jobs=90)]: Done 4821 tasks      | elapsed:  1.1min\n",
      "[Parallel(n_jobs=90)]: Done 5871 tasks      | elapsed:  1.3min\n",
      "[Parallel(n_jobs=90)]: Done 6866 out of 6866 | elapsed:  1.5min finished\n"
     ]
    },
    {
     "data": {
      "text/html": [
       "<div>\n",
       "<style scoped>\n",
       "    .dataframe tbody tr th:only-of-type {\n",
       "        vertical-align: middle;\n",
       "    }\n",
       "\n",
       "    .dataframe tbody tr th {\n",
       "        vertical-align: top;\n",
       "    }\n",
       "\n",
       "    .dataframe thead th {\n",
       "        text-align: right;\n",
       "    }\n",
       "</style>\n",
       "<table border=\"1\" class=\"dataframe\">\n",
       "  <thead>\n",
       "    <tr style=\"text-align: right;\">\n",
       "      <th></th>\n",
       "      <th>gene</th>\n",
       "      <th>tx</th>\n",
       "      <th>de_coef</th>\n",
       "      <th>de_se</th>\n",
       "      <th>de_pval</th>\n",
       "      <th>dv_coef</th>\n",
       "      <th>dv_se</th>\n",
       "      <th>dv_pval</th>\n",
       "    </tr>\n",
       "  </thead>\n",
       "  <tbody>\n",
       "    <tr>\n",
       "      <th>4811</th>\n",
       "      <td>ESR2</td>\n",
       "      <td>differential_grouping</td>\n",
       "      <td>1.545427</td>\n",
       "      <td>0.005121</td>\n",
       "      <td>1.128766e-20</td>\n",
       "      <td>-0.733870</td>\n",
       "      <td>0.042790</td>\n",
       "      <td>6.656760e-07</td>\n",
       "    </tr>\n",
       "    <tr>\n",
       "      <th>1615</th>\n",
       "      <td>TBC1D19</td>\n",
       "      <td>differential_grouping</td>\n",
       "      <td>0.100008</td>\n",
       "      <td>0.003893</td>\n",
       "      <td>5.471630e-17</td>\n",
       "      <td>0.621873</td>\n",
       "      <td>0.011880</td>\n",
       "      <td>1.778336e-08</td>\n",
       "    </tr>\n",
       "    <tr>\n",
       "      <th>38</th>\n",
       "      <td>SLC25A33</td>\n",
       "      <td>differential_grouping</td>\n",
       "      <td>0.151069</td>\n",
       "      <td>0.006078</td>\n",
       "      <td>6.261642e-17</td>\n",
       "      <td>-0.488245</td>\n",
       "      <td>0.024377</td>\n",
       "      <td>3.024781e-07</td>\n",
       "    </tr>\n",
       "    <tr>\n",
       "      <th>2039</th>\n",
       "      <td>LMNB1</td>\n",
       "      <td>differential_grouping</td>\n",
       "      <td>1.432111</td>\n",
       "      <td>0.007821</td>\n",
       "      <td>8.291231e-17</td>\n",
       "      <td>-0.599652</td>\n",
       "      <td>0.038441</td>\n",
       "      <td>5.824325e-06</td>\n",
       "    </tr>\n",
       "    <tr>\n",
       "      <th>346</th>\n",
       "      <td>KCNC4</td>\n",
       "      <td>differential_grouping</td>\n",
       "      <td>1.002515</td>\n",
       "      <td>0.008260</td>\n",
       "      <td>2.577603e-16</td>\n",
       "      <td>-0.415979</td>\n",
       "      <td>0.024480</td>\n",
       "      <td>1.346749e-05</td>\n",
       "    </tr>\n",
       "    <tr>\n",
       "      <th>4686</th>\n",
       "      <td>GRTP1</td>\n",
       "      <td>differential_grouping</td>\n",
       "      <td>1.475086</td>\n",
       "      <td>0.006605</td>\n",
       "      <td>4.087977e-16</td>\n",
       "      <td>-1.042588</td>\n",
       "      <td>0.022227</td>\n",
       "      <td>5.153478e-07</td>\n",
       "    </tr>\n",
       "    <tr>\n",
       "      <th>6788</th>\n",
       "      <td>LINC02275</td>\n",
       "      <td>differential_grouping</td>\n",
       "      <td>1.444961</td>\n",
       "      <td>0.008265</td>\n",
       "      <td>1.586436e-15</td>\n",
       "      <td>-1.504364</td>\n",
       "      <td>0.022650</td>\n",
       "      <td>4.197677e-11</td>\n",
       "    </tr>\n",
       "    <tr>\n",
       "      <th>4501</th>\n",
       "      <td>BICDL1</td>\n",
       "      <td>differential_grouping</td>\n",
       "      <td>0.999700</td>\n",
       "      <td>0.004311</td>\n",
       "      <td>3.838814e-15</td>\n",
       "      <td>-0.259075</td>\n",
       "      <td>0.010333</td>\n",
       "      <td>3.835746e-07</td>\n",
       "    </tr>\n",
       "    <tr>\n",
       "      <th>106</th>\n",
       "      <td>HMGN2</td>\n",
       "      <td>differential_grouping</td>\n",
       "      <td>0.869007</td>\n",
       "      <td>0.004520</td>\n",
       "      <td>5.623757e-15</td>\n",
       "      <td>0.726534</td>\n",
       "      <td>0.012962</td>\n",
       "      <td>2.895712e-07</td>\n",
       "    </tr>\n",
       "    <tr>\n",
       "      <th>6595</th>\n",
       "      <td>HMGN1</td>\n",
       "      <td>differential_grouping</td>\n",
       "      <td>1.957772</td>\n",
       "      <td>0.003568</td>\n",
       "      <td>1.066772e-14</td>\n",
       "      <td>-1.509314</td>\n",
       "      <td>0.024422</td>\n",
       "      <td>8.920429e-08</td>\n",
       "    </tr>\n",
       "  </tbody>\n",
       "</table>\n",
       "</div>"
      ],
      "text/plain": [
       "           gene                     tx   de_coef     de_se       de_pval  \\\n",
       "4811       ESR2  differential_grouping  1.545427  0.005121  1.128766e-20   \n",
       "1615    TBC1D19  differential_grouping  0.100008  0.003893  5.471630e-17   \n",
       "38     SLC25A33  differential_grouping  0.151069  0.006078  6.261642e-17   \n",
       "2039      LMNB1  differential_grouping  1.432111  0.007821  8.291231e-17   \n",
       "346       KCNC4  differential_grouping  1.002515  0.008260  2.577603e-16   \n",
       "4686      GRTP1  differential_grouping  1.475086  0.006605  4.087977e-16   \n",
       "6788  LINC02275  differential_grouping  1.444961  0.008265  1.586436e-15   \n",
       "4501     BICDL1  differential_grouping  0.999700  0.004311  3.838814e-15   \n",
       "106       HMGN2  differential_grouping  0.869007  0.004520  5.623757e-15   \n",
       "6595      HMGN1  differential_grouping  1.957772  0.003568  1.066772e-14   \n",
       "\n",
       "       dv_coef     dv_se       dv_pval  \n",
       "4811 -0.733870  0.042790  6.656760e-07  \n",
       "1615  0.621873  0.011880  1.778336e-08  \n",
       "38   -0.488245  0.024377  3.024781e-07  \n",
       "2039 -0.599652  0.038441  5.824325e-06  \n",
       "346  -0.415979  0.024480  1.346749e-05  \n",
       "4686 -1.042588  0.022227  5.153478e-07  \n",
       "6788 -1.504364  0.022650  4.197677e-11  \n",
       "4501 -0.259075  0.010333  3.835746e-07  \n",
       "106   0.726534  0.012962  2.895712e-07  \n",
       "6595 -1.509314  0.024422  8.920429e-08  "
      ]
     },
     "execution_count": 31,
     "metadata": {},
     "output_type": "execute_result"
    }
   ],
   "source": [
    "differential_exp_results = memento.binary_test_1d(\n",
    "    adata=adata, \n",
    "    capture_rate=0.07, \n",
    "    treatment_col='differential_grouping', \n",
    "    num_cpus=90,\n",
    "    num_boot=5000\n",
    ")\n",
    "differential_exp_results.query('de_coef > 0').sort_values('de_pval').head(10)"
   ]
  },
  {
   "cell_type": "markdown",
   "metadata": {},
   "source": [
    "## Differential gene expression: iterate for each cell type vs rest\n",
    "\n",
    "Now let's do it for all cell types"
   ]
  },
  {
   "cell_type": "code",
   "execution_count": null,
   "metadata": {},
   "outputs": [],
   "source": [
    "differential_exp_results_all = pd.DataFrame()\n",
    "for cell_type_interest in adata.obs.cell_type.drop_duplicates():\n",
    "    \n",
    "    print(cell_type_interest)\n",
    "    \n",
    "    # Set groupings\n",
    "    adata.obs[\"differential_grouping\"] = adata.obs.cell_type == cell_type_interest\n",
    "    adata.obs[\"differential_grouping\"] = adata.obs[\"differential_grouping\"] * 1\n",
    "    \n",
    "    # Run differential gene expression\n",
    "    differential_exp_results = memento.binary_test_1d(\n",
    "        adata=adata, \n",
    "        capture_rate=0.07, \n",
    "        treatment_col='differential_grouping', \n",
    "        num_cpus=90,\n",
    "        num_boot=5000\n",
    "    )\n",
    "    \n",
    "    # Retain columns of interest and rename them for future joining\n",
    "    differential_exp_results = differential_exp_results[[\"gene\", \"de_coef\", \"de_pval\", \"de_se\"]]\n",
    "    differential_exp_results.set_index(\"gene\", inplace = True)\n",
    "    differential_exp_results.rename(inplace = True, \n",
    "                                    columns = \"de_coef\":cell_type_interest + \"de_coef\", \n",
    "                                    \"de_pval\": cell_type_interest + \"de_pval\",\n",
    "                                    \"de_se\": cell_type_interest + \"de_se\"\n",
    "                                   )\n",
    "    \n",
    "    # Join to var dataframe\n",
    "    adata = adata.var.merge(differential_exp_results, how = \"left\")\n",
    "    \n",
    "    \n",
    "    #genes = differential_exp_results[\"gene\"]\n",
    "    \n",
    "    #adata.var[cell_type_interest + \"de_coef\"] = 0.0\n",
    "    #adata.var[cell_type_interest + \"de_se\"] = 100.0\n",
    "    #adata.var[cell_type_interest + \"de_pval\"] = 1.0\n",
    "    \n",
    "    #adata.var.loc[genes,cell_type_interest + \"de_coef\"] = list(differential_exp_results[\"de_coef\"])\n",
    "    #adata.var.loc[genes,cell_type_interest + \"de_se\"] = list(differential_exp_results[\"de_se\"])\n",
    "    #adata.var.loc[genes,cell_type_interest + \"de_pval\"] = list(differential_exp_results[\"de_pval\"])\n"
   ]
  },
  {
   "cell_type": "code",
   "execution_count": null,
   "metadata": {},
   "outputs": [],
   "source": [
    "test = adata.var.query('`retinal rod cellde_coef` > 0').sort_values('retinal rod cellde_pval')\n",
    "\n",
    "test[[\"retinal rod cellde_coef\", \"retinal rod cellde_pval\"]].loc[\"R3HCC1\",]"
   ]
  },
  {
   "cell_type": "markdown",
   "metadata": {},
   "source": [
    "## Find Marker Genes (SCRAN-inspired) for Retinal Rod Cells\n",
    "\n",
    "Let's do Retinal Rod Cells vs each other cell type. First perform all comparions across other cell types."
   ]
  },
  {
   "cell_type": "code",
   "execution_count": 8,
   "metadata": {},
   "outputs": [
    {
     "name": "stdout",
     "output_type": "stream",
     "text": [
      "retina horizontal cell\n"
     ]
    },
    {
     "name": "stderr",
     "output_type": "stream",
     "text": [
      "[Parallel(n_jobs=90)]: Using backend LokyBackend with 90 concurrent workers.\n",
      "[Parallel(n_jobs=90)]: Done  20 tasks      | elapsed:    9.4s\n",
      "[Parallel(n_jobs=90)]: Done 270 tasks      | elapsed:   11.4s\n",
      "[Parallel(n_jobs=90)]: Done 620 tasks      | elapsed:   13.7s\n",
      "[Parallel(n_jobs=90)]: Done 1070 tasks      | elapsed:   16.9s\n",
      "[Parallel(n_jobs=90)]: Done 1620 tasks      | elapsed:   20.9s\n",
      "[Parallel(n_jobs=90)]: Done 2270 tasks      | elapsed:   25.3s\n",
      "[Parallel(n_jobs=90)]: Done 3020 tasks      | elapsed:   30.4s\n",
      "[Parallel(n_jobs=90)]: Done 3870 tasks      | elapsed:   36.2s\n",
      "[Parallel(n_jobs=90)]: Done 4820 tasks      | elapsed:   42.7s\n",
      "[Parallel(n_jobs=90)]: Done 5870 tasks      | elapsed:   49.7s\n",
      "[Parallel(n_jobs=90)]: Done 6239 out of 6239 | elapsed:   52.6s finished\n"
     ]
    },
    {
     "name": "stdout",
     "output_type": "stream",
     "text": [
      "ON-bipolar cell\n"
     ]
    },
    {
     "name": "stderr",
     "output_type": "stream",
     "text": [
      "[Parallel(n_jobs=90)]: Using backend LokyBackend with 90 concurrent workers.\n",
      "[Parallel(n_jobs=90)]: Done  20 tasks      | elapsed:    0.5s\n",
      "[Parallel(n_jobs=90)]: Done 360 tasks      | elapsed:    3.5s\n",
      "[Parallel(n_jobs=90)]: Done 889 tasks      | elapsed:    7.2s\n",
      "[Parallel(n_jobs=90)]: Done 1340 tasks      | elapsed:   10.7s\n",
      "[Parallel(n_jobs=90)]: Done 1890 tasks      | elapsed:   15.2s\n",
      "[Parallel(n_jobs=90)]: Done 2540 tasks      | elapsed:   20.2s\n",
      "[Parallel(n_jobs=90)]: Done 3290 tasks      | elapsed:   26.0s\n",
      "[Parallel(n_jobs=90)]: Done 4140 tasks      | elapsed:   32.4s\n",
      "[Parallel(n_jobs=90)]: Done 5090 tasks      | elapsed:   39.7s\n",
      "[Parallel(n_jobs=90)]: Done 6270 out of 6270 | elapsed:   49.2s finished\n",
      "/tmp/ipykernel_59243/2853696181.py:29: FutureWarning: The frame.append method is deprecated and will be removed from pandas in a future version. Use pandas.concat instead.\n",
      "  retinal_rod_markers = retinal_rod_markers.append(differential_exp_results, ignore_index=True)\n"
     ]
    },
    {
     "name": "stdout",
     "output_type": "stream",
     "text": [
      "OFF-bipolar cell\n"
     ]
    },
    {
     "name": "stderr",
     "output_type": "stream",
     "text": [
      "[Parallel(n_jobs=90)]: Using backend LokyBackend with 90 concurrent workers.\n",
      "[Parallel(n_jobs=90)]: Done  20 tasks      | elapsed:    0.5s\n",
      "[Parallel(n_jobs=90)]: Done 360 tasks      | elapsed:    3.2s\n",
      "[Parallel(n_jobs=90)]: Done 890 tasks      | elapsed:    7.0s\n",
      "[Parallel(n_jobs=90)]: Done 1340 tasks      | elapsed:   10.4s\n",
      "[Parallel(n_jobs=90)]: Done 1890 tasks      | elapsed:   14.6s\n",
      "[Parallel(n_jobs=90)]: Done 2540 tasks      | elapsed:   19.6s\n",
      "[Parallel(n_jobs=90)]: Done 3290 tasks      | elapsed:   25.3s\n",
      "[Parallel(n_jobs=90)]: Done 4140 tasks      | elapsed:   31.6s\n",
      "[Parallel(n_jobs=90)]: Done 5090 tasks      | elapsed:   38.7s\n",
      "[Parallel(n_jobs=90)]: Done 6222 out of 6222 | elapsed:   47.6s finished\n",
      "/tmp/ipykernel_59243/2853696181.py:29: FutureWarning: The frame.append method is deprecated and will be removed from pandas in a future version. Use pandas.concat instead.\n",
      "  retinal_rod_markers = retinal_rod_markers.append(differential_exp_results, ignore_index=True)\n"
     ]
    },
    {
     "name": "stdout",
     "output_type": "stream",
     "text": [
      "Mueller cell\n"
     ]
    },
    {
     "name": "stderr",
     "output_type": "stream",
     "text": [
      "[Parallel(n_jobs=90)]: Using backend LokyBackend with 90 concurrent workers.\n",
      "[Parallel(n_jobs=90)]: Done  20 tasks      | elapsed:    0.5s\n",
      "[Parallel(n_jobs=90)]: Done 360 tasks      | elapsed:    3.3s\n",
      "[Parallel(n_jobs=90)]: Done 890 tasks      | elapsed:    6.9s\n",
      "[Parallel(n_jobs=90)]: Done 1340 tasks      | elapsed:   10.5s\n",
      "[Parallel(n_jobs=90)]: Done 1890 tasks      | elapsed:   14.5s\n",
      "[Parallel(n_jobs=90)]: Done 2540 tasks      | elapsed:   19.3s\n",
      "[Parallel(n_jobs=90)]: Done 3290 tasks      | elapsed:   24.9s\n",
      "[Parallel(n_jobs=90)]: Done 4140 tasks      | elapsed:   31.2s\n",
      "[Parallel(n_jobs=90)]: Done 5090 tasks      | elapsed:   38.3s\n",
      "[Parallel(n_jobs=90)]: Done 5651 out of 5651 | elapsed:   42.9s finished\n",
      "/tmp/ipykernel_59243/2853696181.py:29: FutureWarning: The frame.append method is deprecated and will be removed from pandas in a future version. Use pandas.concat instead.\n",
      "  retinal_rod_markers = retinal_rod_markers.append(differential_exp_results, ignore_index=True)\n"
     ]
    },
    {
     "name": "stdout",
     "output_type": "stream",
     "text": [
      "microglial cell\n"
     ]
    },
    {
     "name": "stderr",
     "output_type": "stream",
     "text": [
      "[Parallel(n_jobs=90)]: Using backend LokyBackend with 90 concurrent workers.\n",
      "[Parallel(n_jobs=90)]: Done  20 tasks      | elapsed:    0.3s\n",
      "[Parallel(n_jobs=90)]: Done 360 tasks      | elapsed:    2.5s\n",
      "[Parallel(n_jobs=90)]: Done 890 tasks      | elapsed:    5.0s\n",
      "[Parallel(n_jobs=90)]: Done 1340 tasks      | elapsed:    7.4s\n",
      "[Parallel(n_jobs=90)]: Done 1890 tasks      | elapsed:   10.3s\n",
      "[Parallel(n_jobs=90)]: Done 2540 tasks      | elapsed:   13.8s\n",
      "[Parallel(n_jobs=90)]: Done 3290 tasks      | elapsed:   17.9s\n",
      "[Parallel(n_jobs=90)]: Done 4140 tasks      | elapsed:   22.2s\n",
      "[Parallel(n_jobs=90)]: Done 4862 out of 4862 | elapsed:   26.5s finished\n",
      "/tmp/ipykernel_59243/2853696181.py:29: FutureWarning: The frame.append method is deprecated and will be removed from pandas in a future version. Use pandas.concat instead.\n",
      "  retinal_rod_markers = retinal_rod_markers.append(differential_exp_results, ignore_index=True)\n"
     ]
    },
    {
     "name": "stdout",
     "output_type": "stream",
     "text": [
      "endothelial cell\n"
     ]
    },
    {
     "name": "stderr",
     "output_type": "stream",
     "text": [
      "[Parallel(n_jobs=90)]: Using backend LokyBackend with 90 concurrent workers.\n",
      "[Parallel(n_jobs=90)]: Done  20 tasks      | elapsed:    0.4s\n",
      "[Parallel(n_jobs=90)]: Done 360 tasks      | elapsed:    2.8s\n",
      "[Parallel(n_jobs=90)]: Done 890 tasks      | elapsed:    6.0s\n",
      "[Parallel(n_jobs=90)]: Done 1340 tasks      | elapsed:    8.9s\n",
      "[Parallel(n_jobs=90)]: Done 1890 tasks      | elapsed:   12.5s\n",
      "[Parallel(n_jobs=90)]: Done 2540 tasks      | elapsed:   16.6s\n",
      "[Parallel(n_jobs=90)]: Done 3290 tasks      | elapsed:   21.5s\n",
      "[Parallel(n_jobs=90)]: Done 4140 tasks      | elapsed:   27.0s\n",
      "[Parallel(n_jobs=90)]: Done 5090 tasks      | elapsed:   32.9s\n",
      "[Parallel(n_jobs=90)]: Done 5811 out of 5811 | elapsed:   37.7s finished\n",
      "/tmp/ipykernel_59243/2853696181.py:29: FutureWarning: The frame.append method is deprecated and will be removed from pandas in a future version. Use pandas.concat instead.\n",
      "  retinal_rod_markers = retinal_rod_markers.append(differential_exp_results, ignore_index=True)\n"
     ]
    },
    {
     "name": "stdout",
     "output_type": "stream",
     "text": [
      "astrocyte\n"
     ]
    },
    {
     "name": "stderr",
     "output_type": "stream",
     "text": [
      "[Parallel(n_jobs=90)]: Using backend LokyBackend with 90 concurrent workers.\n",
      "[Parallel(n_jobs=90)]: Done  20 tasks      | elapsed:    0.3s\n",
      "[Parallel(n_jobs=90)]: Done 360 tasks      | elapsed:    2.4s\n",
      "[Parallel(n_jobs=90)]: Done 975 tasks      | elapsed:    5.3s\n",
      "[Parallel(n_jobs=90)]: Done 1430 tasks      | elapsed:    7.7s\n",
      "[Parallel(n_jobs=90)]: Done 1980 tasks      | elapsed:   10.9s\n",
      "[Parallel(n_jobs=90)]: Done 2630 tasks      | elapsed:   14.4s\n",
      "[Parallel(n_jobs=90)]: Done 3380 tasks      | elapsed:   18.4s\n",
      "[Parallel(n_jobs=90)]: Done 4230 tasks      | elapsed:   22.7s\n",
      "[Parallel(n_jobs=90)]: Done 5180 tasks      | elapsed:   27.7s\n",
      "[Parallel(n_jobs=90)]: Done 5753 out of 5753 | elapsed:   31.2s finished\n",
      "/tmp/ipykernel_59243/2853696181.py:29: FutureWarning: The frame.append method is deprecated and will be removed from pandas in a future version. Use pandas.concat instead.\n",
      "  retinal_rod_markers = retinal_rod_markers.append(differential_exp_results, ignore_index=True)\n"
     ]
    },
    {
     "name": "stdout",
     "output_type": "stream",
     "text": [
      "retinal cone cell\n"
     ]
    },
    {
     "name": "stderr",
     "output_type": "stream",
     "text": [
      "[Parallel(n_jobs=90)]: Using backend LokyBackend with 90 concurrent workers.\n",
      "[Parallel(n_jobs=90)]: Done  20 tasks      | elapsed:    0.5s\n",
      "[Parallel(n_jobs=90)]: Done 360 tasks      | elapsed:    3.5s\n",
      "[Parallel(n_jobs=90)]: Done 889 tasks      | elapsed:    7.4s\n",
      "[Parallel(n_jobs=90)]: Done 1340 tasks      | elapsed:   11.2s\n",
      "[Parallel(n_jobs=90)]: Done 1890 tasks      | elapsed:   15.7s\n",
      "[Parallel(n_jobs=90)]: Done 2540 tasks      | elapsed:   21.0s\n",
      "[Parallel(n_jobs=90)]: Done 3290 tasks      | elapsed:   27.4s\n",
      "[Parallel(n_jobs=90)]: Done 4140 tasks      | elapsed:   34.2s\n",
      "[Parallel(n_jobs=90)]: Done 5090 tasks      | elapsed:   41.8s\n",
      "[Parallel(n_jobs=90)]: Done 6140 tasks      | elapsed:   50.3s\n",
      "[Parallel(n_jobs=90)]: Done 6983 out of 6983 | elapsed:   57.2s finished\n",
      "/tmp/ipykernel_59243/2853696181.py:29: FutureWarning: The frame.append method is deprecated and will be removed from pandas in a future version. Use pandas.concat instead.\n",
      "  retinal_rod_markers = retinal_rod_markers.append(differential_exp_results, ignore_index=True)\n"
     ]
    },
    {
     "name": "stdout",
     "output_type": "stream",
     "text": [
      "glycinergic neuron\n"
     ]
    },
    {
     "name": "stderr",
     "output_type": "stream",
     "text": [
      "[Parallel(n_jobs=90)]: Using backend LokyBackend with 90 concurrent workers.\n",
      "[Parallel(n_jobs=90)]: Done  20 tasks      | elapsed:    0.4s\n",
      "[Parallel(n_jobs=90)]: Done 360 tasks      | elapsed:    2.4s\n",
      "[Parallel(n_jobs=90)]: Done 974 tasks      | elapsed:    5.7s\n",
      "[Parallel(n_jobs=90)]: Done 1430 tasks      | elapsed:    8.3s\n",
      "[Parallel(n_jobs=90)]: Done 1980 tasks      | elapsed:   11.5s\n",
      "[Parallel(n_jobs=90)]: Done 2630 tasks      | elapsed:   15.3s\n",
      "[Parallel(n_jobs=90)]: Done 3380 tasks      | elapsed:   19.6s\n",
      "[Parallel(n_jobs=90)]: Done 3984 out of 3984 | elapsed:   23.8s finished\n",
      "/tmp/ipykernel_59243/2853696181.py:29: FutureWarning: The frame.append method is deprecated and will be removed from pandas in a future version. Use pandas.concat instead.\n",
      "  retinal_rod_markers = retinal_rod_markers.append(differential_exp_results, ignore_index=True)\n"
     ]
    },
    {
     "name": "stdout",
     "output_type": "stream",
     "text": [
      "amacrine cell\n"
     ]
    },
    {
     "name": "stderr",
     "output_type": "stream",
     "text": [
      "[Parallel(n_jobs=90)]: Using backend LokyBackend with 90 concurrent workers.\n",
      "[Parallel(n_jobs=90)]: Done  20 tasks      | elapsed:    0.6s\n",
      "[Parallel(n_jobs=90)]: Done 270 tasks      | elapsed:    3.1s\n",
      "[Parallel(n_jobs=90)]: Done 620 tasks      | elapsed:    6.7s\n",
      "[Parallel(n_jobs=90)]: Done 1070 tasks      | elapsed:   11.0s\n",
      "[Parallel(n_jobs=90)]: Done 1620 tasks      | elapsed:   16.5s\n",
      "[Parallel(n_jobs=90)]: Done 2270 tasks      | elapsed:   23.0s\n",
      "[Parallel(n_jobs=90)]: Done 3020 tasks      | elapsed:   30.4s\n",
      "[Parallel(n_jobs=90)]: Done 3870 tasks      | elapsed:   38.8s\n",
      "[Parallel(n_jobs=90)]: Done 4820 tasks      | elapsed:   48.0s\n",
      "[Parallel(n_jobs=90)]: Done 5870 tasks      | elapsed:   57.8s\n",
      "[Parallel(n_jobs=90)]: Done 6410 out of 6410 | elapsed:  1.1min finished\n",
      "/tmp/ipykernel_59243/2853696181.py:29: FutureWarning: The frame.append method is deprecated and will be removed from pandas in a future version. Use pandas.concat instead.\n",
      "  retinal_rod_markers = retinal_rod_markers.append(differential_exp_results, ignore_index=True)\n"
     ]
    },
    {
     "name": "stdout",
     "output_type": "stream",
     "text": [
      "retinal ganglion cell\n"
     ]
    },
    {
     "name": "stderr",
     "output_type": "stream",
     "text": [
      "[Parallel(n_jobs=90)]: Using backend LokyBackend with 90 concurrent workers.\n",
      "[Parallel(n_jobs=90)]: Done  20 tasks      | elapsed:    0.7s\n",
      "[Parallel(n_jobs=90)]: Done 270 tasks      | elapsed:    3.0s\n",
      "[Parallel(n_jobs=90)]: Done 620 tasks      | elapsed:    6.5s\n",
      "[Parallel(n_jobs=90)]: Done 1070 tasks      | elapsed:   10.9s\n",
      "[Parallel(n_jobs=90)]: Done 1620 tasks      | elapsed:   16.5s\n",
      "[Parallel(n_jobs=90)]: Done 2270 tasks      | elapsed:   22.9s\n",
      "[Parallel(n_jobs=90)]: Done 3020 tasks      | elapsed:   30.2s\n",
      "[Parallel(n_jobs=90)]: Done 3870 tasks      | elapsed:   38.9s\n",
      "[Parallel(n_jobs=90)]: Done 4820 tasks      | elapsed:   48.4s\n",
      "[Parallel(n_jobs=90)]: Done 5870 tasks      | elapsed:   58.6s\n",
      "[Parallel(n_jobs=90)]: Done 6736 out of 6736 | elapsed:  1.1min finished\n",
      "/tmp/ipykernel_59243/2853696181.py:29: FutureWarning: The frame.append method is deprecated and will be removed from pandas in a future version. Use pandas.concat instead.\n",
      "  retinal_rod_markers = retinal_rod_markers.append(differential_exp_results, ignore_index=True)\n"
     ]
    },
    {
     "name": "stdout",
     "output_type": "stream",
     "text": [
      "retinal pigment epithelial cell\n"
     ]
    },
    {
     "name": "stderr",
     "output_type": "stream",
     "text": [
      "[Parallel(n_jobs=90)]: Using backend LokyBackend with 90 concurrent workers.\n",
      "[Parallel(n_jobs=90)]: Done  20 tasks      | elapsed:    0.3s\n",
      "[Parallel(n_jobs=90)]: Done 360 tasks      | elapsed:    2.2s\n",
      "[Parallel(n_jobs=90)]: Done 1060 tasks      | elapsed:    5.4s\n",
      "[Parallel(n_jobs=90)]: Done 1790 tasks      | elapsed:    8.7s\n",
      "[Parallel(n_jobs=90)]: Done 2340 tasks      | elapsed:   11.5s\n",
      "[Parallel(n_jobs=90)]: Done 2990 tasks      | elapsed:   14.7s\n",
      "[Parallel(n_jobs=90)]: Done 3740 tasks      | elapsed:   18.5s\n",
      "[Parallel(n_jobs=90)]: Done 4590 tasks      | elapsed:   22.5s\n",
      "[Parallel(n_jobs=90)]: Done 5540 tasks      | elapsed:   27.3s\n",
      "[Parallel(n_jobs=90)]: Done 5985 out of 5985 | elapsed:   29.8s finished\n",
      "/tmp/ipykernel_59243/2853696181.py:29: FutureWarning: The frame.append method is deprecated and will be removed from pandas in a future version. Use pandas.concat instead.\n",
      "  retinal_rod_markers = retinal_rod_markers.append(differential_exp_results, ignore_index=True)\n"
     ]
    },
    {
     "name": "stdout",
     "output_type": "stream",
     "text": [
      "glial cell\n"
     ]
    },
    {
     "name": "stderr",
     "output_type": "stream",
     "text": [
      "[Parallel(n_jobs=90)]: Using backend LokyBackend with 90 concurrent workers.\n",
      "[Parallel(n_jobs=90)]: Done  20 tasks      | elapsed:    0.7s\n",
      "[Parallel(n_jobs=90)]: Done 360 tasks      | elapsed:    3.1s\n",
      "[Parallel(n_jobs=90)]: Done 890 tasks      | elapsed:    6.6s\n",
      "[Parallel(n_jobs=90)]: Done 1340 tasks      | elapsed:    9.9s\n",
      "[Parallel(n_jobs=90)]: Done 1890 tasks      | elapsed:   14.0s\n",
      "[Parallel(n_jobs=90)]: Done 2540 tasks      | elapsed:   18.6s\n",
      "[Parallel(n_jobs=90)]: Done 3290 tasks      | elapsed:   24.0s\n",
      "[Parallel(n_jobs=90)]: Done 4140 tasks      | elapsed:   30.0s\n",
      "[Parallel(n_jobs=90)]: Done 5090 tasks      | elapsed:   36.7s\n",
      "[Parallel(n_jobs=90)]: Done 5833 out of 5833 | elapsed:   42.2s finished\n",
      "/tmp/ipykernel_59243/2853696181.py:29: FutureWarning: The frame.append method is deprecated and will be removed from pandas in a future version. Use pandas.concat instead.\n",
      "  retinal_rod_markers = retinal_rod_markers.append(differential_exp_results, ignore_index=True)\n"
     ]
    },
    {
     "name": "stdout",
     "output_type": "stream",
     "text": [
      "retinal bipolar neuron\n"
     ]
    },
    {
     "name": "stderr",
     "output_type": "stream",
     "text": [
      "[Parallel(n_jobs=90)]: Using backend LokyBackend with 90 concurrent workers.\n",
      "[Parallel(n_jobs=90)]: Done  20 tasks      | elapsed:    0.5s\n",
      "[Parallel(n_jobs=90)]: Done 360 tasks      | elapsed:    3.5s\n",
      "[Parallel(n_jobs=90)]: Done 889 tasks      | elapsed:    7.6s\n",
      "[Parallel(n_jobs=90)]: Done 1340 tasks      | elapsed:   11.2s\n",
      "[Parallel(n_jobs=90)]: Done 1890 tasks      | elapsed:   15.6s\n",
      "[Parallel(n_jobs=90)]: Done 2540 tasks      | elapsed:   20.7s\n",
      "[Parallel(n_jobs=90)]: Done 3290 tasks      | elapsed:   26.6s\n",
      "[Parallel(n_jobs=90)]: Done 4140 tasks      | elapsed:   33.7s\n",
      "[Parallel(n_jobs=90)]: Done 5090 tasks      | elapsed:   41.2s\n",
      "[Parallel(n_jobs=90)]: Done 6140 tasks      | elapsed:   49.3s\n",
      "[Parallel(n_jobs=90)]: Done 6358 out of 6358 | elapsed:   51.6s finished\n",
      "/tmp/ipykernel_59243/2853696181.py:29: FutureWarning: The frame.append method is deprecated and will be removed from pandas in a future version. Use pandas.concat instead.\n",
      "  retinal_rod_markers = retinal_rod_markers.append(differential_exp_results, ignore_index=True)\n"
     ]
    },
    {
     "name": "stdout",
     "output_type": "stream",
     "text": [
      "pigmented epithelial cell\n"
     ]
    },
    {
     "name": "stderr",
     "output_type": "stream",
     "text": [
      "[Parallel(n_jobs=90)]: Using backend LokyBackend with 90 concurrent workers.\n",
      "[Parallel(n_jobs=90)]: Done  20 tasks      | elapsed:    0.7s\n",
      "[Parallel(n_jobs=90)]: Done 360 tasks      | elapsed:    4.0s\n",
      "[Parallel(n_jobs=90)]: Done 890 tasks      | elapsed:    8.6s\n",
      "[Parallel(n_jobs=90)]: Done 1340 tasks      | elapsed:   12.6s\n",
      "[Parallel(n_jobs=90)]: Done 1890 tasks      | elapsed:   17.8s\n",
      "[Parallel(n_jobs=90)]: Done 2540 tasks      | elapsed:   23.6s\n",
      "[Parallel(n_jobs=90)]: Done 3290 tasks      | elapsed:   30.3s\n",
      "[Parallel(n_jobs=90)]: Done 4140 tasks      | elapsed:   37.8s\n",
      "[Parallel(n_jobs=90)]: Done 5090 tasks      | elapsed:   46.2s\n",
      "[Parallel(n_jobs=90)]: Done 6032 out of 6032 | elapsed:   54.2s finished\n",
      "/tmp/ipykernel_59243/2853696181.py:29: FutureWarning: The frame.append method is deprecated and will be removed from pandas in a future version. Use pandas.concat instead.\n",
      "  retinal_rod_markers = retinal_rod_markers.append(differential_exp_results, ignore_index=True)\n"
     ]
    },
    {
     "name": "stdout",
     "output_type": "stream",
     "text": [
      "melanocyte\n"
     ]
    },
    {
     "name": "stderr",
     "output_type": "stream",
     "text": [
      "[Parallel(n_jobs=90)]: Using backend LokyBackend with 90 concurrent workers.\n",
      "[Parallel(n_jobs=90)]: Done  20 tasks      | elapsed:    0.8s\n",
      "[Parallel(n_jobs=90)]: Done 360 tasks      | elapsed:    3.5s\n",
      "[Parallel(n_jobs=90)]: Done 890 tasks      | elapsed:    7.4s\n",
      "[Parallel(n_jobs=90)]: Done 1340 tasks      | elapsed:   11.1s\n",
      "[Parallel(n_jobs=90)]: Done 1890 tasks      | elapsed:   15.5s\n",
      "[Parallel(n_jobs=90)]: Done 2540 tasks      | elapsed:   20.8s\n",
      "[Parallel(n_jobs=90)]: Done 3290 tasks      | elapsed:   27.0s\n",
      "[Parallel(n_jobs=90)]: Done 4140 tasks      | elapsed:   33.9s\n",
      "[Parallel(n_jobs=90)]: Done 5090 tasks      | elapsed:   41.2s\n",
      "[Parallel(n_jobs=90)]: Done 5442 out of 5442 | elapsed:   44.0s finished\n",
      "/tmp/ipykernel_59243/2853696181.py:29: FutureWarning: The frame.append method is deprecated and will be removed from pandas in a future version. Use pandas.concat instead.\n",
      "  retinal_rod_markers = retinal_rod_markers.append(differential_exp_results, ignore_index=True)\n"
     ]
    },
    {
     "name": "stdout",
     "output_type": "stream",
     "text": [
      "fibroblast\n"
     ]
    },
    {
     "name": "stderr",
     "output_type": "stream",
     "text": [
      "[Parallel(n_jobs=90)]: Using backend LokyBackend with 90 concurrent workers.\n",
      "[Parallel(n_jobs=90)]: Done  20 tasks      | elapsed:    0.6s\n",
      "[Parallel(n_jobs=90)]: Done 360 tasks      | elapsed:    3.7s\n",
      "[Parallel(n_jobs=90)]: Done 890 tasks      | elapsed:    7.7s\n",
      "[Parallel(n_jobs=90)]: Done 1340 tasks      | elapsed:   11.4s\n",
      "[Parallel(n_jobs=90)]: Done 1890 tasks      | elapsed:   16.1s\n",
      "[Parallel(n_jobs=90)]: Done 2540 tasks      | elapsed:   21.6s\n",
      "[Parallel(n_jobs=90)]: Done 3290 tasks      | elapsed:   28.0s\n",
      "[Parallel(n_jobs=90)]: Done 4140 tasks      | elapsed:   35.0s\n",
      "[Parallel(n_jobs=90)]: Done 5090 tasks      | elapsed:   43.0s\n",
      "[Parallel(n_jobs=90)]: Done 6109 out of 6109 | elapsed:   52.0s finished\n",
      "/tmp/ipykernel_59243/2853696181.py:29: FutureWarning: The frame.append method is deprecated and will be removed from pandas in a future version. Use pandas.concat instead.\n",
      "  retinal_rod_markers = retinal_rod_markers.append(differential_exp_results, ignore_index=True)\n"
     ]
    },
    {
     "name": "stdout",
     "output_type": "stream",
     "text": [
      "macrophage\n"
     ]
    },
    {
     "name": "stderr",
     "output_type": "stream",
     "text": [
      "[Parallel(n_jobs=90)]: Using backend LokyBackend with 90 concurrent workers.\n",
      "[Parallel(n_jobs=90)]: Done  20 tasks      | elapsed:    0.4s\n",
      "[Parallel(n_jobs=90)]: Done 360 tasks      | elapsed:    3.1s\n",
      "[Parallel(n_jobs=90)]: Done 890 tasks      | elapsed:    6.6s\n",
      "[Parallel(n_jobs=90)]: Done 1340 tasks      | elapsed:    9.8s\n",
      "[Parallel(n_jobs=90)]: Done 1890 tasks      | elapsed:   13.7s\n",
      "[Parallel(n_jobs=90)]: Done 2540 tasks      | elapsed:   18.3s\n",
      "[Parallel(n_jobs=90)]: Done 3290 tasks      | elapsed:   23.5s\n",
      "[Parallel(n_jobs=90)]: Done 4140 tasks      | elapsed:   29.5s\n",
      "[Parallel(n_jobs=90)]: Done 5090 tasks      | elapsed:   36.2s\n",
      "[Parallel(n_jobs=90)]: Done 5625 out of 5625 | elapsed:   39.9s finished\n",
      "/tmp/ipykernel_59243/2853696181.py:29: FutureWarning: The frame.append method is deprecated and will be removed from pandas in a future version. Use pandas.concat instead.\n",
      "  retinal_rod_markers = retinal_rod_markers.append(differential_exp_results, ignore_index=True)\n"
     ]
    },
    {
     "name": "stdout",
     "output_type": "stream",
     "text": [
      "smooth muscle cell of sphincter of pupil\n"
     ]
    },
    {
     "name": "stderr",
     "output_type": "stream",
     "text": [
      "[Parallel(n_jobs=90)]: Using backend LokyBackend with 90 concurrent workers.\n",
      "[Parallel(n_jobs=90)]: Done  20 tasks      | elapsed:    0.3s\n",
      "[Parallel(n_jobs=90)]: Done 360 tasks      | elapsed:    2.4s\n",
      "[Parallel(n_jobs=90)]: Done 973 tasks      | elapsed:    5.8s\n",
      "[Parallel(n_jobs=90)]: Done 1430 tasks      | elapsed:    8.6s\n",
      "[Parallel(n_jobs=90)]: Done 1980 tasks      | elapsed:   11.9s\n",
      "[Parallel(n_jobs=90)]: Done 2630 tasks      | elapsed:   15.6s\n",
      "[Parallel(n_jobs=90)]: Done 3380 tasks      | elapsed:   20.0s\n",
      "[Parallel(n_jobs=90)]: Done 4230 tasks      | elapsed:   24.9s\n",
      "[Parallel(n_jobs=90)]: Done 5180 tasks      | elapsed:   30.3s\n",
      "[Parallel(n_jobs=90)]: Done 5600 out of 5600 | elapsed:   32.8s finished\n",
      "/tmp/ipykernel_59243/2853696181.py:29: FutureWarning: The frame.append method is deprecated and will be removed from pandas in a future version. Use pandas.concat instead.\n",
      "  retinal_rod_markers = retinal_rod_markers.append(differential_exp_results, ignore_index=True)\n"
     ]
    },
    {
     "name": "stdout",
     "output_type": "stream",
     "text": [
      "Schwann cell\n"
     ]
    },
    {
     "name": "stderr",
     "output_type": "stream",
     "text": [
      "[Parallel(n_jobs=90)]: Using backend LokyBackend with 90 concurrent workers.\n",
      "[Parallel(n_jobs=90)]: Done  20 tasks      | elapsed:    0.4s\n",
      "[Parallel(n_jobs=90)]: Done 360 tasks      | elapsed:    3.0s\n",
      "[Parallel(n_jobs=90)]: Done 890 tasks      | elapsed:    6.3s\n",
      "[Parallel(n_jobs=90)]: Done 1340 tasks      | elapsed:    9.4s\n",
      "[Parallel(n_jobs=90)]: Done 1890 tasks      | elapsed:   13.2s\n",
      "[Parallel(n_jobs=90)]: Done 2540 tasks      | elapsed:   17.6s\n",
      "[Parallel(n_jobs=90)]: Done 3290 tasks      | elapsed:   22.8s\n",
      "[Parallel(n_jobs=90)]: Done 4140 tasks      | elapsed:   28.6s\n",
      "[Parallel(n_jobs=90)]: Done 5188 out of 5188 | elapsed:   35.7s finished\n",
      "/tmp/ipykernel_59243/2853696181.py:29: FutureWarning: The frame.append method is deprecated and will be removed from pandas in a future version. Use pandas.concat instead.\n",
      "  retinal_rod_markers = retinal_rod_markers.append(differential_exp_results, ignore_index=True)\n"
     ]
    },
    {
     "name": "stdout",
     "output_type": "stream",
     "text": [
      "lymphocyte\n"
     ]
    },
    {
     "name": "stderr",
     "output_type": "stream",
     "text": [
      "[Parallel(n_jobs=90)]: Using backend LokyBackend with 90 concurrent workers.\n",
      "[Parallel(n_jobs=90)]: Done  20 tasks      | elapsed:    0.3s\n",
      "[Parallel(n_jobs=90)]: Done 360 tasks      | elapsed:    2.3s\n",
      "[Parallel(n_jobs=90)]: Done 974 tasks      | elapsed:    5.5s\n",
      "[Parallel(n_jobs=90)]: Done 1430 tasks      | elapsed:    8.1s\n",
      "[Parallel(n_jobs=90)]: Done 1980 tasks      | elapsed:   11.3s\n",
      "[Parallel(n_jobs=90)]: Done 2630 tasks      | elapsed:   14.7s\n",
      "[Parallel(n_jobs=90)]: Done 3380 tasks      | elapsed:   18.8s\n",
      "[Parallel(n_jobs=90)]: Done 4230 tasks      | elapsed:   23.5s\n",
      "[Parallel(n_jobs=90)]: Done 5042 out of 5042 | elapsed:   28.1s finished\n",
      "/tmp/ipykernel_59243/2853696181.py:29: FutureWarning: The frame.append method is deprecated and will be removed from pandas in a future version. Use pandas.concat instead.\n",
      "  retinal_rod_markers = retinal_rod_markers.append(differential_exp_results, ignore_index=True)\n"
     ]
    },
    {
     "name": "stdout",
     "output_type": "stream",
     "text": [
      "blood vessel endothelial cell\n"
     ]
    },
    {
     "name": "stderr",
     "output_type": "stream",
     "text": [
      "[Parallel(n_jobs=90)]: Using backend LokyBackend with 90 concurrent workers.\n",
      "[Parallel(n_jobs=90)]: Done  20 tasks      | elapsed:    0.3s\n",
      "[Parallel(n_jobs=90)]: Done 360 tasks      | elapsed:    2.3s\n",
      "[Parallel(n_jobs=90)]: Done 975 tasks      | elapsed:    5.6s\n",
      "[Parallel(n_jobs=90)]: Done 1430 tasks      | elapsed:    8.3s\n",
      "[Parallel(n_jobs=90)]: Done 1980 tasks      | elapsed:   11.4s\n",
      "[Parallel(n_jobs=90)]: Done 2630 tasks      | elapsed:   15.2s\n",
      "[Parallel(n_jobs=90)]: Done 3380 tasks      | elapsed:   19.2s\n",
      "[Parallel(n_jobs=90)]: Done 4230 tasks      | elapsed:   24.0s\n",
      "[Parallel(n_jobs=90)]: Done 5338 out of 5338 | elapsed:   30.1s finished\n",
      "/tmp/ipykernel_59243/2853696181.py:29: FutureWarning: The frame.append method is deprecated and will be removed from pandas in a future version. Use pandas.concat instead.\n",
      "  retinal_rod_markers = retinal_rod_markers.append(differential_exp_results, ignore_index=True)\n"
     ]
    },
    {
     "name": "stdout",
     "output_type": "stream",
     "text": [
      "pigmented ciliary epithelial cell\n"
     ]
    },
    {
     "name": "stderr",
     "output_type": "stream",
     "text": [
      "[Parallel(n_jobs=90)]: Using backend LokyBackend with 90 concurrent workers.\n",
      "[Parallel(n_jobs=90)]: Done  20 tasks      | elapsed:    0.4s\n",
      "[Parallel(n_jobs=90)]: Done 360 tasks      | elapsed:    3.4s\n",
      "[Parallel(n_jobs=90)]: Done 890 tasks      | elapsed:    7.4s\n",
      "[Parallel(n_jobs=90)]: Done 1340 tasks      | elapsed:   11.0s\n",
      "[Parallel(n_jobs=90)]: Done 1890 tasks      | elapsed:   15.5s\n",
      "[Parallel(n_jobs=90)]: Done 2540 tasks      | elapsed:   20.6s\n",
      "[Parallel(n_jobs=90)]: Done 3290 tasks      | elapsed:   26.8s\n",
      "[Parallel(n_jobs=90)]: Done 4140 tasks      | elapsed:   33.6s\n",
      "[Parallel(n_jobs=90)]: Done 5090 tasks      | elapsed:   41.0s\n",
      "[Parallel(n_jobs=90)]: Done 5764 out of 5764 | elapsed:   46.3s finished\n",
      "/tmp/ipykernel_59243/2853696181.py:29: FutureWarning: The frame.append method is deprecated and will be removed from pandas in a future version. Use pandas.concat instead.\n",
      "  retinal_rod_markers = retinal_rod_markers.append(differential_exp_results, ignore_index=True)\n"
     ]
    },
    {
     "name": "stdout",
     "output_type": "stream",
     "text": [
      "non-pigmented ciliary epithelial cell\n"
     ]
    },
    {
     "name": "stderr",
     "output_type": "stream",
     "text": [
      "[Parallel(n_jobs=90)]: Using backend LokyBackend with 90 concurrent workers.\n",
      "[Parallel(n_jobs=90)]: Done  20 tasks      | elapsed:    0.4s\n",
      "[Parallel(n_jobs=90)]: Done 360 tasks      | elapsed:    3.0s\n",
      "[Parallel(n_jobs=90)]: Done 889 tasks      | elapsed:    6.4s\n",
      "[Parallel(n_jobs=90)]: Done 1340 tasks      | elapsed:    9.8s\n",
      "[Parallel(n_jobs=90)]: Done 1890 tasks      | elapsed:   13.9s\n",
      "[Parallel(n_jobs=90)]: Done 2540 tasks      | elapsed:   18.4s\n",
      "[Parallel(n_jobs=90)]: Done 3290 tasks      | elapsed:   23.7s\n",
      "[Parallel(n_jobs=90)]: Done 4140 tasks      | elapsed:   29.6s\n",
      "[Parallel(n_jobs=90)]: Done 5090 tasks      | elapsed:   36.0s\n",
      "[Parallel(n_jobs=90)]: Done 6131 out of 6131 | elapsed:   42.9s finished\n",
      "/tmp/ipykernel_59243/2853696181.py:29: FutureWarning: The frame.append method is deprecated and will be removed from pandas in a future version. Use pandas.concat instead.\n",
      "  retinal_rod_markers = retinal_rod_markers.append(differential_exp_results, ignore_index=True)\n"
     ]
    },
    {
     "name": "stdout",
     "output_type": "stream",
     "text": [
      "ciliary muscle cell\n"
     ]
    },
    {
     "name": "stderr",
     "output_type": "stream",
     "text": [
      "[Parallel(n_jobs=90)]: Using backend LokyBackend with 90 concurrent workers.\n",
      "[Parallel(n_jobs=90)]: Done  20 tasks      | elapsed:    0.5s\n",
      "[Parallel(n_jobs=90)]: Done 270 tasks      | elapsed:    2.5s\n",
      "[Parallel(n_jobs=90)]: Done 620 tasks      | elapsed:    5.3s\n",
      "[Parallel(n_jobs=90)]: Done 1070 tasks      | elapsed:    8.9s\n",
      "[Parallel(n_jobs=90)]: Done 1620 tasks      | elapsed:   13.5s\n",
      "[Parallel(n_jobs=90)]: Done 2270 tasks      | elapsed:   18.7s\n",
      "[Parallel(n_jobs=90)]: Done 3020 tasks      | elapsed:   24.8s\n",
      "[Parallel(n_jobs=90)]: Done 3870 tasks      | elapsed:   31.7s\n",
      "[Parallel(n_jobs=90)]: Done 4820 tasks      | elapsed:   39.2s\n",
      "[Parallel(n_jobs=90)]: Done 5818 out of 5818 | elapsed:   47.2s finished\n",
      "/tmp/ipykernel_59243/2853696181.py:29: FutureWarning: The frame.append method is deprecated and will be removed from pandas in a future version. Use pandas.concat instead.\n",
      "  retinal_rod_markers = retinal_rod_markers.append(differential_exp_results, ignore_index=True)\n"
     ]
    },
    {
     "name": "stdout",
     "output_type": "stream",
     "text": [
      "pericyte\n"
     ]
    },
    {
     "name": "stderr",
     "output_type": "stream",
     "text": [
      "[Parallel(n_jobs=90)]: Using backend LokyBackend with 90 concurrent workers.\n",
      "[Parallel(n_jobs=90)]: Done  20 tasks      | elapsed:    0.3s\n",
      "[Parallel(n_jobs=90)]: Done 360 tasks      | elapsed:    2.4s\n",
      "[Parallel(n_jobs=90)]: Done 970 tasks      | elapsed:    5.4s\n",
      "[Parallel(n_jobs=90)]: Done 1430 tasks      | elapsed:    7.8s\n",
      "[Parallel(n_jobs=90)]: Done 1980 tasks      | elapsed:   10.9s\n",
      "[Parallel(n_jobs=90)]: Done 2630 tasks      | elapsed:   14.3s\n",
      "[Parallel(n_jobs=90)]: Done 3380 tasks      | elapsed:   18.2s\n",
      "[Parallel(n_jobs=90)]: Done 4230 tasks      | elapsed:   22.7s\n",
      "[Parallel(n_jobs=90)]: Done 5180 tasks      | elapsed:   27.6s\n",
      "[Parallel(n_jobs=90)]: Done 5764 out of 5764 | elapsed:   30.8s finished\n",
      "/tmp/ipykernel_59243/2853696181.py:29: FutureWarning: The frame.append method is deprecated and will be removed from pandas in a future version. Use pandas.concat instead.\n",
      "  retinal_rod_markers = retinal_rod_markers.append(differential_exp_results, ignore_index=True)\n"
     ]
    },
    {
     "name": "stdout",
     "output_type": "stream",
     "text": [
      "basal cell\n"
     ]
    },
    {
     "name": "stderr",
     "output_type": "stream",
     "text": [
      "[Parallel(n_jobs=90)]: Using backend LokyBackend with 90 concurrent workers.\n",
      "[Parallel(n_jobs=90)]: Done  20 tasks      | elapsed:    0.5s\n",
      "[Parallel(n_jobs=90)]: Done 360 tasks      | elapsed:    3.6s\n",
      "[Parallel(n_jobs=90)]: Done 890 tasks      | elapsed:    7.8s\n",
      "[Parallel(n_jobs=90)]: Done 1340 tasks      | elapsed:   11.5s\n",
      "[Parallel(n_jobs=90)]: Done 1890 tasks      | elapsed:   16.2s\n",
      "[Parallel(n_jobs=90)]: Done 2540 tasks      | elapsed:   21.6s\n",
      "[Parallel(n_jobs=90)]: Done 3290 tasks      | elapsed:   27.8s\n",
      "[Parallel(n_jobs=90)]: Done 4140 tasks      | elapsed:   34.8s\n",
      "[Parallel(n_jobs=90)]: Done 5090 tasks      | elapsed:   42.5s\n",
      "[Parallel(n_jobs=90)]: Done 6041 out of 6041 | elapsed:   50.3s finished\n",
      "/tmp/ipykernel_59243/2853696181.py:29: FutureWarning: The frame.append method is deprecated and will be removed from pandas in a future version. Use pandas.concat instead.\n",
      "  retinal_rod_markers = retinal_rod_markers.append(differential_exp_results, ignore_index=True)\n"
     ]
    },
    {
     "name": "stdout",
     "output_type": "stream",
     "text": [
      "corneal epithelial cell\n"
     ]
    },
    {
     "name": "stderr",
     "output_type": "stream",
     "text": [
      "[Parallel(n_jobs=90)]: Using backend LokyBackend with 90 concurrent workers.\n",
      "[Parallel(n_jobs=90)]: Done  20 tasks      | elapsed:    0.7s\n",
      "[Parallel(n_jobs=90)]: Done 360 tasks      | elapsed:    4.0s\n",
      "[Parallel(n_jobs=90)]: Done 890 tasks      | elapsed:    8.6s\n",
      "[Parallel(n_jobs=90)]: Done 1340 tasks      | elapsed:   12.7s\n",
      "[Parallel(n_jobs=90)]: Done 1890 tasks      | elapsed:   17.8s\n",
      "[Parallel(n_jobs=90)]: Done 2540 tasks      | elapsed:   23.8s\n",
      "[Parallel(n_jobs=90)]: Done 3290 tasks      | elapsed:   30.6s\n",
      "[Parallel(n_jobs=90)]: Done 4140 tasks      | elapsed:   38.5s\n",
      "[Parallel(n_jobs=90)]: Done 5090 tasks      | elapsed:   47.1s\n",
      "[Parallel(n_jobs=90)]: Done 6068 out of 6068 | elapsed:   56.0s finished\n",
      "/tmp/ipykernel_59243/2853696181.py:29: FutureWarning: The frame.append method is deprecated and will be removed from pandas in a future version. Use pandas.concat instead.\n",
      "  retinal_rod_markers = retinal_rod_markers.append(differential_exp_results, ignore_index=True)\n"
     ]
    },
    {
     "name": "stdout",
     "output_type": "stream",
     "text": [
      "corneal endothelial cell\n"
     ]
    },
    {
     "name": "stderr",
     "output_type": "stream",
     "text": [
      "[Parallel(n_jobs=90)]: Using backend LokyBackend with 90 concurrent workers.\n",
      "[Parallel(n_jobs=90)]: Done  20 tasks      | elapsed:    0.4s\n",
      "[Parallel(n_jobs=90)]: Done 360 tasks      | elapsed:    3.1s\n",
      "[Parallel(n_jobs=90)]: Done 890 tasks      | elapsed:    6.5s\n",
      "[Parallel(n_jobs=90)]: Done 1340 tasks      | elapsed:    9.8s\n",
      "[Parallel(n_jobs=90)]: Done 1890 tasks      | elapsed:   14.0s\n",
      "[Parallel(n_jobs=90)]: Done 2540 tasks      | elapsed:   18.5s\n",
      "[Parallel(n_jobs=90)]: Done 3290 tasks      | elapsed:   23.8s\n",
      "[Parallel(n_jobs=90)]: Done 4140 tasks      | elapsed:   29.7s\n",
      "[Parallel(n_jobs=90)]: Done 5090 tasks      | elapsed:   36.3s\n",
      "[Parallel(n_jobs=90)]: Done 5698 out of 5698 | elapsed:   40.4s finished\n",
      "/tmp/ipykernel_59243/2853696181.py:29: FutureWarning: The frame.append method is deprecated and will be removed from pandas in a future version. Use pandas.concat instead.\n",
      "  retinal_rod_markers = retinal_rod_markers.append(differential_exp_results, ignore_index=True)\n"
     ]
    },
    {
     "name": "stdout",
     "output_type": "stream",
     "text": [
      "transit amplifying cell\n"
     ]
    },
    {
     "name": "stderr",
     "output_type": "stream",
     "text": [
      "[Parallel(n_jobs=90)]: Using backend LokyBackend with 90 concurrent workers.\n",
      "[Parallel(n_jobs=90)]: Done  20 tasks      | elapsed:    0.7s\n",
      "[Parallel(n_jobs=90)]: Done 360 tasks      | elapsed:    2.3s\n",
      "[Parallel(n_jobs=90)]: Done 1060 tasks      | elapsed:    5.9s\n",
      "[Parallel(n_jobs=90)]: Done 1700 tasks      | elapsed:    9.0s\n",
      "[Parallel(n_jobs=90)]: Done 2250 tasks      | elapsed:   11.8s\n",
      "[Parallel(n_jobs=90)]: Done 2900 tasks      | elapsed:   15.1s\n",
      "[Parallel(n_jobs=90)]: Done 3650 tasks      | elapsed:   19.0s\n",
      "[Parallel(n_jobs=90)]: Done 4500 tasks      | elapsed:   23.2s\n",
      "[Parallel(n_jobs=90)]: Done 5450 tasks      | elapsed:   27.7s\n",
      "[Parallel(n_jobs=90)]: Done 5932 out of 5932 | elapsed:   30.2s finished\n",
      "/tmp/ipykernel_59243/2853696181.py:29: FutureWarning: The frame.append method is deprecated and will be removed from pandas in a future version. Use pandas.concat instead.\n",
      "  retinal_rod_markers = retinal_rod_markers.append(differential_exp_results, ignore_index=True)\n"
     ]
    },
    {
     "name": "stdout",
     "output_type": "stream",
     "text": [
      "leukocyte\n"
     ]
    },
    {
     "name": "stderr",
     "output_type": "stream",
     "text": [
      "[Parallel(n_jobs=90)]: Using backend LokyBackend with 90 concurrent workers.\n",
      "[Parallel(n_jobs=90)]: Done  20 tasks      | elapsed:    0.2s\n",
      "[Parallel(n_jobs=90)]: Done 360 tasks      | elapsed:    1.7s\n",
      "[Parallel(n_jobs=90)]: Done 1060 tasks      | elapsed:    4.2s\n",
      "[Parallel(n_jobs=90)]: Done 1960 tasks      | elapsed:    7.7s\n",
      "[Parallel(n_jobs=90)]: Done 3060 tasks      | elapsed:   11.8s\n",
      "[Parallel(n_jobs=90)]: Done 4172 out of 4351 | elapsed:   15.7s remaining:    0.7s\n",
      "[Parallel(n_jobs=90)]: Done 4351 out of 4351 | elapsed:   16.9s finished\n",
      "/tmp/ipykernel_59243/2853696181.py:29: FutureWarning: The frame.append method is deprecated and will be removed from pandas in a future version. Use pandas.concat instead.\n",
      "  retinal_rod_markers = retinal_rod_markers.append(differential_exp_results, ignore_index=True)\n"
     ]
    },
    {
     "name": "stdout",
     "output_type": "stream",
     "text": [
      "endothelial cell of lymphatic vessel\n"
     ]
    },
    {
     "name": "stderr",
     "output_type": "stream",
     "text": [
      "[Parallel(n_jobs=90)]: Using backend LokyBackend with 90 concurrent workers.\n",
      "[Parallel(n_jobs=90)]: Done  20 tasks      | elapsed:    0.6s\n",
      "[Parallel(n_jobs=90)]: Done 270 tasks      | elapsed:    2.0s\n",
      "[Parallel(n_jobs=90)]: Done 620 tasks      | elapsed:    4.0s\n",
      "[Parallel(n_jobs=90)]: Done 1070 tasks      | elapsed:    6.4s\n",
      "[Parallel(n_jobs=90)]: Done 1620 tasks      | elapsed:    9.7s\n",
      "[Parallel(n_jobs=90)]: Done 2270 tasks      | elapsed:   13.4s\n",
      "[Parallel(n_jobs=90)]: Done 3020 tasks      | elapsed:   17.7s\n",
      "[Parallel(n_jobs=90)]: Done 3870 tasks      | elapsed:   22.4s\n",
      "[Parallel(n_jobs=90)]: Done 4778 out of 4778 | elapsed:   27.4s finished\n",
      "/tmp/ipykernel_59243/2853696181.py:29: FutureWarning: The frame.append method is deprecated and will be removed from pandas in a future version. Use pandas.concat instead.\n",
      "  retinal_rod_markers = retinal_rod_markers.append(differential_exp_results, ignore_index=True)\n"
     ]
    },
    {
     "name": "stdout",
     "output_type": "stream",
     "text": [
      "conjunctival epithelial cell\n"
     ]
    },
    {
     "name": "stderr",
     "output_type": "stream",
     "text": [
      "[Parallel(n_jobs=90)]: Using backend LokyBackend with 90 concurrent workers.\n",
      "[Parallel(n_jobs=90)]: Done  20 tasks      | elapsed:    0.6s\n",
      "[Parallel(n_jobs=90)]: Done 270 tasks      | elapsed:    2.8s\n",
      "[Parallel(n_jobs=90)]: Done 620 tasks      | elapsed:    5.7s\n",
      "[Parallel(n_jobs=90)]: Done 1070 tasks      | elapsed:    9.5s\n",
      "[Parallel(n_jobs=90)]: Done 1620 tasks      | elapsed:   14.3s\n",
      "[Parallel(n_jobs=90)]: Done 2270 tasks      | elapsed:   19.9s\n",
      "[Parallel(n_jobs=90)]: Done 3020 tasks      | elapsed:   26.2s\n",
      "[Parallel(n_jobs=90)]: Done 3870 tasks      | elapsed:   33.5s\n",
      "[Parallel(n_jobs=90)]: Done 4820 tasks      | elapsed:   41.6s\n",
      "[Parallel(n_jobs=90)]: Done 5870 tasks      | elapsed:   50.3s\n",
      "[Parallel(n_jobs=90)]: Done 6148 out of 6148 | elapsed:   53.5s finished\n",
      "/tmp/ipykernel_59243/2853696181.py:29: FutureWarning: The frame.append method is deprecated and will be removed from pandas in a future version. Use pandas.concat instead.\n",
      "  retinal_rod_markers = retinal_rod_markers.append(differential_exp_results, ignore_index=True)\n"
     ]
    },
    {
     "name": "stdout",
     "output_type": "stream",
     "text": [
      "goblet cell\n"
     ]
    },
    {
     "name": "stderr",
     "output_type": "stream",
     "text": [
      "[Parallel(n_jobs=90)]: Using backend LokyBackend with 90 concurrent workers.\n",
      "[Parallel(n_jobs=90)]: Done  20 tasks      | elapsed:    0.6s\n",
      "[Parallel(n_jobs=90)]: Done 270 tasks      | elapsed:    1.8s\n",
      "[Parallel(n_jobs=90)]: Done 620 tasks      | elapsed:    3.6s\n",
      "[Parallel(n_jobs=90)]: Done 1070 tasks      | elapsed:    5.8s\n",
      "[Parallel(n_jobs=90)]: Done 1620 tasks      | elapsed:    8.8s\n",
      "[Parallel(n_jobs=90)]: Done 2270 tasks      | elapsed:   12.1s\n",
      "[Parallel(n_jobs=90)]: Done 3020 tasks      | elapsed:   16.2s\n",
      "[Parallel(n_jobs=90)]: Done 3870 tasks      | elapsed:   20.5s\n",
      "[Parallel(n_jobs=90)]: Done 4820 tasks      | elapsed:   25.1s\n",
      "[Parallel(n_jobs=90)]: Done 5566 out of 5566 | elapsed:   28.6s finished\n",
      "/tmp/ipykernel_59243/2853696181.py:29: FutureWarning: The frame.append method is deprecated and will be removed from pandas in a future version. Use pandas.concat instead.\n",
      "  retinal_rod_markers = retinal_rod_markers.append(differential_exp_results, ignore_index=True)\n"
     ]
    },
    {
     "name": "stdout",
     "output_type": "stream",
     "text": [
      "mast cell\n"
     ]
    },
    {
     "name": "stderr",
     "output_type": "stream",
     "text": [
      "[Parallel(n_jobs=90)]: Using backend LokyBackend with 90 concurrent workers.\n",
      "[Parallel(n_jobs=90)]: Done  20 tasks      | elapsed:    0.1s\n",
      "[Parallel(n_jobs=90)]: Done 361 tasks      | elapsed:    1.2s\n",
      "[Parallel(n_jobs=90)]: Done 1060 tasks      | elapsed:    3.2s\n",
      "[Parallel(n_jobs=90)]: Done 1960 tasks      | elapsed:    5.9s\n",
      "[Parallel(n_jobs=90)]: Done 3060 tasks      | elapsed:    9.2s\n",
      "[Parallel(n_jobs=90)]: Done 3879 out of 4058 | elapsed:   11.4s remaining:    0.5s\n",
      "[Parallel(n_jobs=90)]: Done 4058 out of 4058 | elapsed:   12.9s finished\n",
      "/tmp/ipykernel_59243/2853696181.py:29: FutureWarning: The frame.append method is deprecated and will be removed from pandas in a future version. Use pandas.concat instead.\n",
      "  retinal_rod_markers = retinal_rod_markers.append(differential_exp_results, ignore_index=True)\n"
     ]
    },
    {
     "name": "stdout",
     "output_type": "stream",
     "text": [
      "lens epithelial cell\n"
     ]
    },
    {
     "name": "stderr",
     "output_type": "stream",
     "text": [
      "[Parallel(n_jobs=90)]: Using backend LokyBackend with 90 concurrent workers.\n",
      "[Parallel(n_jobs=90)]: Done  20 tasks      | elapsed:    0.3s\n",
      "[Parallel(n_jobs=90)]: Done 360 tasks      | elapsed:    2.7s\n",
      "[Parallel(n_jobs=90)]: Done 890 tasks      | elapsed:    5.7s\n",
      "[Parallel(n_jobs=90)]: Done 1340 tasks      | elapsed:    8.5s\n",
      "[Parallel(n_jobs=90)]: Done 1890 tasks      | elapsed:   12.1s\n",
      "[Parallel(n_jobs=90)]: Done 2540 tasks      | elapsed:   16.1s\n",
      "[Parallel(n_jobs=90)]: Done 3290 tasks      | elapsed:   20.9s\n",
      "[Parallel(n_jobs=90)]: Done 4140 tasks      | elapsed:   26.1s\n",
      "[Parallel(n_jobs=90)]: Done 5090 tasks      | elapsed:   31.7s\n",
      "[Parallel(n_jobs=90)]: Done 5519 out of 5519 | elapsed:   34.4s finished\n",
      "/tmp/ipykernel_59243/2853696181.py:29: FutureWarning: The frame.append method is deprecated and will be removed from pandas in a future version. Use pandas.concat instead.\n",
      "  retinal_rod_markers = retinal_rod_markers.append(differential_exp_results, ignore_index=True)\n"
     ]
    },
    {
     "name": "stdout",
     "output_type": "stream",
     "text": [
      "anterior lens cell\n"
     ]
    },
    {
     "name": "stderr",
     "output_type": "stream",
     "text": [
      "[Parallel(n_jobs=90)]: Using backend LokyBackend with 90 concurrent workers.\n",
      "[Parallel(n_jobs=90)]: Done  20 tasks      | elapsed:    0.4s\n",
      "[Parallel(n_jobs=90)]: Done 360 tasks      | elapsed:    3.0s\n",
      "[Parallel(n_jobs=90)]: Done 890 tasks      | elapsed:    6.1s\n",
      "[Parallel(n_jobs=90)]: Done 1340 tasks      | elapsed:    9.2s\n",
      "[Parallel(n_jobs=90)]: Done 1890 tasks      | elapsed:   12.8s\n",
      "[Parallel(n_jobs=90)]: Done 2540 tasks      | elapsed:   17.2s\n",
      "[Parallel(n_jobs=90)]: Done 3290 tasks      | elapsed:   22.2s\n",
      "[Parallel(n_jobs=90)]: Done 4140 tasks      | elapsed:   27.8s\n",
      "[Parallel(n_jobs=90)]: Done 5090 tasks      | elapsed:   33.5s\n",
      "[Parallel(n_jobs=90)]: Done 5280 out of 5280 | elapsed:   34.9s finished\n",
      "/tmp/ipykernel_59243/2853696181.py:29: FutureWarning: The frame.append method is deprecated and will be removed from pandas in a future version. Use pandas.concat instead.\n",
      "  retinal_rod_markers = retinal_rod_markers.append(differential_exp_results, ignore_index=True)\n"
     ]
    },
    {
     "name": "stdout",
     "output_type": "stream",
     "text": [
      "secondary lens fiber\n"
     ]
    },
    {
     "name": "stderr",
     "output_type": "stream",
     "text": [
      "[Parallel(n_jobs=90)]: Using backend LokyBackend with 90 concurrent workers.\n",
      "[Parallel(n_jobs=90)]: Done  20 tasks      | elapsed:    0.4s\n",
      "[Parallel(n_jobs=90)]: Done 360 tasks      | elapsed:    2.5s\n",
      "[Parallel(n_jobs=90)]: Done 971 tasks      | elapsed:    5.8s\n",
      "[Parallel(n_jobs=90)]: Done 1430 tasks      | elapsed:    8.7s\n",
      "[Parallel(n_jobs=90)]: Done 1980 tasks      | elapsed:   12.0s\n",
      "[Parallel(n_jobs=90)]: Done 2630 tasks      | elapsed:   15.7s\n",
      "[Parallel(n_jobs=90)]: Done 3380 tasks      | elapsed:   20.2s\n",
      "[Parallel(n_jobs=90)]: Done 4230 tasks      | elapsed:   25.2s\n",
      "[Parallel(n_jobs=90)]: Done 5180 tasks      | elapsed:   30.6s\n",
      "[Parallel(n_jobs=90)]: Done 6174 out of 6174 | elapsed:   36.7s finished\n",
      "/tmp/ipykernel_59243/2853696181.py:29: FutureWarning: The frame.append method is deprecated and will be removed from pandas in a future version. Use pandas.concat instead.\n",
      "  retinal_rod_markers = retinal_rod_markers.append(differential_exp_results, ignore_index=True)\n"
     ]
    },
    {
     "name": "stdout",
     "output_type": "stream",
     "text": [
      "lens fiber cell\n"
     ]
    },
    {
     "name": "stderr",
     "output_type": "stream",
     "text": [
      "[Parallel(n_jobs=90)]: Using backend LokyBackend with 90 concurrent workers.\n",
      "[Parallel(n_jobs=90)]: Done  20 tasks      | elapsed:    0.3s\n",
      "[Parallel(n_jobs=90)]: Done 360 tasks      | elapsed:    2.2s\n",
      "[Parallel(n_jobs=90)]: Done 1060 tasks      | elapsed:    5.9s\n",
      "[Parallel(n_jobs=90)]: Done 1610 tasks      | elapsed:    8.5s\n",
      "[Parallel(n_jobs=90)]: Done 2160 tasks      | elapsed:   11.2s\n",
      "[Parallel(n_jobs=90)]: Done 2810 tasks      | elapsed:   14.6s\n",
      "[Parallel(n_jobs=90)]: Done 3560 tasks      | elapsed:   18.4s\n",
      "[Parallel(n_jobs=90)]: Done 4410 tasks      | elapsed:   22.9s\n",
      "[Parallel(n_jobs=90)]: Done 5360 tasks      | elapsed:   27.5s\n",
      "[Parallel(n_jobs=90)]: Done 5914 out of 5914 | elapsed:   30.7s finished\n",
      "/tmp/ipykernel_59243/2853696181.py:29: FutureWarning: The frame.append method is deprecated and will be removed from pandas in a future version. Use pandas.concat instead.\n",
      "  retinal_rod_markers = retinal_rod_markers.append(differential_exp_results, ignore_index=True)\n"
     ]
    },
    {
     "name": "stdout",
     "output_type": "stream",
     "text": [
      "mature NK T cell\n"
     ]
    },
    {
     "name": "stderr",
     "output_type": "stream",
     "text": [
      "[Parallel(n_jobs=90)]: Using backend LokyBackend with 90 concurrent workers.\n",
      "[Parallel(n_jobs=90)]: Done  20 tasks      | elapsed:    0.5s\n",
      "[Parallel(n_jobs=90)]: Done 276 tasks      | elapsed:    1.8s\n",
      "[Parallel(n_jobs=90)]: Done 970 tasks      | elapsed:    4.6s\n",
      "[Parallel(n_jobs=90)]: Done 1870 tasks      | elapsed:    8.2s\n",
      "[Parallel(n_jobs=90)]: Done 2970 tasks      | elapsed:   12.7s\n",
      "[Parallel(n_jobs=90)]: Done 3760 out of 3760 | elapsed:   16.3s finished\n",
      "/tmp/ipykernel_59243/2853696181.py:29: FutureWarning: The frame.append method is deprecated and will be removed from pandas in a future version. Use pandas.concat instead.\n",
      "  retinal_rod_markers = retinal_rod_markers.append(differential_exp_results, ignore_index=True)\n"
     ]
    },
    {
     "name": "stdout",
     "output_type": "stream",
     "text": [
      "B cell\n"
     ]
    },
    {
     "name": "stderr",
     "output_type": "stream",
     "text": [
      "[Parallel(n_jobs=90)]: Using backend LokyBackend with 90 concurrent workers.\n",
      "[Parallel(n_jobs=90)]: Done  20 tasks      | elapsed:    0.2s\n",
      "[Parallel(n_jobs=90)]: Done 360 tasks      | elapsed:    1.6s\n",
      "[Parallel(n_jobs=90)]: Done 1060 tasks      | elapsed:    4.0s\n",
      "[Parallel(n_jobs=90)]: Done 1960 tasks      | elapsed:    7.3s\n",
      "[Parallel(n_jobs=90)]: Done 3060 tasks      | elapsed:   11.2s\n",
      "[Parallel(n_jobs=90)]: Done 3825 out of 4004 | elapsed:   14.0s remaining:    0.7s\n",
      "[Parallel(n_jobs=90)]: Done 4004 out of 4004 | elapsed:   14.9s finished\n",
      "/tmp/ipykernel_59243/2853696181.py:29: FutureWarning: The frame.append method is deprecated and will be removed from pandas in a future version. Use pandas.concat instead.\n",
      "  retinal_rod_markers = retinal_rod_markers.append(differential_exp_results, ignore_index=True)\n"
     ]
    },
    {
     "name": "stdout",
     "output_type": "stream",
     "text": [
      "native cell\n"
     ]
    },
    {
     "name": "stderr",
     "output_type": "stream",
     "text": [
      "[Parallel(n_jobs=90)]: Using backend LokyBackend with 90 concurrent workers.\n",
      "[Parallel(n_jobs=90)]: Done  20 tasks      | elapsed:    0.5s\n",
      "[Parallel(n_jobs=90)]: Done 360 tasks      | elapsed:    3.0s\n",
      "[Parallel(n_jobs=90)]: Done 890 tasks      | elapsed:    6.0s\n",
      "[Parallel(n_jobs=90)]: Done 1340 tasks      | elapsed:    9.1s\n",
      "[Parallel(n_jobs=90)]: Done 1890 tasks      | elapsed:   12.7s\n",
      "[Parallel(n_jobs=90)]: Done 2540 tasks      | elapsed:   17.1s\n",
      "[Parallel(n_jobs=90)]: Done 3290 tasks      | elapsed:   22.2s\n",
      "[Parallel(n_jobs=90)]: Done 4140 tasks      | elapsed:   27.8s\n",
      "[Parallel(n_jobs=90)]: Done 5090 tasks      | elapsed:   34.0s\n",
      "[Parallel(n_jobs=90)]: Done 6140 tasks      | elapsed:   41.0s\n",
      "[Parallel(n_jobs=90)]: Done 6419 out of 6419 | elapsed:   43.4s finished\n",
      "/tmp/ipykernel_59243/2853696181.py:29: FutureWarning: The frame.append method is deprecated and will be removed from pandas in a future version. Use pandas.concat instead.\n",
      "  retinal_rod_markers = retinal_rod_markers.append(differential_exp_results, ignore_index=True)\n"
     ]
    },
    {
     "name": "stdout",
     "output_type": "stream",
     "text": [
      "macroglial cell\n"
     ]
    },
    {
     "name": "stderr",
     "output_type": "stream",
     "text": [
      "[Parallel(n_jobs=90)]: Using backend LokyBackend with 90 concurrent workers.\n",
      "[Parallel(n_jobs=90)]: Done  20 tasks      | elapsed:    0.4s\n",
      "[Parallel(n_jobs=90)]: Done 360 tasks      | elapsed:    2.6s\n",
      "[Parallel(n_jobs=90)]: Done 975 tasks      | elapsed:    6.0s\n",
      "[Parallel(n_jobs=90)]: Done 1430 tasks      | elapsed:    8.9s\n",
      "[Parallel(n_jobs=90)]: Done 1980 tasks      | elapsed:   12.3s\n",
      "[Parallel(n_jobs=90)]: Done 2630 tasks      | elapsed:   16.2s\n",
      "[Parallel(n_jobs=90)]: Done 3380 tasks      | elapsed:   20.8s\n",
      "[Parallel(n_jobs=90)]: Done 3599 out of 3599 | elapsed:   22.5s finished\n",
      "/tmp/ipykernel_59243/2853696181.py:29: FutureWarning: The frame.append method is deprecated and will be removed from pandas in a future version. Use pandas.concat instead.\n",
      "  retinal_rod_markers = retinal_rod_markers.append(differential_exp_results, ignore_index=True)\n"
     ]
    },
    {
     "name": "stdout",
     "output_type": "stream",
     "text": [
      "retinal blood vessel endothelial cell\n"
     ]
    },
    {
     "name": "stderr",
     "output_type": "stream",
     "text": [
      "[Parallel(n_jobs=90)]: Using backend LokyBackend with 90 concurrent workers.\n",
      "[Parallel(n_jobs=90)]: Done  20 tasks      | elapsed:    0.4s\n",
      "[Parallel(n_jobs=90)]: Done 360 tasks      | elapsed:    2.3s\n",
      "[Parallel(n_jobs=90)]: Done 977 tasks      | elapsed:    5.2s\n",
      "[Parallel(n_jobs=90)]: Done 1430 tasks      | elapsed:    7.8s\n",
      "[Parallel(n_jobs=90)]: Done 1980 tasks      | elapsed:   10.8s\n",
      "[Parallel(n_jobs=90)]: Done 2630 tasks      | elapsed:   14.2s\n",
      "[Parallel(n_jobs=90)]: Done 3380 tasks      | elapsed:   18.3s\n",
      "[Parallel(n_jobs=90)]: Done 4230 tasks      | elapsed:   23.0s\n",
      "[Parallel(n_jobs=90)]: Done 5180 tasks      | elapsed:   28.1s\n",
      "[Parallel(n_jobs=90)]: Done 5745 out of 5745 | elapsed:   31.7s finished\n",
      "/tmp/ipykernel_59243/2853696181.py:29: FutureWarning: The frame.append method is deprecated and will be removed from pandas in a future version. Use pandas.concat instead.\n",
      "  retinal_rod_markers = retinal_rod_markers.append(differential_exp_results, ignore_index=True)\n"
     ]
    },
    {
     "name": "stdout",
     "output_type": "stream",
     "text": [
      "rod bipolar cell\n"
     ]
    },
    {
     "name": "stderr",
     "output_type": "stream",
     "text": [
      "[Parallel(n_jobs=90)]: Using backend LokyBackend with 90 concurrent workers.\n",
      "[Parallel(n_jobs=90)]: Done  20 tasks      | elapsed:    0.4s\n",
      "[Parallel(n_jobs=90)]: Done 360 tasks      | elapsed:    2.3s\n",
      "[Parallel(n_jobs=90)]: Done 1040 tasks      | elapsed:    5.5s\n",
      "[Parallel(n_jobs=90)]: Done 1520 tasks      | elapsed:    7.9s\n",
      "[Parallel(n_jobs=90)]: Done 2070 tasks      | elapsed:   10.8s\n",
      "[Parallel(n_jobs=90)]: Done 2720 tasks      | elapsed:   14.4s\n",
      "[Parallel(n_jobs=90)]: Done 3470 tasks      | elapsed:   18.2s\n",
      "[Parallel(n_jobs=90)]: Done 4320 tasks      | elapsed:   22.5s\n",
      "[Parallel(n_jobs=90)]: Done 4705 out of 4705 | elapsed:   25.1s finished\n",
      "/tmp/ipykernel_59243/2853696181.py:29: FutureWarning: The frame.append method is deprecated and will be removed from pandas in a future version. Use pandas.concat instead.\n",
      "  retinal_rod_markers = retinal_rod_markers.append(differential_exp_results, ignore_index=True)\n"
     ]
    },
    {
     "name": "stdout",
     "output_type": "stream",
     "text": [
      "endothelial cell of vascular tree\n"
     ]
    },
    {
     "name": "stderr",
     "output_type": "stream",
     "text": [
      "[Parallel(n_jobs=90)]: Using backend LokyBackend with 90 concurrent workers.\n",
      "[Parallel(n_jobs=90)]: Done  20 tasks      | elapsed:    0.3s\n",
      "[Parallel(n_jobs=90)]: Done 360 tasks      | elapsed:    2.0s\n",
      "[Parallel(n_jobs=90)]: Done 1060 tasks      | elapsed:    5.0s\n",
      "[Parallel(n_jobs=90)]: Done 1960 tasks      | elapsed:    9.1s\n",
      "[Parallel(n_jobs=90)]: Done 3060 tasks      | elapsed:   14.0s\n",
      "[Parallel(n_jobs=90)]: Done 3800 tasks      | elapsed:   17.2s\n",
      "[Parallel(n_jobs=90)]: Done 4550 tasks      | elapsed:   20.6s\n",
      "[Parallel(n_jobs=90)]: Done 5382 out of 5382 | elapsed:   24.9s finished\n",
      "/tmp/ipykernel_59243/2853696181.py:29: FutureWarning: The frame.append method is deprecated and will be removed from pandas in a future version. Use pandas.concat instead.\n",
      "  retinal_rod_markers = retinal_rod_markers.append(differential_exp_results, ignore_index=True)\n"
     ]
    },
    {
     "name": "stdout",
     "output_type": "stream",
     "text": [
      "monocyte\n"
     ]
    },
    {
     "name": "stderr",
     "output_type": "stream",
     "text": [
      "[Parallel(n_jobs=90)]: Using backend LokyBackend with 90 concurrent workers.\n",
      "[Parallel(n_jobs=90)]: Done  20 tasks      | elapsed:    0.2s\n",
      "[Parallel(n_jobs=90)]: Done 360 tasks      | elapsed:    1.9s\n",
      "[Parallel(n_jobs=90)]: Done 1060 tasks      | elapsed:    4.7s\n",
      "[Parallel(n_jobs=90)]: Done 1960 tasks      | elapsed:    8.5s\n",
      "[Parallel(n_jobs=90)]: Done 3060 tasks      | elapsed:   13.3s\n",
      "[Parallel(n_jobs=90)]: Done 3980 tasks      | elapsed:   16.9s\n",
      "[Parallel(n_jobs=90)]: Done 4531 out of 4531 | elapsed:   20.2s finished\n",
      "/tmp/ipykernel_59243/2853696181.py:29: FutureWarning: The frame.append method is deprecated and will be removed from pandas in a future version. Use pandas.concat instead.\n",
      "  retinal_rod_markers = retinal_rod_markers.append(differential_exp_results, ignore_index=True)\n"
     ]
    },
    {
     "name": "stdout",
     "output_type": "stream",
     "text": [
      "T cell\n"
     ]
    },
    {
     "name": "stderr",
     "output_type": "stream",
     "text": [
      "[Parallel(n_jobs=90)]: Using backend LokyBackend with 90 concurrent workers.\n",
      "[Parallel(n_jobs=90)]: Done  20 tasks      | elapsed:    0.5s\n",
      "[Parallel(n_jobs=90)]: Done 270 tasks      | elapsed:    1.6s\n",
      "[Parallel(n_jobs=90)]: Done 620 tasks      | elapsed:    3.1s\n",
      "[Parallel(n_jobs=90)]: Done 1070 tasks      | elapsed:    5.1s\n",
      "[Parallel(n_jobs=90)]: Done 1620 tasks      | elapsed:    7.5s\n",
      "[Parallel(n_jobs=90)]: Done 2270 tasks      | elapsed:   10.3s\n",
      "[Parallel(n_jobs=90)]: Done 3020 tasks      | elapsed:   13.6s\n",
      "[Parallel(n_jobs=90)]: Done 3699 out of 3699 | elapsed:   16.9s finished\n",
      "/tmp/ipykernel_59243/2853696181.py:29: FutureWarning: The frame.append method is deprecated and will be removed from pandas in a future version. Use pandas.concat instead.\n",
      "  retinal_rod_markers = retinal_rod_markers.append(differential_exp_results, ignore_index=True)\n"
     ]
    },
    {
     "name": "stdout",
     "output_type": "stream",
     "text": [
      "natural killer cell\n"
     ]
    },
    {
     "name": "stderr",
     "output_type": "stream",
     "text": [
      "[Parallel(n_jobs=90)]: Using backend LokyBackend with 90 concurrent workers.\n",
      "[Parallel(n_jobs=90)]: Done  20 tasks      | elapsed:    0.2s\n",
      "[Parallel(n_jobs=90)]: Done 360 tasks      | elapsed:    1.5s\n",
      "[Parallel(n_jobs=90)]: Done 1060 tasks      | elapsed:    3.6s\n",
      "[Parallel(n_jobs=90)]: Done 1960 tasks      | elapsed:    6.6s\n",
      "[Parallel(n_jobs=90)]: Done 2865 out of 2865 | elapsed:    9.8s finished\n",
      "/tmp/ipykernel_59243/2853696181.py:29: FutureWarning: The frame.append method is deprecated and will be removed from pandas in a future version. Use pandas.concat instead.\n",
      "  retinal_rod_markers = retinal_rod_markers.append(differential_exp_results, ignore_index=True)\n"
     ]
    },
    {
     "name": "stdout",
     "output_type": "stream",
     "text": [
      "stromal cell\n"
     ]
    },
    {
     "name": "stderr",
     "output_type": "stream",
     "text": [
      "[Parallel(n_jobs=90)]: Using backend LokyBackend with 90 concurrent workers.\n",
      "[Parallel(n_jobs=90)]: Done  20 tasks      | elapsed:    0.3s\n",
      "[Parallel(n_jobs=90)]: Done 360 tasks      | elapsed:    2.0s\n",
      "[Parallel(n_jobs=90)]: Done 1060 tasks      | elapsed:    5.1s\n",
      "[Parallel(n_jobs=90)]: Done 1960 tasks      | elapsed:    9.2s\n",
      "[Parallel(n_jobs=90)]: Done 2699 tasks      | elapsed:   12.4s\n",
      "[Parallel(n_jobs=90)]: Done 3350 tasks      | elapsed:   15.7s\n",
      "[Parallel(n_jobs=90)]: Done 4100 tasks      | elapsed:   19.1s\n",
      "[Parallel(n_jobs=90)]: Done 4950 tasks      | elapsed:   23.0s\n",
      "[Parallel(n_jobs=90)]: Done 5900 tasks      | elapsed:   27.3s\n",
      "[Parallel(n_jobs=90)]: Done 6195 out of 6195 | elapsed:   30.3s finished\n",
      "/tmp/ipykernel_59243/2853696181.py:29: FutureWarning: The frame.append method is deprecated and will be removed from pandas in a future version. Use pandas.concat instead.\n",
      "  retinal_rod_markers = retinal_rod_markers.append(differential_exp_results, ignore_index=True)\n"
     ]
    },
    {
     "name": "stdout",
     "output_type": "stream",
     "text": [
      "radial glial cell\n"
     ]
    },
    {
     "name": "stderr",
     "output_type": "stream",
     "text": [
      "[Parallel(n_jobs=90)]: Using backend LokyBackend with 90 concurrent workers.\n",
      "[Parallel(n_jobs=90)]: Done  20 tasks      | elapsed:    0.3s\n",
      "[Parallel(n_jobs=90)]: Done 360 tasks      | elapsed:    2.1s\n",
      "[Parallel(n_jobs=90)]: Done 1060 tasks      | elapsed:    5.4s\n",
      "[Parallel(n_jobs=90)]: Done 1874 tasks      | elapsed:    9.0s\n",
      "[Parallel(n_jobs=90)]: Done 2430 tasks      | elapsed:   11.7s\n",
      "[Parallel(n_jobs=90)]: Done 3080 tasks      | elapsed:   14.8s\n",
      "[Parallel(n_jobs=90)]: Done 3830 tasks      | elapsed:   18.3s\n",
      "[Parallel(n_jobs=90)]: Done 4680 tasks      | elapsed:   22.4s\n",
      "[Parallel(n_jobs=90)]: Done 5630 tasks      | elapsed:   27.1s\n",
      "[Parallel(n_jobs=90)]: Done 6129 out of 6129 | elapsed:   29.8s finished\n",
      "/tmp/ipykernel_59243/2853696181.py:29: FutureWarning: The frame.append method is deprecated and will be removed from pandas in a future version. Use pandas.concat instead.\n",
      "  retinal_rod_markers = retinal_rod_markers.append(differential_exp_results, ignore_index=True)\n"
     ]
    },
    {
     "name": "stdout",
     "output_type": "stream",
     "text": [
      "fat cell\n"
     ]
    },
    {
     "name": "stderr",
     "output_type": "stream",
     "text": [
      "[Parallel(n_jobs=90)]: Using backend LokyBackend with 90 concurrent workers.\n",
      "[Parallel(n_jobs=90)]: Done  20 tasks      | elapsed:    0.2s\n",
      "[Parallel(n_jobs=90)]: Done 360 tasks      | elapsed:    1.7s\n",
      "[Parallel(n_jobs=90)]: Done 1060 tasks      | elapsed:    4.4s\n",
      "[Parallel(n_jobs=90)]: Done 1960 tasks      | elapsed:    7.9s\n",
      "[Parallel(n_jobs=90)]: Done 2789 tasks      | elapsed:   11.0s\n",
      "[Parallel(n_jobs=90)]: Done 3440 tasks      | elapsed:   13.8s\n",
      "[Parallel(n_jobs=90)]: Done 4190 tasks      | elapsed:   16.7s\n",
      "[Parallel(n_jobs=90)]: Done 5040 tasks      | elapsed:   20.1s\n",
      "[Parallel(n_jobs=90)]: Done 5650 out of 5650 | elapsed:   24.6s finished\n",
      "/tmp/ipykernel_59243/2853696181.py:29: FutureWarning: The frame.append method is deprecated and will be removed from pandas in a future version. Use pandas.concat instead.\n",
      "  retinal_rod_markers = retinal_rod_markers.append(differential_exp_results, ignore_index=True)\n"
     ]
    },
    {
     "name": "stdout",
     "output_type": "stream",
     "text": [
      "eye photoreceptor cell\n"
     ]
    },
    {
     "name": "stderr",
     "output_type": "stream",
     "text": [
      "[Parallel(n_jobs=90)]: Using backend LokyBackend with 90 concurrent workers.\n",
      "[Parallel(n_jobs=90)]: Done  20 tasks      | elapsed:    0.2s\n",
      "[Parallel(n_jobs=90)]: Done 360 tasks      | elapsed:    2.1s\n",
      "[Parallel(n_jobs=90)]: Done 1060 tasks      | elapsed:    5.3s\n",
      "[Parallel(n_jobs=90)]: Done 1960 tasks      | elapsed:    9.5s\n",
      "[Parallel(n_jobs=90)]: Done 2790 tasks      | elapsed:   13.1s\n",
      "[Parallel(n_jobs=90)]: Done 3440 tasks      | elapsed:   16.3s\n",
      "[Parallel(n_jobs=90)]: Done 4190 tasks      | elapsed:   19.9s\n",
      "[Parallel(n_jobs=90)]: Done 5040 tasks      | elapsed:   24.1s\n",
      "[Parallel(n_jobs=90)]: Done 5990 tasks      | elapsed:   28.8s\n",
      "[Parallel(n_jobs=90)]: Done 6313 out of 6313 | elapsed:   31.0s finished\n",
      "/tmp/ipykernel_59243/2853696181.py:29: FutureWarning: The frame.append method is deprecated and will be removed from pandas in a future version. Use pandas.concat instead.\n",
      "  retinal_rod_markers = retinal_rod_markers.append(differential_exp_results, ignore_index=True)\n"
     ]
    },
    {
     "name": "stdout",
     "output_type": "stream",
     "text": [
      "stem cell\n"
     ]
    },
    {
     "name": "stderr",
     "output_type": "stream",
     "text": [
      "[Parallel(n_jobs=90)]: Using backend LokyBackend with 90 concurrent workers.\n",
      "[Parallel(n_jobs=90)]: Done  20 tasks      | elapsed:    0.5s\n",
      "[Parallel(n_jobs=90)]: Done 279 tasks      | elapsed:    1.8s\n",
      "[Parallel(n_jobs=90)]: Done 970 tasks      | elapsed:    4.9s\n",
      "[Parallel(n_jobs=90)]: Done 1785 tasks      | elapsed:    8.4s\n",
      "[Parallel(n_jobs=90)]: Done 2340 tasks      | elapsed:   10.9s\n",
      "[Parallel(n_jobs=90)]: Done 2990 tasks      | elapsed:   13.9s\n",
      "[Parallel(n_jobs=90)]: Done 3740 tasks      | elapsed:   17.6s\n",
      "[Parallel(n_jobs=90)]: Done 4590 tasks      | elapsed:   21.5s\n",
      "[Parallel(n_jobs=90)]: Done 5540 tasks      | elapsed:   25.9s\n",
      "[Parallel(n_jobs=90)]: Done 5791 out of 5791 | elapsed:   28.6s finished\n",
      "/tmp/ipykernel_59243/2853696181.py:29: FutureWarning: The frame.append method is deprecated and will be removed from pandas in a future version. Use pandas.concat instead.\n",
      "  retinal_rod_markers = retinal_rod_markers.append(differential_exp_results, ignore_index=True)\n"
     ]
    },
    {
     "name": "stdout",
     "output_type": "stream",
     "text": [
      "epithelial cell of lacrimal sac\n"
     ]
    },
    {
     "name": "stderr",
     "output_type": "stream",
     "text": [
      "[Parallel(n_jobs=90)]: Using backend LokyBackend with 90 concurrent workers.\n",
      "[Parallel(n_jobs=90)]: Done  20 tasks      | elapsed:    0.2s\n",
      "[Parallel(n_jobs=90)]: Done 362 tasks      | elapsed:    1.5s\n",
      "[Parallel(n_jobs=90)]: Done 1060 tasks      | elapsed:    3.9s\n",
      "[Parallel(n_jobs=90)]: Done 2224 out of 2224 | elapsed:    8.3s finished\n",
      "/tmp/ipykernel_59243/2853696181.py:29: FutureWarning: The frame.append method is deprecated and will be removed from pandas in a future version. Use pandas.concat instead.\n",
      "  retinal_rod_markers = retinal_rod_markers.append(differential_exp_results, ignore_index=True)\n"
     ]
    },
    {
     "name": "stdout",
     "output_type": "stream",
     "text": [
      "keratocyte\n"
     ]
    },
    {
     "name": "stderr",
     "output_type": "stream",
     "text": [
      "[Parallel(n_jobs=90)]: Using backend LokyBackend with 90 concurrent workers.\n",
      "[Parallel(n_jobs=90)]: Done  20 tasks      | elapsed:    0.4s\n",
      "[Parallel(n_jobs=90)]: Done 360 tasks      | elapsed:    2.3s\n",
      "[Parallel(n_jobs=90)]: Done 971 tasks      | elapsed:    5.1s\n",
      "[Parallel(n_jobs=90)]: Done 1430 tasks      | elapsed:    7.6s\n",
      "[Parallel(n_jobs=90)]: Done 1980 tasks      | elapsed:   10.6s\n",
      "[Parallel(n_jobs=90)]: Done 2630 tasks      | elapsed:   14.1s\n",
      "[Parallel(n_jobs=90)]: Done 3380 tasks      | elapsed:   18.0s\n",
      "[Parallel(n_jobs=90)]: Done 4230 tasks      | elapsed:   22.6s\n",
      "[Parallel(n_jobs=90)]: Done 5180 tasks      | elapsed:   27.7s\n",
      "[Parallel(n_jobs=90)]: Done 5859 out of 5859 | elapsed:   31.8s finished\n",
      "/tmp/ipykernel_59243/2853696181.py:29: FutureWarning: The frame.append method is deprecated and will be removed from pandas in a future version. Use pandas.concat instead.\n",
      "  retinal_rod_markers = retinal_rod_markers.append(differential_exp_results, ignore_index=True)\n"
     ]
    },
    {
     "name": "stdout",
     "output_type": "stream",
     "text": [
      "surface ectodermal cell\n"
     ]
    },
    {
     "name": "stderr",
     "output_type": "stream",
     "text": [
      "[Parallel(n_jobs=90)]: Using backend LokyBackend with 90 concurrent workers.\n",
      "[Parallel(n_jobs=90)]: Done  20 tasks      | elapsed:    0.2s\n",
      "[Parallel(n_jobs=90)]: Done 361 tasks      | elapsed:    1.7s\n",
      "[Parallel(n_jobs=90)]: Done 1060 tasks      | elapsed:    4.3s\n",
      "[Parallel(n_jobs=90)]: Done 1960 tasks      | elapsed:    7.6s\n",
      "[Parallel(n_jobs=90)]: Done 3060 tasks      | elapsed:   11.9s\n",
      "[Parallel(n_jobs=90)]: Done 4359 tasks      | elapsed:   16.7s\n",
      "[Parallel(n_jobs=90)]: Done 4490 out of 4669 | elapsed:   17.1s remaining:    0.7s\n",
      "[Parallel(n_jobs=90)]: Done 4669 out of 4669 | elapsed:   18.2s finished\n",
      "/tmp/ipykernel_59243/2853696181.py:29: FutureWarning: The frame.append method is deprecated and will be removed from pandas in a future version. Use pandas.concat instead.\n",
      "  retinal_rod_markers = retinal_rod_markers.append(differential_exp_results, ignore_index=True)\n"
     ]
    },
    {
     "name": "stdout",
     "output_type": "stream",
     "text": [
      "dendritic cell\n"
     ]
    },
    {
     "name": "stderr",
     "output_type": "stream",
     "text": [
      "[Parallel(n_jobs=90)]: Using backend LokyBackend with 90 concurrent workers.\n",
      "[Parallel(n_jobs=90)]: Done  20 tasks      | elapsed:    0.2s\n",
      "[Parallel(n_jobs=90)]: Done 360 tasks      | elapsed:    1.7s\n",
      "[Parallel(n_jobs=90)]: Done 1060 tasks      | elapsed:    4.3s\n",
      "[Parallel(n_jobs=90)]: Done 1960 tasks      | elapsed:    7.5s\n",
      "[Parallel(n_jobs=90)]: Done 3060 tasks      | elapsed:   11.3s\n",
      "[Parallel(n_jobs=90)]: Done 3590 out of 3769 | elapsed:   13.2s remaining:    0.7s\n",
      "[Parallel(n_jobs=90)]: Done 3769 out of 3769 | elapsed:   14.3s finished\n",
      "/tmp/ipykernel_59243/2853696181.py:29: FutureWarning: The frame.append method is deprecated and will be removed from pandas in a future version. Use pandas.concat instead.\n",
      "  retinal_rod_markers = retinal_rod_markers.append(differential_exp_results, ignore_index=True)\n"
     ]
    },
    {
     "name": "stdout",
     "output_type": "stream",
     "text": [
      "plasma cell\n"
     ]
    },
    {
     "name": "stderr",
     "output_type": "stream",
     "text": [
      "[Parallel(n_jobs=90)]: Using backend LokyBackend with 90 concurrent workers.\n",
      "[Parallel(n_jobs=90)]: Done  20 tasks      | elapsed:    0.1s\n",
      "[Parallel(n_jobs=90)]: Done 361 tasks      | elapsed:    1.2s\n",
      "[Parallel(n_jobs=90)]: Done 1060 tasks      | elapsed:    3.4s\n",
      "[Parallel(n_jobs=90)]: Done 1960 tasks      | elapsed:    6.3s\n",
      "[Parallel(n_jobs=90)]: Done 2698 tasks      | elapsed:    8.3s\n",
      "[Parallel(n_jobs=90)]: Done 3329 out of 3329 | elapsed:   12.5s finished\n",
      "/tmp/ipykernel_59243/2853696181.py:29: FutureWarning: The frame.append method is deprecated and will be removed from pandas in a future version. Use pandas.concat instead.\n",
      "  retinal_rod_markers = retinal_rod_markers.append(differential_exp_results, ignore_index=True)\n"
     ]
    },
    {
     "name": "stdout",
     "output_type": "stream",
     "text": [
      "erythroid lineage cell\n"
     ]
    },
    {
     "name": "stderr",
     "output_type": "stream",
     "text": [
      "[Parallel(n_jobs=90)]: Using backend LokyBackend with 90 concurrent workers.\n",
      "[Parallel(n_jobs=90)]: Done  20 tasks      | elapsed:    0.1s\n",
      "[Parallel(n_jobs=90)]: Done 387 out of 566 | elapsed:    1.9s remaining:    0.9s\n",
      "[Parallel(n_jobs=90)]: Done 566 out of 566 | elapsed:    5.0s finished\n",
      "/tmp/ipykernel_59243/2853696181.py:29: FutureWarning: The frame.append method is deprecated and will be removed from pandas in a future version. Use pandas.concat instead.\n",
      "  retinal_rod_markers = retinal_rod_markers.append(differential_exp_results, ignore_index=True)\n"
     ]
    },
    {
     "name": "stdout",
     "output_type": "stream",
     "text": [
      "CD8-positive, alpha-beta T cell\n"
     ]
    },
    {
     "name": "stderr",
     "output_type": "stream",
     "text": [
      "[Parallel(n_jobs=90)]: Using backend LokyBackend with 90 concurrent workers.\n",
      "[Parallel(n_jobs=90)]: Done  20 tasks      | elapsed:    0.2s\n",
      "[Parallel(n_jobs=90)]: Done 360 tasks      | elapsed:    9.3s\n",
      "[Parallel(n_jobs=90)]: Done 678 out of 857 | elapsed:   15.1s remaining:    4.0s\n",
      "[Parallel(n_jobs=90)]: Done 857 out of 857 | elapsed:   21.0s finished\n",
      "/tmp/ipykernel_59243/2853696181.py:29: FutureWarning: The frame.append method is deprecated and will be removed from pandas in a future version. Use pandas.concat instead.\n",
      "  retinal_rod_markers = retinal_rod_markers.append(differential_exp_results, ignore_index=True)\n"
     ]
    },
    {
     "name": "stdout",
     "output_type": "stream",
     "text": [
      "CD4-positive, alpha-beta T cell\n"
     ]
    },
    {
     "name": "stderr",
     "output_type": "stream",
     "text": [
      "[Parallel(n_jobs=90)]: Using backend LokyBackend with 90 concurrent workers.\n",
      "[Parallel(n_jobs=90)]: Done  20 tasks      | elapsed:    0.2s\n",
      "[Parallel(n_jobs=90)]: Done 368 tasks      | elapsed:    1.5s\n",
      "[Parallel(n_jobs=90)]: Done 1061 tasks      | elapsed:    4.7s\n",
      "[Parallel(n_jobs=90)]: Done 1687 tasks      | elapsed:    7.1s\n",
      "[Parallel(n_jobs=90)]: Done 2248 tasks      | elapsed:    9.5s\n",
      "[Parallel(n_jobs=90)]: Done 2274 out of 2453 | elapsed:    9.6s remaining:    0.8s\n",
      "[Parallel(n_jobs=90)]: Done 2453 out of 2453 | elapsed:   12.6s finished\n",
      "/tmp/ipykernel_59243/2853696181.py:29: FutureWarning: The frame.append method is deprecated and will be removed from pandas in a future version. Use pandas.concat instead.\n",
      "  retinal_rod_markers = retinal_rod_markers.append(differential_exp_results, ignore_index=True)\n"
     ]
    }
   ],
   "source": [
    "retinal_rod_markers = pd.DataFrame()\n",
    "cell_type_query = \"retinal rod cell\"\n",
    "for cell_type_target in adata.obs.cell_type.drop_duplicates():\n",
    "    \n",
    "    if cell_type_target == cell_type_query:\n",
    "        continue\n",
    "    \n",
    "    print(cell_type_target)\n",
    "    \n",
    "    # Set groupings\n",
    "    adata.obs[cell_type_target] = adata.obs.cell_type == cell_type_query\n",
    "    adata.obs[cell_type_target] = adata.obs[cell_type_target] * 1\n",
    "    \n",
    "    # Run differential gene expression\n",
    "    differential_exp_results = memento.binary_test_1d(\n",
    "        adata=adata[adata.obs.cell_type.isin([cell_type_target, cell_type_query]),], \n",
    "        capture_rate=0.07, \n",
    "        treatment_col=cell_type_target, \n",
    "        num_cpus=90,\n",
    "        num_boot=5000\n",
    "    )\n",
    "    \n",
    "    # Retain columns of interest and rename them for future joining\n",
    "    differential_exp_results = differential_exp_results[[\"gene\", \"de_coef\", \"de_pval\", \"de_se\"]]\n",
    "    \n",
    "    if retinal_rod_markers.shape == (0,0):\n",
    "        retinal_rod_markers = differential_exp_results\n",
    "    else:\n",
    "        retinal_rod_markers = retinal_rod_markers.append(differential_exp_results, ignore_index=True)"
   ]
  },
  {
   "cell_type": "markdown",
   "metadata": {},
   "source": [
    "Now order genes based on quantile 0.1"
   ]
  },
  {
   "cell_type": "code",
   "execution_count": 9,
   "metadata": {},
   "outputs": [
    {
     "data": {
      "text/html": [
       "<div>\n",
       "<style scoped>\n",
       "    .dataframe tbody tr th:only-of-type {\n",
       "        vertical-align: middle;\n",
       "    }\n",
       "\n",
       "    .dataframe tbody tr th {\n",
       "        vertical-align: top;\n",
       "    }\n",
       "\n",
       "    .dataframe thead th {\n",
       "        text-align: right;\n",
       "    }\n",
       "</style>\n",
       "<table border=\"1\" class=\"dataframe\">\n",
       "  <thead>\n",
       "    <tr style=\"text-align: right;\">\n",
       "      <th></th>\n",
       "      <th>gene</th>\n",
       "      <th>de_coef</th>\n",
       "      <th>de_pval</th>\n",
       "      <th>de_se</th>\n",
       "    </tr>\n",
       "  </thead>\n",
       "  <tbody>\n",
       "    <tr>\n",
       "      <th>0</th>\n",
       "      <td>RP4-669L17.4</td>\n",
       "      <td>0.195224</td>\n",
       "      <td>1.056152e-04</td>\n",
       "      <td>0.027794</td>\n",
       "    </tr>\n",
       "    <tr>\n",
       "      <th>1</th>\n",
       "      <td>LINC01409</td>\n",
       "      <td>0.023214</td>\n",
       "      <td>2.607479e-01</td>\n",
       "      <td>0.020120</td>\n",
       "    </tr>\n",
       "    <tr>\n",
       "      <th>2</th>\n",
       "      <td>SAMD11</td>\n",
       "      <td>2.328720</td>\n",
       "      <td>3.748820e-09</td>\n",
       "      <td>0.024257</td>\n",
       "    </tr>\n",
       "    <tr>\n",
       "      <th>3</th>\n",
       "      <td>NOC2L</td>\n",
       "      <td>-0.346713</td>\n",
       "      <td>1.998120e-04</td>\n",
       "      <td>0.018692</td>\n",
       "    </tr>\n",
       "    <tr>\n",
       "      <th>4</th>\n",
       "      <td>C1orf159</td>\n",
       "      <td>-0.669621</td>\n",
       "      <td>3.709827e-05</td>\n",
       "      <td>0.021069</td>\n",
       "    </tr>\n",
       "    <tr>\n",
       "      <th>...</th>\n",
       "      <td>...</td>\n",
       "      <td>...</td>\n",
       "      <td>...</td>\n",
       "      <td>...</td>\n",
       "    </tr>\n",
       "    <tr>\n",
       "      <th>320985</th>\n",
       "      <td>OTX2</td>\n",
       "      <td>1.176769</td>\n",
       "      <td>4.599080e-03</td>\n",
       "      <td>0.525220</td>\n",
       "    </tr>\n",
       "    <tr>\n",
       "      <th>320986</th>\n",
       "      <td>CTD-2368P22.1</td>\n",
       "      <td>0.093074</td>\n",
       "      <td>6.798640e-01</td>\n",
       "      <td>0.538497</td>\n",
       "    </tr>\n",
       "    <tr>\n",
       "      <th>320987</th>\n",
       "      <td>PCBP1-AS1</td>\n",
       "      <td>0.240299</td>\n",
       "      <td>6.366727e-01</td>\n",
       "      <td>0.665562</td>\n",
       "    </tr>\n",
       "    <tr>\n",
       "      <th>320988</th>\n",
       "      <td>MAB21L1</td>\n",
       "      <td>-1.138486</td>\n",
       "      <td>2.799440e-03</td>\n",
       "      <td>0.304808</td>\n",
       "    </tr>\n",
       "    <tr>\n",
       "      <th>320989</th>\n",
       "      <td>LINC02275</td>\n",
       "      <td>0.152882</td>\n",
       "      <td>6.870626e-01</td>\n",
       "      <td>0.538244</td>\n",
       "    </tr>\n",
       "  </tbody>\n",
       "</table>\n",
       "<p>320990 rows × 4 columns</p>\n",
       "</div>"
      ],
      "text/plain": [
       "                 gene   de_coef       de_pval     de_se\n",
       "0        RP4-669L17.4  0.195224  1.056152e-04  0.027794\n",
       "1           LINC01409  0.023214  2.607479e-01  0.020120\n",
       "2              SAMD11  2.328720  3.748820e-09  0.024257\n",
       "3               NOC2L -0.346713  1.998120e-04  0.018692\n",
       "4            C1orf159 -0.669621  3.709827e-05  0.021069\n",
       "...               ...       ...           ...       ...\n",
       "320985           OTX2  1.176769  4.599080e-03  0.525220\n",
       "320986  CTD-2368P22.1  0.093074  6.798640e-01  0.538497\n",
       "320987      PCBP1-AS1  0.240299  6.366727e-01  0.665562\n",
       "320988        MAB21L1 -1.138486  2.799440e-03  0.304808\n",
       "320989      LINC02275  0.152882  6.870626e-01  0.538244\n",
       "\n",
       "[320990 rows x 4 columns]"
      ]
     },
     "execution_count": 9,
     "metadata": {},
     "output_type": "execute_result"
    }
   ],
   "source": [
    "retinal_rod_markers"
   ]
  },
  {
   "cell_type": "code",
   "execution_count": 23,
   "metadata": {},
   "outputs": [],
   "source": [
    "retinal_rod_markers_summarized = retinal_rod_markers.groupby(\"gene\").agg(lambda x: np.quantile(x, 0.1))"
   ]
  },
  {
   "cell_type": "markdown",
   "metadata": {},
   "source": [
    "Top 25, they look well under Gene Expression and some of them are shared with the ones identified by Gene Expression"
   ]
  },
  {
   "cell_type": "code",
   "execution_count": 20,
   "metadata": {},
   "outputs": [
    {
     "name": "stdout",
     "output_type": "stream",
     "text": [
      "RP11-35J10.5, PDE6A, EYS, RP11-171L9.1, SAG, USH2A, PDE6G, WFDC10B, NRL, RHO, RP11-103J8.1, RCVRN, ROM1, GNGT1, PCDH15, GNAT1, RP11-754N21.1, SLC24A1, HCN1, CNGA1, RP11-90C1.1, ARMC9, KCTD7, RP1, PDE6B\n"
     ]
    }
   ],
   "source": [
    "print(*list(retinal_rod_markers_summarized.sort_values(\"de_coef\", ascending=False).head(25).index), sep = \", \")"
   ]
  },
  {
   "cell_type": "markdown",
   "metadata": {},
   "source": [
    "![](./eye.png)"
   ]
  },
  {
   "cell_type": "markdown",
   "metadata": {},
   "source": [
    "## Find Marker Genes (SCRAN-inspired) for ALL cell types\n",
    "\n",
    "Let's do all cell types vs each other cell type. First perform all comparions across other cell types."
   ]
  },
  {
   "cell_type": "code",
   "execution_count": null,
   "metadata": {},
   "outputs": [],
   "source": [
    "all_markers = {}\n",
    "all_cell_types = adata.obs.cell_type.drop_duplicates()\n",
    "total_cell_types = len(all_cell_types)\n",
    "n = 1\n",
    "for cell_type_query in all_cell_types:\n",
    "    print(\"Current cell type\", n, \":\", cell_type_query)\n",
    "    current_markers = pd.DataFrame()\n",
    "    for cell_type_target in adata.obs.cell_type.drop_duplicates():\n",
    "\n",
    "        if cell_type_target == cell_type_query:\n",
    "            continue\n",
    "\n",
    "        # Set groupings\n",
    "        adata.obs[cell_type_target] = adata.obs.cell_type == cell_type_query\n",
    "        adata.obs[cell_type_target] = adata.obs[cell_type_target] * 1\n",
    "\n",
    "        # Run differential gene expression\n",
    "        differential_exp_results = memento.binary_test_1d(\n",
    "            adata=adata[adata.obs.cell_type.isin([cell_type_target, cell_type_query]),], \n",
    "            capture_rate=0.07, \n",
    "            treatment_col=cell_type_target, \n",
    "            num_cpus=90,\n",
    "            num_boot=5000\n",
    "        )\n",
    "\n",
    "        # Retain columns of interest and rename them for future joining\n",
    "        differential_exp_results = differential_exp_results[[\"gene\", \"de_coef\", \"de_pval\", \"de_se\"]]\n",
    "\n",
    "        if current_markers.shape == (0,0):\n",
    "            current_markers = differential_exp_results\n",
    "        else:\n",
    "            current_markers = current_markers.append(differential_exp_results, ignore_index=True)\n",
    "    \n",
    "    # Calculate the 0.1 percentile for each gene across comparisons\n",
    "    current_markers = current_markers.groupby(\"gene\").agg(lambda x: np.quantile(x, 0.1))\n",
    "    current_markers[\"cell_type\"] = cell_type_query\n",
    "    all_markers[cell_type_query] = current_markers"
   ]
  },
  {
   "cell_type": "code",
   "execution_count": 40,
   "metadata": {},
   "outputs": [],
   "source": [
    "all_markers_consolidated = pd.concat(all_markers.values(), ignore_index = False )"
   ]
  },
  {
   "cell_type": "code",
   "execution_count": 59,
   "metadata": {},
   "outputs": [
    {
     "name": "stdout",
     "output_type": "stream",
     "text": [
      "TTR, RPE65, SLC16A8, BEST1, RBP1, SLC22A8, PRDM16-DT, TMEM98, LINC00276, INPP5K, SERPINF1, SLC16A14, LRAT, SFRP5, LINC02159, RDH5, CTSD, ITGB8, SLC16A3, KCNJ13, PITPNA, CSPG5, PTGDS, IFITM10, TPRN\n"
     ]
    }
   ],
   "source": [
    "all_markers_consolidated.sort_values(\"de_coef\", ascending=False).head(25)\n",
    "cell_type = 'retinal pigment epithelial cell'\n",
    "top_25 = all_markers_consolidated.query(f\"cell_type == '{cell_type}'\").sort_values(\"de_coef\", ascending=False).head(25)\n",
    "print(*list(top_25.index), sep = \", \")"
   ]
  },
  {
   "cell_type": "code",
   "execution_count": 58,
   "metadata": {},
   "outputs": [
    {
     "data": {
      "text/html": [
       "<div>\n",
       "<style scoped>\n",
       "    .dataframe tbody tr th:only-of-type {\n",
       "        vertical-align: middle;\n",
       "    }\n",
       "\n",
       "    .dataframe tbody tr th {\n",
       "        vertical-align: top;\n",
       "    }\n",
       "\n",
       "    .dataframe thead th {\n",
       "        text-align: right;\n",
       "    }\n",
       "</style>\n",
       "<table border=\"1\" class=\"dataframe\">\n",
       "  <thead>\n",
       "    <tr style=\"text-align: right;\">\n",
       "      <th></th>\n",
       "      <th>de_coef</th>\n",
       "      <th>de_pval</th>\n",
       "      <th>de_se</th>\n",
       "      <th>cell_type</th>\n",
       "    </tr>\n",
       "    <tr>\n",
       "      <th>gene</th>\n",
       "      <th></th>\n",
       "      <th></th>\n",
       "      <th></th>\n",
       "      <th></th>\n",
       "    </tr>\n",
       "  </thead>\n",
       "  <tbody>\n",
       "    <tr>\n",
       "      <th>HBB</th>\n",
       "      <td>8.959019</td>\n",
       "      <td>5.812335e-10</td>\n",
       "      <td>0.092343</td>\n",
       "      <td>erythroid lineage cell</td>\n",
       "    </tr>\n",
       "    <tr>\n",
       "      <th>HBA2</th>\n",
       "      <td>8.554856</td>\n",
       "      <td>4.809925e-10</td>\n",
       "      <td>0.114799</td>\n",
       "      <td>erythroid lineage cell</td>\n",
       "    </tr>\n",
       "    <tr>\n",
       "      <th>HBA1</th>\n",
       "      <td>7.776886</td>\n",
       "      <td>1.687857e-08</td>\n",
       "      <td>0.124033</td>\n",
       "      <td>erythroid lineage cell</td>\n",
       "    </tr>\n",
       "    <tr>\n",
       "      <th>MUC5AC</th>\n",
       "      <td>6.848498</td>\n",
       "      <td>2.045492e-05</td>\n",
       "      <td>0.284006</td>\n",
       "      <td>goblet cell</td>\n",
       "    </tr>\n",
       "    <tr>\n",
       "      <th>DGAT2</th>\n",
       "      <td>5.930711</td>\n",
       "      <td>6.788103e-05</td>\n",
       "      <td>0.353516</td>\n",
       "      <td>fat cell</td>\n",
       "    </tr>\n",
       "    <tr>\n",
       "      <th>SCGB2A1</th>\n",
       "      <td>5.532811</td>\n",
       "      <td>3.970476e-08</td>\n",
       "      <td>0.193530</td>\n",
       "      <td>stromal cell</td>\n",
       "    </tr>\n",
       "    <tr>\n",
       "      <th>LACRT</th>\n",
       "      <td>5.506518</td>\n",
       "      <td>2.609889e-08</td>\n",
       "      <td>0.176430</td>\n",
       "      <td>stromal cell</td>\n",
       "    </tr>\n",
       "    <tr>\n",
       "      <th>RP11-554D15.3</th>\n",
       "      <td>5.460024</td>\n",
       "      <td>1.318281e-07</td>\n",
       "      <td>0.087348</td>\n",
       "      <td>lens fiber cell</td>\n",
       "    </tr>\n",
       "    <tr>\n",
       "      <th>RP11-434D9.1</th>\n",
       "      <td>5.353935</td>\n",
       "      <td>3.755857e-11</td>\n",
       "      <td>0.023825</td>\n",
       "      <td>retinal cone cell</td>\n",
       "    </tr>\n",
       "    <tr>\n",
       "      <th>JCHAIN</th>\n",
       "      <td>5.346495</td>\n",
       "      <td>4.919280e-08</td>\n",
       "      <td>0.220009</td>\n",
       "      <td>plasma cell</td>\n",
       "    </tr>\n",
       "    <tr>\n",
       "      <th>TTR</th>\n",
       "      <td>5.310630</td>\n",
       "      <td>1.330610e-11</td>\n",
       "      <td>0.049112</td>\n",
       "      <td>retinal pigment epithelial cell</td>\n",
       "    </tr>\n",
       "    <tr>\n",
       "      <th>SCGB1D1</th>\n",
       "      <td>5.298812</td>\n",
       "      <td>1.034397e-07</td>\n",
       "      <td>0.210101</td>\n",
       "      <td>stromal cell</td>\n",
       "    </tr>\n",
       "    <tr>\n",
       "      <th>PRR4</th>\n",
       "      <td>5.274738</td>\n",
       "      <td>1.142323e-09</td>\n",
       "      <td>0.072723</td>\n",
       "      <td>stromal cell</td>\n",
       "    </tr>\n",
       "    <tr>\n",
       "      <th>ALAS2</th>\n",
       "      <td>4.937653</td>\n",
       "      <td>6.981801e-04</td>\n",
       "      <td>0.603443</td>\n",
       "      <td>erythroid lineage cell</td>\n",
       "    </tr>\n",
       "    <tr>\n",
       "      <th>RP11-554D15.1</th>\n",
       "      <td>4.909278</td>\n",
       "      <td>1.590612e-09</td>\n",
       "      <td>0.060996</td>\n",
       "      <td>lens fiber cell</td>\n",
       "    </tr>\n",
       "    <tr>\n",
       "      <th>RPE65</th>\n",
       "      <td>4.909016</td>\n",
       "      <td>2.898548e-08</td>\n",
       "      <td>0.036722</td>\n",
       "      <td>retinal pigment epithelial cell</td>\n",
       "    </tr>\n",
       "    <tr>\n",
       "      <th>MYL1</th>\n",
       "      <td>4.898534</td>\n",
       "      <td>2.263704e-03</td>\n",
       "      <td>1.168778</td>\n",
       "      <td>CD4-positive, alpha-beta T cell</td>\n",
       "    </tr>\n",
       "    <tr>\n",
       "      <th>SLC16A8</th>\n",
       "      <td>4.800638</td>\n",
       "      <td>1.788616e-05</td>\n",
       "      <td>0.085202</td>\n",
       "      <td>retinal pigment epithelial cell</td>\n",
       "    </tr>\n",
       "    <tr>\n",
       "      <th>HTN1</th>\n",
       "      <td>4.562132</td>\n",
       "      <td>6.294716e-07</td>\n",
       "      <td>0.172504</td>\n",
       "      <td>stromal cell</td>\n",
       "    </tr>\n",
       "    <tr>\n",
       "      <th>CA1</th>\n",
       "      <td>4.545411</td>\n",
       "      <td>3.892631e-07</td>\n",
       "      <td>0.266161</td>\n",
       "      <td>erythroid lineage cell</td>\n",
       "    </tr>\n",
       "    <tr>\n",
       "      <th>MUCL1</th>\n",
       "      <td>4.539224</td>\n",
       "      <td>3.054602e-05</td>\n",
       "      <td>0.573917</td>\n",
       "      <td>fat cell</td>\n",
       "    </tr>\n",
       "    <tr>\n",
       "      <th>NPHP3-AS1</th>\n",
       "      <td>4.489578</td>\n",
       "      <td>4.091950e-07</td>\n",
       "      <td>0.165340</td>\n",
       "      <td>lens fiber cell</td>\n",
       "    </tr>\n",
       "    <tr>\n",
       "      <th>ATP5F1E</th>\n",
       "      <td>4.464770</td>\n",
       "      <td>1.128522e-05</td>\n",
       "      <td>0.249454</td>\n",
       "      <td>CD8-positive, alpha-beta T cell</td>\n",
       "    </tr>\n",
       "    <tr>\n",
       "      <th>BEST1</th>\n",
       "      <td>4.443950</td>\n",
       "      <td>3.271615e-10</td>\n",
       "      <td>0.035430</td>\n",
       "      <td>retinal pigment epithelial cell</td>\n",
       "    </tr>\n",
       "    <tr>\n",
       "      <th>PIP</th>\n",
       "      <td>4.441058</td>\n",
       "      <td>6.945072e-11</td>\n",
       "      <td>0.094042</td>\n",
       "      <td>stromal cell</td>\n",
       "    </tr>\n",
       "  </tbody>\n",
       "</table>\n",
       "</div>"
      ],
      "text/plain": [
       "                de_coef       de_pval     de_se  \\\n",
       "gene                                              \n",
       "HBB            8.959019  5.812335e-10  0.092343   \n",
       "HBA2           8.554856  4.809925e-10  0.114799   \n",
       "HBA1           7.776886  1.687857e-08  0.124033   \n",
       "MUC5AC         6.848498  2.045492e-05  0.284006   \n",
       "DGAT2          5.930711  6.788103e-05  0.353516   \n",
       "SCGB2A1        5.532811  3.970476e-08  0.193530   \n",
       "LACRT          5.506518  2.609889e-08  0.176430   \n",
       "RP11-554D15.3  5.460024  1.318281e-07  0.087348   \n",
       "RP11-434D9.1   5.353935  3.755857e-11  0.023825   \n",
       "JCHAIN         5.346495  4.919280e-08  0.220009   \n",
       "TTR            5.310630  1.330610e-11  0.049112   \n",
       "SCGB1D1        5.298812  1.034397e-07  0.210101   \n",
       "PRR4           5.274738  1.142323e-09  0.072723   \n",
       "ALAS2          4.937653  6.981801e-04  0.603443   \n",
       "RP11-554D15.1  4.909278  1.590612e-09  0.060996   \n",
       "RPE65          4.909016  2.898548e-08  0.036722   \n",
       "MYL1           4.898534  2.263704e-03  1.168778   \n",
       "SLC16A8        4.800638  1.788616e-05  0.085202   \n",
       "HTN1           4.562132  6.294716e-07  0.172504   \n",
       "CA1            4.545411  3.892631e-07  0.266161   \n",
       "MUCL1          4.539224  3.054602e-05  0.573917   \n",
       "NPHP3-AS1      4.489578  4.091950e-07  0.165340   \n",
       "ATP5F1E        4.464770  1.128522e-05  0.249454   \n",
       "BEST1          4.443950  3.271615e-10  0.035430   \n",
       "PIP            4.441058  6.945072e-11  0.094042   \n",
       "\n",
       "                                     cell_type  \n",
       "gene                                            \n",
       "HBB                     erythroid lineage cell  \n",
       "HBA2                    erythroid lineage cell  \n",
       "HBA1                    erythroid lineage cell  \n",
       "MUC5AC                             goblet cell  \n",
       "DGAT2                                 fat cell  \n",
       "SCGB2A1                           stromal cell  \n",
       "LACRT                             stromal cell  \n",
       "RP11-554D15.3                  lens fiber cell  \n",
       "RP11-434D9.1                 retinal cone cell  \n",
       "JCHAIN                             plasma cell  \n",
       "TTR            retinal pigment epithelial cell  \n",
       "SCGB1D1                           stromal cell  \n",
       "PRR4                              stromal cell  \n",
       "ALAS2                   erythroid lineage cell  \n",
       "RP11-554D15.1                  lens fiber cell  \n",
       "RPE65          retinal pigment epithelial cell  \n",
       "MYL1           CD4-positive, alpha-beta T cell  \n",
       "SLC16A8        retinal pigment epithelial cell  \n",
       "HTN1                              stromal cell  \n",
       "CA1                     erythroid lineage cell  \n",
       "MUCL1                                 fat cell  \n",
       "NPHP3-AS1                      lens fiber cell  \n",
       "ATP5F1E        CD8-positive, alpha-beta T cell  \n",
       "BEST1          retinal pigment epithelial cell  \n",
       "PIP                               stromal cell  "
      ]
     },
     "execution_count": 58,
     "metadata": {},
     "output_type": "execute_result"
    }
   ],
   "source": [
    "all_markers_consolidated.sort_values(\"de_coef\", ascending=False).head(25)"
   ]
  },
  {
   "cell_type": "code",
   "execution_count": 27,
   "metadata": {},
   "outputs": [],
   "source": [
    "import pickle\n",
    "file_name = 'markers.pkl'\n",
    "\n",
    "with open(file_name, 'wb') as file:\n",
    "    pickle.dump(all_markers, file)"
   ]
  },
  {
   "cell_type": "markdown",
   "metadata": {},
   "source": [
    "## Disorder code"
   ]
  },
  {
   "cell_type": "code",
   "execution_count": null,
   "metadata": {},
   "outputs": [],
   "source": [
    "adata.obs.cell_type.isin([cell_type_target, cell_type_query])"
   ]
  },
  {
   "cell_type": "code",
   "execution_count": null,
   "metadata": {},
   "outputs": [],
   "source": [
    "adata.var.loc[genes,cell_type_interest + \"de_coef\"] = list(differential_exp_results[\"de_coef\"])\n",
    "differential_exp_results[\"de_coef\"]\n",
    "adata.var.loc[genes, cell_type_interest + \"de_coef\"]"
   ]
  },
  {
   "cell_type": "code",
   "execution_count": null,
   "metadata": {},
   "outputs": [],
   "source": [
    "adata.obs[\"dataset_id_cat\"] = pd.Categorical(adata.obs.dataset_id)\n",
    "adata.obs[\"dataset_id_cat\"] = adata.obs[\"dataset_id_cat\"].cat.codes\n",
    "\n",
    "differential_exp_results = memento.binary_test_1d(\n",
    "    adata=adata, \n",
    "    capture_rate=0.07, \n",
    "    treatment_col='differential_grouping', \n",
    "    num_cpus=90,\n",
    "    num_boot=5000,\n",
    "    covariate=\"dataset_id_cat\")"
   ]
  },
  {
   "cell_type": "code",
   "execution_count": null,
   "metadata": {},
   "outputs": [],
   "source": [
    "adata.var_names"
   ]
  },
  {
   "cell_type": "code",
   "execution_count": 60,
   "metadata": {},
   "outputs": [],
   "source": [
    "census.close()"
   ]
  },
  {
   "cell_type": "code",
   "execution_count": null,
   "metadata": {},
   "outputs": [],
   "source": []
  }
 ],
 "metadata": {
  "kernelspec": {
   "display_name": "Python 3 (ipykernel)",
   "language": "python",
   "name": "python3"
  },
  "language_info": {
   "codemirror_mode": {
    "name": "ipython",
    "version": 3
   },
   "file_extension": ".py",
   "mimetype": "text/x-python",
   "name": "python",
   "nbconvert_exporter": "python",
   "pygments_lexer": "ipython3",
   "version": "3.10.6"
  },
  "vscode": {
   "interpreter": {
    "hash": "3da8ec1c162cd849e59e6ea2824b2e353dce799884e910aae99411be5277f953"
   }
  }
 },
 "nbformat": 4,
 "nbformat_minor": 2
}
